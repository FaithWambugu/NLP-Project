{
 "cells": [
  {
   "cell_type": "markdown",
   "id": "ed6d4087",
   "metadata": {},
   "source": [
    "# Sentimental Analysis of Apple and Google Tweets for Third-Party Tech Distributors\n",
    "## Business Understanding\n",
    "In the recent years, the global smartphone market remained highly competitive, with major brands such as Apple and Google continuing to dominate innovation and customer engagement discussions online.\n",
    "\n",
    "However, third-party tech distributors, who rely on these brands' public image to drive sales, often lack accessible tools to automatically analyze global customer sentiment.\n",
    "\n",
    "This limitation makes it difficult for them to gauge market trends, anticipate product reception, or adjust inventory and marketing strategies in real time.\n",
    "\n",
    "By performing sentiment  analysis on tweets related to Apple and Google products, this project aims to provide real-time insights into how consumers perceive these brands, enabling distributors to make data-driven decisions that align with evolving market sentiments.\n",
    "\n",
    "### Key Challenges Faced by Third-Party Distributors\n",
    "1. Limited visibility into global public sentiments towards the products they sell(Apple, Google).\n",
    "2. Dependence on manual research and online reviews that are often outdated  or subjective.\n",
    "3. Difficulty identifying sentiment trends after major product releases or controversies\n",
    "4. Lack of predictive insights to guide marketing, stock, and pricing decisions.\n",
    "\n",
    "### Stakeholders\n",
    "1. **Third-Party Distributors and Retailers**: Rely on sentiment data to understand market perception, adjust marketing and manage pproduct portifolios.\n",
    "2. **Marketing Teams**: Monitor shifts in brand sentiments to align promotions or partnerships.\n",
    "3. **Product Analysts**: Track performance of specific products and flag potential reputation risks.\n",
    "4. **Executive Leadership**: Use sentiment trends to guide strategic product stocking and investment.\n",
    "\n",
    "### Problem Statement\n",
    "Third-party tech distributors play a crucial role in connecting manufacturers like Apple and Google with global consumers. However, these distributors often lack accessible, domain-specific sentiment analysis tools that can automatically monitor and interpret public opinions about the products they sell.\n",
    "\n",
    "As a result, many rely on manual market research, delayed reports, or fragmented feedback to understand customer attitudes, limiting their ability to make timely, data-driven decisions about marketing, inventory, and partnerships.\n",
    "\n",
    "This project seeks to bridge the gap by:\n",
    "1. Developing an NLP-based sentiment analysis model that classifies tweets about Apple and Google products as positive, negative, or neutral.\n",
    "2. Deploying the model in a user-friendly web application that provides real-time sentiment insights.\n",
    "3. Empowering distributors to track brand perception, respond quickly to market trends, and make more informed business decisions.\n",
    "\n",
    "### Objectives\n",
    "1. To build an NLP model capable of classifying tweets into sentiment categories(positive, negative, neutral)\n",
    "2. To identify sentiment patterns and trends across brands(Apple vs Gooogle)\n",
    "3. To deploy a user-friendly Streamlit web application for real-time sentiment monitoring.\n",
    "4. To generate insights that support distributors' marketing, pricing and inventory strategies.\n",
    "\n",
    "### Metrics of Success\n",
    "This project will be considered successful if:\n",
    "1. The trained model achieves reliable performance on unseen test data.\n",
    "2. Sentiment predctions are interpretable and align with human-labeled examples.\n",
    "3. Business insights are actionable and understandable to non-technical users\n",
    "4. The Streamit app runs smoothly, with:\n",
    "   - Accuracy score >= 80% on test data\n",
    "   - F1-Score >= 0.80 for sentiment classification\n",
    "   - User-friendly dashboard summarizing key results"
   ]
  },
  {
   "cell_type": "markdown",
   "id": "76228f3e",
   "metadata": {},
   "source": [
    "## Data Understanding \n",
    "To analyze consumer sentiments toward Apple and Google products, we are using the **CrowdFlower Brands and Product Emotions** dataset, sourced from **data.world**. \n",
    "\n",
    "This dataset contains **9,093 Tweets** collected from Twitter now X, where human annotators labeled whether each tweet expresses an emotion directed at a specific brand or product.\n",
    "\n",
    "The dataset provides a reliable foundation for developing a Natural Language Processing(NLP) model capable of understanding how consumers express opinions about major technology brands.\n",
    "\n",
    "Below is an overview of the dataset and its structure:\n",
    "1. `tweet_text` : The raw text of the tweet. This is the primary input used for sentiment classification and NLP modeling.\n",
    "2. `emotion_in_tweet_is directed_at` : The specific brand or product that the tweet's refer to. This column helps identify relevant tweets for Apple and Google.\n",
    "3. `is_there_an_emotion_directed_at_a_brand_or_product`: The sentiment label assogned to the tweet, indicating the emotional polarity expressed towards the mentioned brand. It can either be **Positive emotion, Negative emotion**, and sometimes **No emotion**\n",
    "\n",
    "### Data Summary\n",
    "1. **Total Records**: 9,093 tweets\n",
    "2. **Columns**: 3\n",
    "3. **Target Variable**: `is_there_an_emotion_directed_at_a_brand_or_product`\n",
    "4. **Missing Values**: Some Tweets do not specify a brand or product under `emotion_in_tweet_is directed_at`\n",
    "5. **Data Type**: All features are stored as object type.\n",
    "\n",
    "### Data Relevance\n",
    "This dataset is highly relevant because it captures authentic, user-generated opinions about real-world products and brands. For third-party tech distributors, such insights are critical for:\n",
    "1. Understanding consumer perception trends for Apple and Google Products.\n",
    "2. Tracking how positive or negative sentiments shift after major product releases or events.\n",
    "3. Supporting data-driven marketing and stocking decisions aligned with brand reputation.\n",
    "\n",
    "Overall, this dataset provides a solid basis for building and deploying a sentiment analysis application that empowers distributors to monitor brand perception and respond to shifts in consumer sentiments in real time."
   ]
  },
  {
   "cell_type": "code",
   "execution_count": 60,
   "id": "befe2c7e",
   "metadata": {},
   "outputs": [
    {
     "name": "stderr",
     "output_type": "stream",
     "text": [
      "[nltk_data] Downloading package punkt to\n",
      "[nltk_data]     C:\\Users\\user\\AppData\\Roaming\\nltk_data...\n",
      "[nltk_data]   Package punkt is already up-to-date!\n",
      "[nltk_data] Downloading package stopwords to\n",
      "[nltk_data]     C:\\Users\\user\\AppData\\Roaming\\nltk_data...\n",
      "[nltk_data]   Package stopwords is already up-to-date!\n",
      "[nltk_data] Downloading package wordnet to\n",
      "[nltk_data]     C:\\Users\\user\\AppData\\Roaming\\nltk_data...\n",
      "[nltk_data]   Package wordnet is already up-to-date!\n",
      "[nltk_data] Downloading package punkt_tab to\n",
      "[nltk_data]     C:\\Users\\user\\AppData\\Roaming\\nltk_data...\n",
      "[nltk_data]   Package punkt_tab is already up-to-date!\n"
     ]
    }
   ],
   "source": [
    "#Load the libraries\n",
    "\n",
    "import pandas as pd\n",
    "import numpy as np \n",
    "import matplotlib.pyplot as plt\n",
    "import seaborn as sns\n",
    "import re\n",
    "\n",
    "import nltk\n",
    "nltk.download('punkt')\n",
    "nltk.download('stopwords')\n",
    "nltk.download('wordnet')\n",
    "nltk.download('punkt_tab')\n",
    "\n",
    "\n",
    "from nltk.tokenize import word_tokenize\n",
    "from nltk.corpus import stopwords\n",
    "from nltk.stem import WordNetLemmatizer, PorterStemmer\n",
    "\n",
    "\n",
    "from sklearn.model_selection import train_test_split, GridSearchCV, RandomizedSearchCV\n",
    "from sklearn.feature_extraction.text import TfidfVectorizer, CountVectorizer\n",
    "from sklearn.linear_model import LogisticRegression\n",
    "from sklearn.tree import DecisionTreeClassifier\n",
    "from sklearn.ensemble import RandomForestClassifier\n",
    "from scipy.stats import randint\n",
    "from sklearn.metrics import accuracy_score, classification_report, confusion_matrix\n",
    "\n",
    "import warnings\n",
    "warnings.filterwarnings('ignore')"
   ]
  },
  {
   "cell_type": "code",
   "execution_count": 61,
   "id": "66f4020b",
   "metadata": {},
   "outputs": [
    {
     "data": {
      "text/html": [
       "<div>\n",
       "<style scoped>\n",
       "    .dataframe tbody tr th:only-of-type {\n",
       "        vertical-align: middle;\n",
       "    }\n",
       "\n",
       "    .dataframe tbody tr th {\n",
       "        vertical-align: top;\n",
       "    }\n",
       "\n",
       "    .dataframe thead th {\n",
       "        text-align: right;\n",
       "    }\n",
       "</style>\n",
       "<table border=\"1\" class=\"dataframe\">\n",
       "  <thead>\n",
       "    <tr style=\"text-align: right;\">\n",
       "      <th></th>\n",
       "      <th>tweet_text</th>\n",
       "      <th>emotion_in_tweet_is_directed_at</th>\n",
       "      <th>is_there_an_emotion_directed_at_a_brand_or_product</th>\n",
       "    </tr>\n",
       "  </thead>\n",
       "  <tbody>\n",
       "    <tr>\n",
       "      <th>0</th>\n",
       "      <td>.@wesley83 I have a 3G iPhone. After 3 hrs twe...</td>\n",
       "      <td>iPhone</td>\n",
       "      <td>Negative emotion</td>\n",
       "    </tr>\n",
       "    <tr>\n",
       "      <th>1</th>\n",
       "      <td>@jessedee Know about @fludapp ? Awesome iPad/i...</td>\n",
       "      <td>iPad or iPhone App</td>\n",
       "      <td>Positive emotion</td>\n",
       "    </tr>\n",
       "    <tr>\n",
       "      <th>2</th>\n",
       "      <td>@swonderlin Can not wait for #iPad 2 also. The...</td>\n",
       "      <td>iPad</td>\n",
       "      <td>Positive emotion</td>\n",
       "    </tr>\n",
       "    <tr>\n",
       "      <th>3</th>\n",
       "      <td>@sxsw I hope this year's festival isn't as cra...</td>\n",
       "      <td>iPad or iPhone App</td>\n",
       "      <td>Negative emotion</td>\n",
       "    </tr>\n",
       "    <tr>\n",
       "      <th>4</th>\n",
       "      <td>@sxtxstate great stuff on Fri #SXSW: Marissa M...</td>\n",
       "      <td>Google</td>\n",
       "      <td>Positive emotion</td>\n",
       "    </tr>\n",
       "  </tbody>\n",
       "</table>\n",
       "</div>"
      ],
      "text/plain": [
       "                                          tweet_text  \\\n",
       "0  .@wesley83 I have a 3G iPhone. After 3 hrs twe...   \n",
       "1  @jessedee Know about @fludapp ? Awesome iPad/i...   \n",
       "2  @swonderlin Can not wait for #iPad 2 also. The...   \n",
       "3  @sxsw I hope this year's festival isn't as cra...   \n",
       "4  @sxtxstate great stuff on Fri #SXSW: Marissa M...   \n",
       "\n",
       "  emotion_in_tweet_is_directed_at  \\\n",
       "0                          iPhone   \n",
       "1              iPad or iPhone App   \n",
       "2                            iPad   \n",
       "3              iPad or iPhone App   \n",
       "4                          Google   \n",
       "\n",
       "  is_there_an_emotion_directed_at_a_brand_or_product  \n",
       "0                                   Negative emotion  \n",
       "1                                   Positive emotion  \n",
       "2                                   Positive emotion  \n",
       "3                                   Negative emotion  \n",
       "4                                   Positive emotion  "
      ]
     },
     "execution_count": 61,
     "metadata": {},
     "output_type": "execute_result"
    }
   ],
   "source": [
    "#Load the dataset \n",
    "data = pd.read_csv(\"judge-1377884607_tweet_product_company.csv\", encoding=\"latin1\")\n",
    "data.head()\n"
   ]
  },
  {
   "cell_type": "code",
   "execution_count": 62,
   "id": "44b51223",
   "metadata": {},
   "outputs": [
    {
     "name": "stdout",
     "output_type": "stream",
     "text": [
      "<class 'pandas.core.frame.DataFrame'>\n",
      "RangeIndex: 9093 entries, 0 to 9092\n",
      "Data columns (total 3 columns):\n",
      " #   Column                                              Non-Null Count  Dtype \n",
      "---  ------                                              --------------  ----- \n",
      " 0   tweet_text                                          9092 non-null   object\n",
      " 1   emotion_in_tweet_is_directed_at                     3291 non-null   object\n",
      " 2   is_there_an_emotion_directed_at_a_brand_or_product  9093 non-null   object\n",
      "dtypes: object(3)\n",
      "memory usage: 213.2+ KB\n"
     ]
    }
   ],
   "source": [
    "data.info()"
   ]
  },
  {
   "cell_type": "markdown",
   "id": "b679321b",
   "metadata": {},
   "source": [
    "Observation:\n",
    "- The dataset primarily consists of text data(object type) across all columns.\n",
    "- The column `emotion_in_tweet_is_directed_at` has many missing values only 3,291 out of 9,093 entries are non-null.\n",
    "-The `tweet-text` column has only 1 missing value, which will be handled during cleaning.\n",
    "- The dataset seems manageable in size as well."
   ]
  },
  {
   "cell_type": "code",
   "execution_count": 63,
   "id": "ece0069c",
   "metadata": {},
   "outputs": [
    {
     "data": {
      "text/html": [
       "<div>\n",
       "<style scoped>\n",
       "    .dataframe tbody tr th:only-of-type {\n",
       "        vertical-align: middle;\n",
       "    }\n",
       "\n",
       "    .dataframe tbody tr th {\n",
       "        vertical-align: top;\n",
       "    }\n",
       "\n",
       "    .dataframe thead th {\n",
       "        text-align: right;\n",
       "    }\n",
       "</style>\n",
       "<table border=\"1\" class=\"dataframe\">\n",
       "  <thead>\n",
       "    <tr style=\"text-align: right;\">\n",
       "      <th></th>\n",
       "      <th>tweet_text</th>\n",
       "      <th>emotion_in_tweet_is_directed_at</th>\n",
       "      <th>is_there_an_emotion_directed_at_a_brand_or_product</th>\n",
       "    </tr>\n",
       "  </thead>\n",
       "  <tbody>\n",
       "    <tr>\n",
       "      <th>9088</th>\n",
       "      <td>Ipad everywhere. #SXSW {link}</td>\n",
       "      <td>iPad</td>\n",
       "      <td>Positive emotion</td>\n",
       "    </tr>\n",
       "    <tr>\n",
       "      <th>9089</th>\n",
       "      <td>Wave, buzz... RT @mention We interrupt your re...</td>\n",
       "      <td>NaN</td>\n",
       "      <td>No emotion toward brand or product</td>\n",
       "    </tr>\n",
       "    <tr>\n",
       "      <th>9090</th>\n",
       "      <td>Google's Zeiger, a physician never reported po...</td>\n",
       "      <td>NaN</td>\n",
       "      <td>No emotion toward brand or product</td>\n",
       "    </tr>\n",
       "    <tr>\n",
       "      <th>9091</th>\n",
       "      <td>Some Verizon iPhone customers complained their...</td>\n",
       "      <td>NaN</td>\n",
       "      <td>No emotion toward brand or product</td>\n",
       "    </tr>\n",
       "    <tr>\n",
       "      <th>9092</th>\n",
       "      <td>Ï¡Ïàü_ÊÎÒ£Áââ_£â_ÛâRT @...</td>\n",
       "      <td>NaN</td>\n",
       "      <td>No emotion toward brand or product</td>\n",
       "    </tr>\n",
       "  </tbody>\n",
       "</table>\n",
       "</div>"
      ],
      "text/plain": [
       "                                             tweet_text  \\\n",
       "9088                      Ipad everywhere. #SXSW {link}   \n",
       "9089  Wave, buzz... RT @mention We interrupt your re...   \n",
       "9090  Google's Zeiger, a physician never reported po...   \n",
       "9091  Some Verizon iPhone customers complained their...   \n",
       "9092  Ï¡Ïàü_ÊÎÒ£Áââ_£â_ÛâRT @...   \n",
       "\n",
       "     emotion_in_tweet_is_directed_at  \\\n",
       "9088                            iPad   \n",
       "9089                             NaN   \n",
       "9090                             NaN   \n",
       "9091                             NaN   \n",
       "9092                             NaN   \n",
       "\n",
       "     is_there_an_emotion_directed_at_a_brand_or_product  \n",
       "9088                                   Positive emotion  \n",
       "9089                 No emotion toward brand or product  \n",
       "9090                 No emotion toward brand or product  \n",
       "9091                 No emotion toward brand or product  \n",
       "9092                 No emotion toward brand or product  "
      ]
     },
     "execution_count": 63,
     "metadata": {},
     "output_type": "execute_result"
    }
   ],
   "source": [
    "#Check the last rows\n",
    "data.tail()"
   ]
  },
  {
   "cell_type": "markdown",
   "id": "5458bcf4",
   "metadata": {},
   "source": [
    "The dataset values appear uniform from top to bottom."
   ]
  },
  {
   "cell_type": "code",
   "execution_count": 64,
   "id": "eed6d0d0",
   "metadata": {},
   "outputs": [
    {
     "name": "stdout",
     "output_type": "stream",
     "text": [
      "The dataset has 9093 rows and 3 columns.\n"
     ]
    }
   ],
   "source": [
    "#Check shape\n",
    "print(f\"The dataset has {data.shape[0]} rows and {data.shape[1]} columns.\")"
   ]
  },
  {
   "cell_type": "code",
   "execution_count": 65,
   "id": "05ff5937",
   "metadata": {},
   "outputs": [
    {
     "name": "stdout",
     "output_type": "stream",
     "text": [
      "tweet_text                                               1\n",
      "emotion_in_tweet_is_directed_at                       5802\n",
      "is_there_an_emotion_directed_at_a_brand_or_product       0\n",
      "dtype: int64\n",
      "22\n"
     ]
    }
   ],
   "source": [
    "# Check missing values and duplicates\n",
    "print(data.isna().sum())\n",
    "print(data.duplicated().sum())"
   ]
  },
  {
   "cell_type": "code",
   "execution_count": 66,
   "id": "edb50d71",
   "metadata": {},
   "outputs": [
    {
     "data": {
      "text/html": [
       "<div>\n",
       "<style scoped>\n",
       "    .dataframe tbody tr th:only-of-type {\n",
       "        vertical-align: middle;\n",
       "    }\n",
       "\n",
       "    .dataframe tbody tr th {\n",
       "        vertical-align: top;\n",
       "    }\n",
       "\n",
       "    .dataframe thead th {\n",
       "        text-align: right;\n",
       "    }\n",
       "</style>\n",
       "<table border=\"1\" class=\"dataframe\">\n",
       "  <thead>\n",
       "    <tr style=\"text-align: right;\">\n",
       "      <th></th>\n",
       "      <th>tweet_text</th>\n",
       "      <th>emotion_in_tweet_is_directed_at</th>\n",
       "      <th>is_there_an_emotion_directed_at_a_brand_or_product</th>\n",
       "    </tr>\n",
       "  </thead>\n",
       "  <tbody>\n",
       "    <tr>\n",
       "      <th>count</th>\n",
       "      <td>9092</td>\n",
       "      <td>3291</td>\n",
       "      <td>9093</td>\n",
       "    </tr>\n",
       "    <tr>\n",
       "      <th>unique</th>\n",
       "      <td>9065</td>\n",
       "      <td>9</td>\n",
       "      <td>4</td>\n",
       "    </tr>\n",
       "    <tr>\n",
       "      <th>top</th>\n",
       "      <td>RT @mention Marissa Mayer: Google Will Connect...</td>\n",
       "      <td>iPad</td>\n",
       "      <td>No emotion toward brand or product</td>\n",
       "    </tr>\n",
       "    <tr>\n",
       "      <th>freq</th>\n",
       "      <td>5</td>\n",
       "      <td>946</td>\n",
       "      <td>5389</td>\n",
       "    </tr>\n",
       "  </tbody>\n",
       "</table>\n",
       "</div>"
      ],
      "text/plain": [
       "                                               tweet_text  \\\n",
       "count                                                9092   \n",
       "unique                                               9065   \n",
       "top     RT @mention Marissa Mayer: Google Will Connect...   \n",
       "freq                                                    5   \n",
       "\n",
       "       emotion_in_tweet_is_directed_at  \\\n",
       "count                             3291   \n",
       "unique                               9   \n",
       "top                               iPad   \n",
       "freq                               946   \n",
       "\n",
       "       is_there_an_emotion_directed_at_a_brand_or_product  \n",
       "count                                                9093  \n",
       "unique                                                  4  \n",
       "top                    No emotion toward brand or product  \n",
       "freq                                                 5389  "
      ]
     },
     "execution_count": 66,
     "metadata": {},
     "output_type": "execute_result"
    }
   ],
   "source": [
    "data.describe(include='object')"
   ]
  },
  {
   "cell_type": "markdown",
   "id": "65262cd1",
   "metadata": {},
   "source": [
    "Observation:\n",
    "- The dataset is dominated by tweets without strong emotions towards a brand/product.\n",
    "- Only a subset of tweets approximately 36%(3,291 out of 9,083) tweets express an emotion directed at a brand.\n",
    "- The presence of duplicates and missing values confirms that data cleaning will be required before modeling."
   ]
  },
  {
   "cell_type": "code",
   "execution_count": 67,
   "id": "6c7cbaa1",
   "metadata": {},
   "outputs": [
    {
     "name": "stdout",
     "output_type": "stream",
     "text": [
      "tweet_text 9065\n",
      "emotion_in_tweet_is_directed_at 9\n",
      "is_there_an_emotion_directed_at_a_brand_or_product 4\n"
     ]
    }
   ],
   "source": [
    "# Check Unique values per column\n",
    "for col in data.columns:\n",
    "    print(col,data[col].nunique())\n"
   ]
  },
  {
   "cell_type": "markdown",
   "id": "fa9048fa",
   "metadata": {},
   "source": [
    "Observation:\n",
    "\n",
    "The dataset contains;\n",
    "- 9,065 unique tweet texts, indicating minimal duplication in tweet content.\n",
    "- 9 unique values in the `emotion_in_tweet_is_directed_at` column, representing different brands or products mentioned in the tweets.\n",
    "- 4 unique values in the `is_there_an_emotion_directed_at_a_brand_or_product` column, showing the possible emotion labels assigned to each tweet."
   ]
  },
  {
   "cell_type": "code",
   "execution_count": 68,
   "id": "d4a5e13c",
   "metadata": {},
   "outputs": [
    {
     "data": {
      "text/plain": [
       "is_there_an_emotion_directed_at_a_brand_or_product\n",
       "No emotion toward brand or product    5389\n",
       "Positive emotion                      2978\n",
       "Negative emotion                       570\n",
       "I can't tell                           156\n",
       "Name: count, dtype: int64"
      ]
     },
     "execution_count": 68,
     "metadata": {},
     "output_type": "execute_result"
    }
   ],
   "source": [
    "#Check value counts for key columns\n",
    "data[\"is_there_an_emotion_directed_at_a_brand_or_product\"].value_counts()"
   ]
  },
  {
   "cell_type": "markdown",
   "id": "3af1da2f",
   "metadata": {},
   "source": [
    "- Most tweets(5,389) express no emotion toward a brand or product.\n",
    "- 2,978 tweets show positive emotion while 570 are negative\n",
    "- A small number(156) are uncertain(I can't tell) indicating a class imbalance, with \"No emotion\" being the dominant category."
   ]
  },
  {
   "cell_type": "code",
   "execution_count": 69,
   "id": "225d220a",
   "metadata": {},
   "outputs": [
    {
     "data": {
      "text/plain": [
       "emotion_in_tweet_is_directed_at\n",
       "iPad                               946\n",
       "Apple                              661\n",
       "iPad or iPhone App                 470\n",
       "Google                             430\n",
       "iPhone                             297\n",
       "Other Google product or service    293\n",
       "Android App                         81\n",
       "Android                             78\n",
       "Other Apple product or service      35\n",
       "Name: count, dtype: int64"
      ]
     },
     "execution_count": 69,
     "metadata": {},
     "output_type": "execute_result"
    }
   ],
   "source": [
    "data[\"emotion_in_tweet_is_directed_at\"].value_counts()"
   ]
  },
  {
   "cell_type": "markdown",
   "id": "7e076024",
   "metadata": {},
   "source": [
    "Among Apple-related products, the most mentioned are:\n",
    "- **iPad**(946), **Apple**(661), **iPad or iPhone App**(470), **iphone**(297), **Other Apple product or service**(35)\n",
    "\n",
    "Among Google-related products, the mentions are:\n",
    "- **Google**(430), **Other Google product or service**(293), **Android App**(81), **Android**(78)\n",
    "\n",
    "Overall, Apple products are mentioned more frequently than Google products, which indicates a slight skew toward Apple-related tweets, and should be addressed during modeling."
   ]
  },
  {
   "cell_type": "markdown",
   "id": "79325fc1",
   "metadata": {},
   "source": [
    "## Data Preparation\n",
    "### Data Cleaning"
   ]
  },
  {
   "cell_type": "code",
   "execution_count": 70,
   "id": "05a2bcf4",
   "metadata": {},
   "outputs": [
    {
     "name": "stdout",
     "output_type": "stream",
     "text": [
      "<class 'pandas.core.frame.DataFrame'>\n",
      "RangeIndex: 9093 entries, 0 to 9092\n",
      "Data columns (total 3 columns):\n",
      " #   Column                                              Non-Null Count  Dtype \n",
      "---  ------                                              --------------  ----- \n",
      " 0   tweet_text                                          9092 non-null   object\n",
      " 1   emotion_in_tweet_is_directed_at                     3291 non-null   object\n",
      " 2   is_there_an_emotion_directed_at_a_brand_or_product  9093 non-null   object\n",
      "dtypes: object(3)\n",
      "memory usage: 213.2+ KB\n"
     ]
    }
   ],
   "source": [
    "# Create a copy\n",
    "df = data.copy(deep=True)\n",
    "df.info()"
   ]
  },
  {
   "cell_type": "code",
   "execution_count": 71,
   "id": "72e4985a",
   "metadata": {},
   "outputs": [
    {
     "name": "stdout",
     "output_type": "stream",
     "text": [
      "Columns after renaming: ['text', 'brand', 'sentiment']\n"
     ]
    },
    {
     "data": {
      "text/html": [
       "<div>\n",
       "<style scoped>\n",
       "    .dataframe tbody tr th:only-of-type {\n",
       "        vertical-align: middle;\n",
       "    }\n",
       "\n",
       "    .dataframe tbody tr th {\n",
       "        vertical-align: top;\n",
       "    }\n",
       "\n",
       "    .dataframe thead th {\n",
       "        text-align: right;\n",
       "    }\n",
       "</style>\n",
       "<table border=\"1\" class=\"dataframe\">\n",
       "  <thead>\n",
       "    <tr style=\"text-align: right;\">\n",
       "      <th></th>\n",
       "      <th>text</th>\n",
       "      <th>brand</th>\n",
       "      <th>sentiment</th>\n",
       "    </tr>\n",
       "  </thead>\n",
       "  <tbody>\n",
       "    <tr>\n",
       "      <th>0</th>\n",
       "      <td>.@wesley83 I have a 3G iPhone. After 3 hrs twe...</td>\n",
       "      <td>iPhone</td>\n",
       "      <td>Negative emotion</td>\n",
       "    </tr>\n",
       "    <tr>\n",
       "      <th>1</th>\n",
       "      <td>@jessedee Know about @fludapp ? Awesome iPad/i...</td>\n",
       "      <td>iPad or iPhone App</td>\n",
       "      <td>Positive emotion</td>\n",
       "    </tr>\n",
       "    <tr>\n",
       "      <th>2</th>\n",
       "      <td>@swonderlin Can not wait for #iPad 2 also. The...</td>\n",
       "      <td>iPad</td>\n",
       "      <td>Positive emotion</td>\n",
       "    </tr>\n",
       "  </tbody>\n",
       "</table>\n",
       "</div>"
      ],
      "text/plain": [
       "                                                text               brand  \\\n",
       "0  .@wesley83 I have a 3G iPhone. After 3 hrs twe...              iPhone   \n",
       "1  @jessedee Know about @fludapp ? Awesome iPad/i...  iPad or iPhone App   \n",
       "2  @swonderlin Can not wait for #iPad 2 also. The...                iPad   \n",
       "\n",
       "          sentiment  \n",
       "0  Negative emotion  \n",
       "1  Positive emotion  \n",
       "2  Positive emotion  "
      ]
     },
     "execution_count": 71,
     "metadata": {},
     "output_type": "execute_result"
    }
   ],
   "source": [
    "# Column renaming to simplify later analysis and code readability, we will rename the columns.\n",
    "df = df.rename(columns={\n",
    "    'tweet_text': 'text',\n",
    "    'emotion_in_tweet_is_directed_at': 'brand',\n",
    "    'is_there_an_emotion_directed_at_a_brand_or_product': 'sentiment'\n",
    "})\n",
    "\n",
    "# Recheck column names\n",
    "print(\"Columns after renaming:\", df.columns.tolist())\n",
    "df.head(3)"
   ]
  },
  {
   "cell_type": "code",
   "execution_count": null,
   "id": "0c7474c0",
   "metadata": {},
   "outputs": [],
   "source": []
  },
  {
   "cell_type": "code",
   "execution_count": 72,
   "id": "ed035003",
   "metadata": {},
   "outputs": [
    {
     "name": "stdout",
     "output_type": "stream",
     "text": [
      "Number of duplicate rows after removal: 0\n",
      "New dataset shape: (9071, 3)\n"
     ]
    }
   ],
   "source": [
    "# Check duplicates\n",
    "df.duplicated().sum()\n",
    "#Drop the duplicates\n",
    "df.drop_duplicates(inplace=True)\n",
    "# Recheck duplicates\n",
    "print(\"Number of duplicate rows after removal:\", df.duplicated().sum())\n",
    "print(\"New dataset shape:\", df.shape)"
   ]
  },
  {
   "cell_type": "code",
   "execution_count": 73,
   "id": "fa3c04e1",
   "metadata": {},
   "outputs": [
    {
     "name": "stdout",
     "output_type": "stream",
     "text": [
      "text            1\n",
      "brand        5789\n",
      "sentiment       0\n",
      "dtype: int64\n"
     ]
    }
   ],
   "source": [
    "# Handling missing Values - \n",
    "print(df.isnull().sum())\n",
    "#Drop rows with missing text\n",
    "df = df.dropna(subset=[\"text\"])"
   ]
  },
  {
   "cell_type": "markdown",
   "id": "c6e5a2ff",
   "metadata": {},
   "source": [
    "Since 64% (5788) of the `brand` data is missing, we will use `text` column to do brand inference manually."
   ]
  },
  {
   "cell_type": "code",
   "execution_count": 74,
   "id": "5a0fffa6",
   "metadata": {},
   "outputs": [],
   "source": [
    "# Lowercase all text to make inference easier\n",
    "df[\"text\"] = df[\"text\"].str.lower()"
   ]
  },
  {
   "cell_type": "code",
   "execution_count": 75,
   "id": "2b19e6b3",
   "metadata": {},
   "outputs": [
    {
     "data": {
      "text/plain": [
       "brand\n",
       "Apple                              3777\n",
       "Google                             2339\n",
       "iPad                                945\n",
       "iPad or iPhone App                  469\n",
       "iPhone                              296\n",
       "Other Google product or service     293\n",
       "Android App                          80\n",
       "Android                              77\n",
       "Other Apple product or service       35\n",
       "Name: count, dtype: int64"
      ]
     },
     "execution_count": 75,
     "metadata": {},
     "output_type": "execute_result"
    }
   ],
   "source": [
    "# infer missing brands\n",
    "def infer_brand(text):\n",
    "    if any (word in text for word in [\"apple\", \"ipad\", \"iphone\"]):\n",
    "        return \"Apple\"\n",
    "    elif any(word in text for word in [\"google\", \"android\"]):\n",
    "        return \"Google\"\n",
    "    else:\n",
    "        return None \n",
    "df[\"brand\"] = df[\"brand\"].fillna(df[\"text\"].apply(infer_brand))\n",
    "df[\"brand\"].value_counts()\n",
    "    "
   ]
  },
  {
   "cell_type": "code",
   "execution_count": 76,
   "id": "31c493ca",
   "metadata": {},
   "outputs": [
    {
     "data": {
      "text/plain": [
       "text           0\n",
       "brand        759\n",
       "sentiment      0\n",
       "dtype: int64"
      ]
     },
     "execution_count": 76,
     "metadata": {},
     "output_type": "execute_result"
    }
   ],
   "source": [
    "df.isna().sum()"
   ]
  },
  {
   "cell_type": "markdown",
   "id": "73b89906",
   "metadata": {},
   "source": [
    "- After inferring brands from text, 759 tweets still has no identifiable Apple or Google brand.\n",
    "- We will drop those tweets because they cannot be used for brand-specific sentiment analysis\n",
    "- This also ensures the dataset now contains only tweets with known Apple or Google Products."
   ]
  },
  {
   "cell_type": "code",
   "execution_count": 77,
   "id": "766268d4",
   "metadata": {},
   "outputs": [],
   "source": [
    "#drop missing values under brand \n",
    "df = df.dropna(subset=[\"brand\"])"
   ]
  },
  {
   "cell_type": "code",
   "execution_count": 78,
   "id": "eae744b3",
   "metadata": {},
   "outputs": [
    {
     "name": "stdout",
     "output_type": "stream",
     "text": [
      "brand\n",
      "Apple                              3777\n",
      "Google                             2339\n",
      "iPad                                945\n",
      "iPad or iPhone App                  469\n",
      "iPhone                              296\n",
      "Other Google product or service     293\n",
      "Android App                          80\n",
      "Android                              77\n",
      "Other Apple product or service       35\n",
      "Name: count, dtype: int64\n"
     ]
    }
   ],
   "source": [
    "# filter the brands accordingly as either Apple or Google\n",
    "apple_products = [\"iPad\", \"Apple\", \"iPad or iPhone App\", \"iPhone\", \"Other Apple product or service\"]\n",
    "google_products = [\"Google\", \"Other Google product or service\", \"Android\", \"Android App\"]\n",
    "\n",
    "df_filtered = df[df[\"brand\"].isin(apple_products + google_products)]\n",
    "\n",
    "print(df_filtered[\"brand\"].value_counts())"
   ]
  },
  {
   "cell_type": "code",
   "execution_count": 79,
   "id": "1c470f60",
   "metadata": {},
   "outputs": [
    {
     "data": {
      "text/plain": [
       "sentiment_simple\n",
       "Neutral     4786\n",
       "Positive    2957\n",
       "Negative     568\n",
       "Name: count, dtype: int64"
      ]
     },
     "execution_count": 79,
     "metadata": {},
     "output_type": "execute_result"
    }
   ],
   "source": [
    "# map sentiment to simplified categories(Positive/Negative/Neutral)\n",
    "sentiment_mapping = {\n",
    "    \"Positive emotion\": \"Positive\",\n",
    "    \"Negative emotion\": \"Negative\",\n",
    "    \"No emotion toward brand or product\": \"Neutral\",\n",
    "    \"I can't tell\": \"Neutral\"\n",
    "    }\n",
    "\n",
    "df[\"sentiment_simple\"] = df[\"sentiment\"].map(sentiment_mapping)\n",
    "df[\"sentiment_simple\"].value_counts()"
   ]
  },
  {
   "cell_type": "code",
   "execution_count": 80,
   "id": "84a41eb3",
   "metadata": {},
   "outputs": [
    {
     "name": "stdout",
     "output_type": "stream",
     "text": [
      "parent_brand\n",
      "Apple     5522\n",
      "Google    2789\n",
      "Name: count, dtype: int64\n"
     ]
    }
   ],
   "source": [
    "# assign parent brand\n",
    "def assign_parent_brand(x):\n",
    "    if x in apple_products:\n",
    "        return \"Apple\"\n",
    "    elif x in google_products:\n",
    "        return \"Google\"\n",
    "    else:\t\t\n",
    "        return \"Other\"\n",
    "    \n",
    "df[\"parent_brand\"] = df[\"brand\"].apply(assign_parent_brand)\n",
    "print(df[\"parent_brand\"].value_counts())"
   ]
  },
  {
   "cell_type": "code",
   "execution_count": 81,
   "id": "e6816746",
   "metadata": {},
   "outputs": [
    {
     "name": "stdout",
     "output_type": "stream",
     "text": [
      "Missing values:\n",
      " text                0\n",
      "brand               0\n",
      "sentiment           0\n",
      "sentiment_simple    0\n",
      "parent_brand        0\n",
      "dtype: int64\n",
      "\\Dataset shape: (8311, 5)\n",
      "\n",
      "Brand counts:\n",
      " brand\n",
      "Apple                              3777\n",
      "Google                             2339\n",
      "iPad                                945\n",
      "iPad or iPhone App                  469\n",
      "iPhone                              296\n",
      "Other Google product or service     293\n",
      "Android App                          80\n",
      "Android                              77\n",
      "Other Apple product or service       35\n",
      "Name: count, dtype: int64\n",
      "\n",
      "Parent brand counts:\n",
      " parent_brand\n",
      "Apple     5522\n",
      "Google    2789\n",
      "Name: count, dtype: int64\n",
      "\n",
      "Sentiment counts:\n",
      " sentiment_simple\n",
      "Neutral     4786\n",
      "Positive    2957\n",
      "Negative     568\n",
      "Name: count, dtype: int64\n"
     ]
    }
   ],
   "source": [
    "# Summary of cleaned dataset\n",
    "print(\"Missing values:\\n\", df.isnull().sum())\n",
    "print(\"\\Dataset shape:\", df.shape)\n",
    "print(\"\\nBrand counts:\\n\", df[\"brand\"].value_counts())\n",
    "print(\"\\nParent brand counts:\\n\", df[\"parent_brand\"].value_counts())\n",
    "print(\"\\nSentiment counts:\\n\", df[\"sentiment_simple\"].value_counts())"
   ]
  },
  {
   "cell_type": "code",
   "execution_count": 82,
   "id": "b3c54780",
   "metadata": {},
   "outputs": [],
   "source": [
    "# Save the cleaned dataset\n",
    "df.to_csv(\"clean_apple_google_tweets.csv\", index=False)"
   ]
  },
  {
   "cell_type": "markdown",
   "id": "26c4ac66",
   "metadata": {},
   "source": [
    "### Exploratory Data Analysis\n",
    "#### Univariate Analysis\n",
    "We will analyze the following features in Apple and Google tweet dataset to their characteristics on public sentiments\n",
    "1. **Parent brand Distribution** this will help us understand if the dataset is skewed towards one brand which may influence model bias.\n",
    "2. **Sentiment Distribution** This will help us to explore the distribution of positive,negative and neutral sentiments a cross tweets.\n",
    "3. **Tweet length** Analyze the number of words per tweet to see if longer tweets carry more detailed opinions."
   ]
  },
  {
   "cell_type": "markdown",
   "id": "2d356ce7",
   "metadata": {},
   "source": [
    "1. Parent Brand Distribution"
   ]
  },
  {
   "cell_type": "code",
   "execution_count": 83,
   "id": "e4b3435c",
   "metadata": {},
   "outputs": [
    {
     "data": {
      "image/png": "[encoded data removed]",
      "text/plain": [
       "<Figure size 800x600 with 1 Axes>"
      ]
     },
     "metadata": {},
     "output_type": "display_data"
    }
   ],
   "source": [
    "plt.figure(figsize=(8,6))\n",
    "sns.countplot(data=df, x=\"parent_brand\", palette=\"Set2\")\n",
    "plt.title(\"Distribution of tweet by Parent Brand\" )\n",
    "plt.xlabel(\"Brand\")\n",
    "plt.ylabel(\"No.of tweets\")\n",
    "plt.tight_layout()\n",
    "plt.show()"
   ]
  },
  {
   "cell_type": "markdown",
   "id": "b254af63",
   "metadata": {},
   "source": [
    "Most tweets over 5000 are about Apple products while less than 3000 tweets are about Google products."
   ]
  },
  {
   "cell_type": "markdown",
   "id": "40269155",
   "metadata": {},
   "source": [
    "2. Sentiment Distribution"
   ]
  },
  {
   "cell_type": "code",
   "execution_count": 84,
   "id": "777f9e6d",
   "metadata": {},
   "outputs": [
    {
     "data": {
      "image/png": "[encoded data removed]",
      "text/plain": [
       "<Figure size 800x600 with 1 Axes>"
      ]
     },
     "metadata": {},
     "output_type": "display_data"
    }
   ],
   "source": [
    "plt.figure(figsize=(8,6))\n",
    "sns.countplot(data=df, x=\"sentiment_simple\", palette=\"Set2\")\n",
    "plt.title(\"Distribution of Sentiments \" )\n",
    "plt.xlabel(\"Sentiment\")\n",
    "plt.ylabel(\"No.of tweets\")\n",
    "plt.tight_layout()\n",
    "plt.show()"
   ]
  },
  {
   "cell_type": "markdown",
   "id": "3275ecc4",
   "metadata": {},
   "source": [
    "Neutral sentiment dominates the dataset followed by Positive and Negative sentiments respectively."
   ]
  },
  {
   "cell_type": "markdown",
   "id": "6b9ea7b0",
   "metadata": {},
   "source": [
    "3. Tweet Length"
   ]
  },
  {
   "cell_type": "code",
   "execution_count": 85,
   "id": "52a59ab1",
   "metadata": {},
   "outputs": [
    {
     "data": {
      "image/png": "[encoded data removed]",
      "text/plain": [
       "<Figure size 800x600 with 1 Axes>"
      ]
     },
     "metadata": {},
     "output_type": "display_data"
    }
   ],
   "source": [
    "df[\"tweet_length\"] = df[\"text\"].apply(lambda x: len(x.split()))\n",
    "plt.figure(figsize=(8,6))\n",
    "sns.histplot(df[\"tweet_length\"],bins=30,kde=True,color=\"blue\")\n",
    "plt.title(\"Distribution of Tweet Length\")\n",
    "plt.xlabel(\"No.of Words\")\n",
    "plt.ylabel(\"Frequency\")\n",
    "plt.tight_layout()\n",
    "plt.show()"
   ]
  },
  {
   "cell_type": "markdown",
   "id": "4f49ebc5",
   "metadata": {},
   "source": [
    "Tweet length mostly range between fifteen (15) to twenty five(25) words."
   ]
  },
  {
   "cell_type": "markdown",
   "id": "aac06f5c",
   "metadata": {},
   "source": [
    "General observation\n",
    "- The dataset is skewed toward Apple with higher number of tweets compared to google, which may introduce some bias during modeling.\n",
    "- Neutral sentiments is the most common followed by positive then negative,indicating that many tweets do not express a strong feeling towards a product.\n",
    "- Tweet legnth are generally short to medium.Approximately from twelve (12) to twenty four (24) words suggesting that most opinions are brief,which can affect the textual feature for NLP Models."
   ]
  },
  {
   "cell_type": "markdown",
   "id": "f7b51539",
   "metadata": {},
   "source": [
    "### Bivariate Analysis\n",
    "We will focus on the following key bivariate relationship:\n",
    "1. **Parent Brand Vs Sentiments** to examine how sentiments vary between Apple and Google tweets\n",
    "2. **Tweet length Vs Sentiments** to determine whether longer or shorter tweets are associated with certain sentiment type e.g whether negative opinions are expressed in longer tweets.\n",
    "3. **Product Vs Sentiment** to analyse how sentiment distributions vary across individual products for a more granular understanding of customer opinions."
   ]
  },
  {
   "cell_type": "markdown",
   "id": "b86485fa",
   "metadata": {},
   "source": [
    "1. Parent Brand Vs Sentiments.\n"
   ]
  },
  {
   "cell_type": "code",
   "execution_count": 86,
   "id": "a9daf3f8",
   "metadata": {},
   "outputs": [
    {
     "data": {
      "image/png": "[encoded data removed]",
      "text/plain": [
       "<Figure size 800x600 with 1 Axes>"
      ]
     },
     "metadata": {},
     "output_type": "display_data"
    }
   ],
   "source": [
    "plt.figure(figsize=(8,6))\n",
    "sns.countplot(data=df, x=\"parent_brand\",hue=\"sentiment_simple\", palette=\"Set2\")\n",
    "plt.title(\"Distribution of Sentiment by brand \" )\n",
    "plt.xlabel(\"Brand\")\n",
    "plt.ylabel(\"No.of tweets\")\n",
    "plt.legend(title=\"sentiment\")\n",
    "plt.tight_layout()\n",
    "plt.show()"
   ]
  },
  {
   "cell_type": "markdown",
   "id": "76d9f1af",
   "metadata": {},
   "source": [
    "Apple tweets has higher proportion of positive sentiments compared to Google."
   ]
  },
  {
   "cell_type": "markdown",
   "id": "3330fe7d",
   "metadata": {},
   "source": [
    "2. Tweet Length Vs Sentiments"
   ]
  },
  {
   "cell_type": "code",
   "execution_count": 87,
   "id": "46a9e671",
   "metadata": {},
   "outputs": [
    {
     "data": {
      "image/png": "[encoded data removed]",
      "text/plain": [
       "<Figure size 800x600 with 1 Axes>"
      ]
     },
     "metadata": {},
     "output_type": "display_data"
    }
   ],
   "source": [
    "plt.figure(figsize=(8,6))\n",
    "sns.boxplot(data=df, x=\"sentiment_simple\",y=\"tweet_length\", palette=\"Set2\")\n",
    "plt.title(\"Tweet legnth by Sentiment \")\n",
    "plt.xlabel(\"Sentiment\")\n",
    "plt.ylabel(\"tweet length in words\")\n",
    "plt.tight_layout()\n",
    "plt.show()"
   ]
  },
  {
   "cell_type": "markdown",
   "id": "25ded327",
   "metadata": {},
   "source": [
    "Negative sentiment tweets tend to be slightly longer on avaerage compared to positive and neutral."
   ]
  },
  {
   "cell_type": "markdown",
   "id": "de98d9d8",
   "metadata": {},
   "source": [
    "3. Product Vs Sentiment"
   ]
  },
  {
   "cell_type": "code",
   "execution_count": 88,
   "id": "5770f271",
   "metadata": {},
   "outputs": [
    {
     "data": {
      "image/png": "[encoded data removed]",
      "text/plain": [
       "<Figure size 800x600 with 2 Axes>"
      ]
     },
     "metadata": {},
     "output_type": "display_data"
    }
   ],
   "source": [
    "product_sentiment_counts = df.pivot_table(index = \"brand\",\n",
    "                                          columns=\"sentiment_simple\",\n",
    "                                          values=\"text\",\n",
    "                                          aggfunc=\"count\",\n",
    "                                          fill_value=0)\n",
    "\n",
    "plt.figure(figsize=(8,6))\n",
    "sns.heatmap(product_sentiment_counts, annot=True,fmt=\"d\",cmap=\"viridis\")\n",
    "plt.title(\"Heatmap of sentiment count by product\" )\n",
    "plt.xlabel(\"Sentiment\")\n",
    "plt.ylabel(\"Product\")\n",
    "plt.tight_layout()\n",
    "plt.show()"
   ]
  },
  {
   "cell_type": "markdown",
   "id": "c635fbb8",
   "metadata": {},
   "source": [
    "Ipad show high positive sentiment count of 792."
   ]
  },
  {
   "cell_type": "markdown",
   "id": "945b9b2c",
   "metadata": {},
   "source": [
    "General Observations\n",
    "- Apple tweets have higher proportion of sentiment compared to Google.This indicates that brand influemces the distribution of sentiment in a dataset.\n",
    "- Negative sentiment tweets tend to be slightly longer on average, suggesting that users may write more detailed tweets when expressing dissatisfaction.\n",
    "- Positive and neutral tweets are generally shorter, indicating that praise or neutral comments are often brief.\n",
    "- The heatmap highlights the concentration of sentiment counts per brand and product.\n",
    "- It provides a clear visual understanding of which products attract the most positive, negative, or neutral tweets.\n",
    "- This analysis helps to identify areas of strong public opinion, which can guide targeted marketing, product improvements, or customer engagement strategies.\n",
    "- Apple dominates in tweet volume and positive sentiment.\n",
    "- Google products have fewer mentions but similar sentiment patterns.\n",
    "- Understanding product-specific sentiment helps identify which products drive customer satisfaction or dissatisfaction and can guide marketing strategies or product improvements."
   ]
  },
  {
   "cell_type": "markdown",
   "id": "11f1d78e",
   "metadata": {},
   "source": [
    "## Multivariate Analysis"
   ]
  },
  {
   "cell_type": "markdown",
   "id": "efb43183",
   "metadata": {},
   "source": [
    "We will focus on the following key multivariate relationships."
   ]
  },
  {
   "cell_type": "markdown",
   "id": "c71ded6f",
   "metadata": {},
   "source": [
    "1. **Parent Brand, Sentiment, and Tweet Length** To examine how tweet length varies for different sentiment types across Apple and Google products\n",
    "2. **Product, Sentiment, and Parent Brand** To understand how sentiment distribution differs across individual products within each parent brand.\n"
   ]
  },
  {
   "cell_type": "markdown",
   "id": "6ac87980",
   "metadata": {},
   "source": [
    "1. Parent brand,Sentiment and Tweet length\n"
   ]
  },
  {
   "cell_type": "code",
   "execution_count": 89,
   "id": "da0e972d",
   "metadata": {},
   "outputs": [
    {
     "data": {
      "image/png": "[encoded data removed]",
      "text/plain": [
       "<Figure size 800x600 with 1 Axes>"
      ]
     },
     "metadata": {},
     "output_type": "display_data"
    }
   ],
   "source": [
    "plt.figure(figsize=(8,6))\n",
    "sns.violinplot(data=df, x='parent_brand', y='tweet_length', hue='sentiment_simple', split=True, palette='Set1')\n",
    "plt.title(\"Tweet Length by Brand and Sentiment\")\n",
    "plt.xlabel(\"Brand\")\n",
    "plt.ylabel(\"Tweet Length (words)\")\n",
    "plt.show()"
   ]
  },
  {
   "cell_type": "markdown",
   "id": "eac75a06",
   "metadata": {},
   "source": [
    "The violin plot shows how long tweets are in number of words,and whether the tweets are positive,negative or neutral.\n",
    "- The shape of each color(violin shape)shows how length vary.\n",
    "- For both apple and google most tweets have around 15-25 words.\n",
    "- There isn't a huge difference in tweet length between positive and negative emotions.\n",
    "\n",
    "This means that people tend to express their opinions in similarly size tweets,no matter whether they are happy,upset or neutral."
   ]
  },
  {
   "cell_type": "markdown",
   "id": "0068a75d",
   "metadata": {},
   "source": [
    "2. Product,Sentiment and Parent brand"
   ]
  },
  {
   "cell_type": "code",
   "execution_count": 90,
   "id": "0650a02f",
   "metadata": {},
   "outputs": [
    {
     "data": {
      "image/png": "[encoded data removed]",
      "text/plain": [
       "<Figure size 1200x500 with 1 Axes>"
      ]
     },
     "metadata": {},
     "output_type": "display_data"
    }
   ],
   "source": [
    "sentiment_counts = df.groupby(['brand', 'sentiment_simple']).size().unstack(fill_value=0)\n",
    "sentiment_counts.plot(kind='bar', stacked=True, figsize=(12,5), colormap='Paired')\n",
    "plt.title(\"Sentiment Counts per Product\")\n",
    "plt.xlabel(\"Product\")\n",
    "plt.ylabel(\"Number of Tweets\") \n",
    "plt.show()"
   ]
  },
  {
   "cell_type": "markdown",
   "id": "8d9e22f0",
   "metadata": {},
   "source": [
    "Apple has more neutral sentiment tweets compared to Google.They follow a similar pattern of sentiment distribution."
   ]
  },
  {
   "cell_type": "markdown",
   "id": "4da695cd",
   "metadata": {},
   "source": [
    "General Observations.\n",
    "- Apple dominates in tweet volume and positive sentiments,suggesting that they generally elicit favourable opinions on social media.\n",
    "- Google products have fewer mentions but similar sentiment patterns.Negative sentiment is slightly more pronounced for Google products compared to Apple,possibly reflecting critical user feedback.\n",
    "- Neutral sentiment is common  across both Apple and Google products reflecting tweets then that mention products without expressing a strong opinion.This is important for model training as neutral tweets make up a substantial portion of the dataset."
   ]
  },
  {
   "cell_type": "markdown",
   "id": "2b8c9796",
   "metadata": {},
   "source": [
    "### Text Preprocessing"
   ]
  },
  {
   "cell_type": "code",
   "execution_count": 91,
   "id": "e4eeff1e",
   "metadata": {},
   "outputs": [
    {
     "data": {
      "text/html": [
       "<div>\n",
       "<style scoped>\n",
       "    .dataframe tbody tr th:only-of-type {\n",
       "        vertical-align: middle;\n",
       "    }\n",
       "\n",
       "    .dataframe tbody tr th {\n",
       "        vertical-align: top;\n",
       "    }\n",
       "\n",
       "    .dataframe thead th {\n",
       "        text-align: right;\n",
       "    }\n",
       "</style>\n",
       "<table border=\"1\" class=\"dataframe\">\n",
       "  <thead>\n",
       "    <tr style=\"text-align: right;\">\n",
       "      <th></th>\n",
       "      <th>text</th>\n",
       "      <th>brand</th>\n",
       "      <th>sentiment</th>\n",
       "      <th>sentiment_simple</th>\n",
       "      <th>parent_brand</th>\n",
       "    </tr>\n",
       "  </thead>\n",
       "  <tbody>\n",
       "    <tr>\n",
       "      <th>0</th>\n",
       "      <td>.@wesley83 i have a 3g iphone. after 3 hrs twe...</td>\n",
       "      <td>iPhone</td>\n",
       "      <td>Negative emotion</td>\n",
       "      <td>Negative</td>\n",
       "      <td>Apple</td>\n",
       "    </tr>\n",
       "    <tr>\n",
       "      <th>1</th>\n",
       "      <td>@jessedee know about @fludapp ? awesome ipad/i...</td>\n",
       "      <td>iPad or iPhone App</td>\n",
       "      <td>Positive emotion</td>\n",
       "      <td>Positive</td>\n",
       "      <td>Apple</td>\n",
       "    </tr>\n",
       "    <tr>\n",
       "      <th>2</th>\n",
       "      <td>@swonderlin can not wait for #ipad 2 also. the...</td>\n",
       "      <td>iPad</td>\n",
       "      <td>Positive emotion</td>\n",
       "      <td>Positive</td>\n",
       "      <td>Apple</td>\n",
       "    </tr>\n",
       "    <tr>\n",
       "      <th>3</th>\n",
       "      <td>@sxsw i hope this year's festival isn't as cra...</td>\n",
       "      <td>iPad or iPhone App</td>\n",
       "      <td>Negative emotion</td>\n",
       "      <td>Negative</td>\n",
       "      <td>Apple</td>\n",
       "    </tr>\n",
       "    <tr>\n",
       "      <th>4</th>\n",
       "      <td>@sxtxstate great stuff on fri #sxsw: marissa m...</td>\n",
       "      <td>Google</td>\n",
       "      <td>Positive emotion</td>\n",
       "      <td>Positive</td>\n",
       "      <td>Google</td>\n",
       "    </tr>\n",
       "  </tbody>\n",
       "</table>\n",
       "</div>"
      ],
      "text/plain": [
       "                                                text               brand  \\\n",
       "0  .@wesley83 i have a 3g iphone. after 3 hrs twe...              iPhone   \n",
       "1  @jessedee know about @fludapp ? awesome ipad/i...  iPad or iPhone App   \n",
       "2  @swonderlin can not wait for #ipad 2 also. the...                iPad   \n",
       "3  @sxsw i hope this year's festival isn't as cra...  iPad or iPhone App   \n",
       "4  @sxtxstate great stuff on fri #sxsw: marissa m...              Google   \n",
       "\n",
       "          sentiment sentiment_simple parent_brand  \n",
       "0  Negative emotion         Negative        Apple  \n",
       "1  Positive emotion         Positive        Apple  \n",
       "2  Positive emotion         Positive        Apple  \n",
       "3  Negative emotion         Negative        Apple  \n",
       "4  Positive emotion         Positive       Google  "
      ]
     },
     "execution_count": 91,
     "metadata": {},
     "output_type": "execute_result"
    }
   ],
   "source": [
    "#Load the clean dataset\n",
    "df = pd.read_csv(\"clean_apple_google_tweets.csv\")\n",
    "df.head()"
   ]
  },
  {
   "cell_type": "code",
   "execution_count": 92,
   "id": "9d70cab3",
   "metadata": {},
   "outputs": [
    {
     "name": "stdout",
     "output_type": "stream",
     "text": [
      "Lowercased: 0       .@wesley83 i have a 3g iphone. after 3 hrs twe...\n",
      "1       @jessedee know about @fludapp ? awesome ipad/i...\n",
      "2       @swonderlin can not wait for #ipad 2 also. the...\n",
      "3       @sxsw i hope this year's festival isn't as cra...\n",
      "4       @sxtxstate great stuff on fri #sxsw: marissa m...\n",
      "                              ...                        \n",
      "8306                        ipad everywhere. #sxsw {link}\n",
      "8307    wave, buzz... rt @mention we interrupt your re...\n",
      "8308    google's zeiger, a physician never reported po...\n",
      "8309    some verizon iphone customers complained their...\n",
      "8310    ï¡ïàü_êîò£áââ_£â_ûârt @...\n",
      "Name: text, Length: 8311, dtype: object\n"
     ]
    }
   ],
   "source": [
    "# Text preprocessing\n",
    "\n",
    "# Convert to lowercase\n",
    "df[\"text\"] = df[\"text\"].str.lower()\n",
    "print(\"Lowercased:\", df[\"text\"])\n",
    "\n",
    "\n"
   ]
  },
  {
   "cell_type": "code",
   "execution_count": 93,
   "id": "72966ceb",
   "metadata": {},
   "outputs": [
    {
     "data": {
      "text/html": [
       "<div>\n",
       "<style scoped>\n",
       "    .dataframe tbody tr th:only-of-type {\n",
       "        vertical-align: middle;\n",
       "    }\n",
       "\n",
       "    .dataframe tbody tr th {\n",
       "        vertical-align: top;\n",
       "    }\n",
       "\n",
       "    .dataframe thead th {\n",
       "        text-align: right;\n",
       "    }\n",
       "</style>\n",
       "<table border=\"1\" class=\"dataframe\">\n",
       "  <thead>\n",
       "    <tr style=\"text-align: right;\">\n",
       "      <th></th>\n",
       "      <th>text</th>\n",
       "      <th>brand</th>\n",
       "      <th>sentiment</th>\n",
       "      <th>sentiment_simple</th>\n",
       "      <th>parent_brand</th>\n",
       "      <th>clean_text</th>\n",
       "    </tr>\n",
       "  </thead>\n",
       "  <tbody>\n",
       "    <tr>\n",
       "      <th>0</th>\n",
       "      <td>.@wesley83 i have a 3g iphone. after 3 hrs twe...</td>\n",
       "      <td>iPhone</td>\n",
       "      <td>Negative emotion</td>\n",
       "      <td>Negative</td>\n",
       "      <td>Apple</td>\n",
       "      <td>i have a g iphone after hrs tweeting at it was...</td>\n",
       "    </tr>\n",
       "    <tr>\n",
       "      <th>1</th>\n",
       "      <td>@jessedee know about @fludapp ? awesome ipad/i...</td>\n",
       "      <td>iPad or iPhone App</td>\n",
       "      <td>Positive emotion</td>\n",
       "      <td>Positive</td>\n",
       "      <td>Apple</td>\n",
       "      <td>know about awesome ipadiphone app that youll l...</td>\n",
       "    </tr>\n",
       "    <tr>\n",
       "      <th>2</th>\n",
       "      <td>@swonderlin can not wait for #ipad 2 also. the...</td>\n",
       "      <td>iPad</td>\n",
       "      <td>Positive emotion</td>\n",
       "      <td>Positive</td>\n",
       "      <td>Apple</td>\n",
       "      <td>can not wait for also they should sale them do...</td>\n",
       "    </tr>\n",
       "    <tr>\n",
       "      <th>3</th>\n",
       "      <td>@sxsw i hope this year's festival isn't as cra...</td>\n",
       "      <td>iPad or iPhone App</td>\n",
       "      <td>Negative emotion</td>\n",
       "      <td>Negative</td>\n",
       "      <td>Apple</td>\n",
       "      <td>i hope this years festival isnt as crashy as t...</td>\n",
       "    </tr>\n",
       "    <tr>\n",
       "      <th>4</th>\n",
       "      <td>@sxtxstate great stuff on fri #sxsw: marissa m...</td>\n",
       "      <td>Google</td>\n",
       "      <td>Positive emotion</td>\n",
       "      <td>Positive</td>\n",
       "      <td>Google</td>\n",
       "      <td>great stuff on fri marissa mayer google tim or...</td>\n",
       "    </tr>\n",
       "  </tbody>\n",
       "</table>\n",
       "</div>"
      ],
      "text/plain": [
       "                                                text               brand  \\\n",
       "0  .@wesley83 i have a 3g iphone. after 3 hrs twe...              iPhone   \n",
       "1  @jessedee know about @fludapp ? awesome ipad/i...  iPad or iPhone App   \n",
       "2  @swonderlin can not wait for #ipad 2 also. the...                iPad   \n",
       "3  @sxsw i hope this year's festival isn't as cra...  iPad or iPhone App   \n",
       "4  @sxtxstate great stuff on fri #sxsw: marissa m...              Google   \n",
       "\n",
       "          sentiment sentiment_simple parent_brand  \\\n",
       "0  Negative emotion         Negative        Apple   \n",
       "1  Positive emotion         Positive        Apple   \n",
       "2  Positive emotion         Positive        Apple   \n",
       "3  Negative emotion         Negative        Apple   \n",
       "4  Positive emotion         Positive       Google   \n",
       "\n",
       "                                          clean_text  \n",
       "0  i have a g iphone after hrs tweeting at it was...  \n",
       "1  know about awesome ipadiphone app that youll l...  \n",
       "2  can not wait for also they should sale them do...  \n",
       "3  i hope this years festival isnt as crashy as t...  \n",
       "4  great stuff on fri marissa mayer google tim or...  "
      ]
     },
     "execution_count": 93,
     "metadata": {},
     "output_type": "execute_result"
    }
   ],
   "source": [
    "# Remove URLs, mentions, Hashtags, Punctuation, Digits, Extraspaces\n",
    "def clean_text(text):\n",
    "    # remove URLs\n",
    "    text = re.sub(r'http\\S+', '', text)\n",
    "\t\t# remove mentions\n",
    "    text = re.sub(r'@\\w+', '', text)\n",
    "    # remove hashtags\n",
    "    text = re.sub(r'#\\w+', '', text)\n",
    "    # remove punctuation\n",
    "    text = re.sub(r'[^a-z\\s]', '', text)\n",
    "    # remove extra spaces\n",
    "    text = re.sub(r'\\s+', ' ', text).strip()\n",
    "    return text\n",
    "df[\"clean_text\"] = df[\"text\"].apply(clean_text)\n",
    "df.head()"
   ]
  },
  {
   "cell_type": "code",
   "execution_count": 94,
   "id": "7986e0b6",
   "metadata": {},
   "outputs": [
    {
     "data": {
      "text/html": [
       "<div>\n",
       "<style scoped>\n",
       "    .dataframe tbody tr th:only-of-type {\n",
       "        vertical-align: middle;\n",
       "    }\n",
       "\n",
       "    .dataframe tbody tr th {\n",
       "        vertical-align: top;\n",
       "    }\n",
       "\n",
       "    .dataframe thead th {\n",
       "        text-align: right;\n",
       "    }\n",
       "</style>\n",
       "<table border=\"1\" class=\"dataframe\">\n",
       "  <thead>\n",
       "    <tr style=\"text-align: right;\">\n",
       "      <th></th>\n",
       "      <th>text</th>\n",
       "      <th>brand</th>\n",
       "      <th>sentiment</th>\n",
       "      <th>sentiment_simple</th>\n",
       "      <th>parent_brand</th>\n",
       "      <th>clean_text</th>\n",
       "    </tr>\n",
       "  </thead>\n",
       "  <tbody>\n",
       "    <tr>\n",
       "      <th>0</th>\n",
       "      <td>.@wesley83 i have a 3g iphone. after 3 hrs twe...</td>\n",
       "      <td>iPhone</td>\n",
       "      <td>Negative emotion</td>\n",
       "      <td>Negative</td>\n",
       "      <td>Apple</td>\n",
       "      <td>g iphone hrs tweeting dead need upgrade plugin...</td>\n",
       "    </tr>\n",
       "    <tr>\n",
       "      <th>1</th>\n",
       "      <td>@jessedee know about @fludapp ? awesome ipad/i...</td>\n",
       "      <td>iPad or iPhone App</td>\n",
       "      <td>Positive emotion</td>\n",
       "      <td>Positive</td>\n",
       "      <td>Apple</td>\n",
       "      <td>know awesome ipadiphone app youll likely appre...</td>\n",
       "    </tr>\n",
       "    <tr>\n",
       "      <th>2</th>\n",
       "      <td>@swonderlin can not wait for #ipad 2 also. the...</td>\n",
       "      <td>iPad</td>\n",
       "      <td>Positive emotion</td>\n",
       "      <td>Positive</td>\n",
       "      <td>Apple</td>\n",
       "      <td>wait also sale</td>\n",
       "    </tr>\n",
       "  </tbody>\n",
       "</table>\n",
       "</div>"
      ],
      "text/plain": [
       "                                                text               brand  \\\n",
       "0  .@wesley83 i have a 3g iphone. after 3 hrs twe...              iPhone   \n",
       "1  @jessedee know about @fludapp ? awesome ipad/i...  iPad or iPhone App   \n",
       "2  @swonderlin can not wait for #ipad 2 also. the...                iPad   \n",
       "\n",
       "          sentiment sentiment_simple parent_brand  \\\n",
       "0  Negative emotion         Negative        Apple   \n",
       "1  Positive emotion         Positive        Apple   \n",
       "2  Positive emotion         Positive        Apple   \n",
       "\n",
       "                                          clean_text  \n",
       "0  g iphone hrs tweeting dead need upgrade plugin...  \n",
       "1  know awesome ipadiphone app youll likely appre...  \n",
       "2                                     wait also sale  "
      ]
     },
     "execution_count": 94,
     "metadata": {},
     "output_type": "execute_result"
    }
   ],
   "source": [
    "# Removing stopwords i.e common words that do not carry much meaning\n",
    "stop_words = set(stopwords.words('english'))\n",
    "df[\"clean_text\"] = df[\"clean_text\"].apply(lambda x: ' '.join([word for word in x.split() if word not in stop_words]))\n",
    "df.head(3)"
   ]
  },
  {
   "cell_type": "code",
   "execution_count": 95,
   "id": "f34520fb",
   "metadata": {},
   "outputs": [
    {
     "data": {
      "text/html": [
       "<div>\n",
       "<style scoped>\n",
       "    .dataframe tbody tr th:only-of-type {\n",
       "        vertical-align: middle;\n",
       "    }\n",
       "\n",
       "    .dataframe tbody tr th {\n",
       "        vertical-align: top;\n",
       "    }\n",
       "\n",
       "    .dataframe thead th {\n",
       "        text-align: right;\n",
       "    }\n",
       "</style>\n",
       "<table border=\"1\" class=\"dataframe\">\n",
       "  <thead>\n",
       "    <tr style=\"text-align: right;\">\n",
       "      <th></th>\n",
       "      <th>text</th>\n",
       "      <th>brand</th>\n",
       "      <th>sentiment</th>\n",
       "      <th>sentiment_simple</th>\n",
       "      <th>parent_brand</th>\n",
       "      <th>clean_text</th>\n",
       "    </tr>\n",
       "  </thead>\n",
       "  <tbody>\n",
       "    <tr>\n",
       "      <th>0</th>\n",
       "      <td>.@wesley83 i have a 3g iphone. after 3 hrs twe...</td>\n",
       "      <td>iPhone</td>\n",
       "      <td>Negative emotion</td>\n",
       "      <td>Negative</td>\n",
       "      <td>Apple</td>\n",
       "      <td>g iphone hr tweeting dead need upgrade plugin ...</td>\n",
       "    </tr>\n",
       "    <tr>\n",
       "      <th>1</th>\n",
       "      <td>@jessedee know about @fludapp ? awesome ipad/i...</td>\n",
       "      <td>iPad or iPhone App</td>\n",
       "      <td>Positive emotion</td>\n",
       "      <td>Positive</td>\n",
       "      <td>Apple</td>\n",
       "      <td>know awesome ipadiphone app youll likely appre...</td>\n",
       "    </tr>\n",
       "    <tr>\n",
       "      <th>2</th>\n",
       "      <td>@swonderlin can not wait for #ipad 2 also. the...</td>\n",
       "      <td>iPad</td>\n",
       "      <td>Positive emotion</td>\n",
       "      <td>Positive</td>\n",
       "      <td>Apple</td>\n",
       "      <td>wait also sale</td>\n",
       "    </tr>\n",
       "  </tbody>\n",
       "</table>\n",
       "</div>"
      ],
      "text/plain": [
       "                                                text               brand  \\\n",
       "0  .@wesley83 i have a 3g iphone. after 3 hrs twe...              iPhone   \n",
       "1  @jessedee know about @fludapp ? awesome ipad/i...  iPad or iPhone App   \n",
       "2  @swonderlin can not wait for #ipad 2 also. the...                iPad   \n",
       "\n",
       "          sentiment sentiment_simple parent_brand  \\\n",
       "0  Negative emotion         Negative        Apple   \n",
       "1  Positive emotion         Positive        Apple   \n",
       "2  Positive emotion         Positive        Apple   \n",
       "\n",
       "                                          clean_text  \n",
       "0  g iphone hr tweeting dead need upgrade plugin ...  \n",
       "1  know awesome ipadiphone app youll likely appre...  \n",
       "2                                     wait also sale  "
      ]
     },
     "execution_count": 95,
     "metadata": {},
     "output_type": "execute_result"
    }
   ],
   "source": [
    "# Lemmatization to reduce words to their base form to ensure uniformity\n",
    "lemmatizer = WordNetLemmatizer()\n",
    "df[\"clean_text\"] = df[\"clean_text\"].apply(lambda x: ' '.join([lemmatizer.lemmatize(word) for word in x.split()]))\n",
    "df.head(3)"
   ]
  },
  {
   "cell_type": "code",
   "execution_count": 96,
   "id": "a9767274",
   "metadata": {},
   "outputs": [
    {
     "data": {
      "text/html": [
       "<div>\n",
       "<style scoped>\n",
       "    .dataframe tbody tr th:only-of-type {\n",
       "        vertical-align: middle;\n",
       "    }\n",
       "\n",
       "    .dataframe tbody tr th {\n",
       "        vertical-align: top;\n",
       "    }\n",
       "\n",
       "    .dataframe thead th {\n",
       "        text-align: right;\n",
       "    }\n",
       "</style>\n",
       "<table border=\"1\" class=\"dataframe\">\n",
       "  <thead>\n",
       "    <tr style=\"text-align: right;\">\n",
       "      <th></th>\n",
       "      <th>clean_text</th>\n",
       "      <th>tokens</th>\n",
       "    </tr>\n",
       "  </thead>\n",
       "  <tbody>\n",
       "    <tr>\n",
       "      <th>0</th>\n",
       "      <td>g iphone hr tweeting dead need upgrade plugin ...</td>\n",
       "      <td>[g, iphone, hr, tweeting, dead, need, upgrade,...</td>\n",
       "    </tr>\n",
       "    <tr>\n",
       "      <th>1</th>\n",
       "      <td>know awesome ipadiphone app youll likely appre...</td>\n",
       "      <td>[know, awesome, ipadiphone, app, youll, likely...</td>\n",
       "    </tr>\n",
       "    <tr>\n",
       "      <th>2</th>\n",
       "      <td>wait also sale</td>\n",
       "      <td>[wait, also, sale]</td>\n",
       "    </tr>\n",
       "    <tr>\n",
       "      <th>3</th>\n",
       "      <td>hope year festival isnt crashy year iphone app</td>\n",
       "      <td>[hope, year, festival, isnt, crashy, year, iph...</td>\n",
       "    </tr>\n",
       "    <tr>\n",
       "      <th>4</th>\n",
       "      <td>great stuff fri marissa mayer google tim oreil...</td>\n",
       "      <td>[great, stuff, fri, marissa, mayer, google, ti...</td>\n",
       "    </tr>\n",
       "  </tbody>\n",
       "</table>\n",
       "</div>"
      ],
      "text/plain": [
       "                                          clean_text  \\\n",
       "0  g iphone hr tweeting dead need upgrade plugin ...   \n",
       "1  know awesome ipadiphone app youll likely appre...   \n",
       "2                                     wait also sale   \n",
       "3     hope year festival isnt crashy year iphone app   \n",
       "4  great stuff fri marissa mayer google tim oreil...   \n",
       "\n",
       "                                              tokens  \n",
       "0  [g, iphone, hr, tweeting, dead, need, upgrade,...  \n",
       "1  [know, awesome, ipadiphone, app, youll, likely...  \n",
       "2                                 [wait, also, sale]  \n",
       "3  [hope, year, festival, isnt, crashy, year, iph...  \n",
       "4  [great, stuff, fri, marissa, mayer, google, ti...  "
      ]
     },
     "execution_count": 96,
     "metadata": {},
     "output_type": "execute_result"
    }
   ],
   "source": [
    "# tokenization to split each tweet into individual word-tokens to be used in feature extraction \n",
    "df[\"tokens\"] = df[\"clean_text\"].apply(word_tokenize)\n",
    "df[[\"clean_text\", \"tokens\"]].head()"
   ]
  },
  {
   "cell_type": "markdown",
   "id": "200561cf",
   "metadata": {},
   "source": [
    "#### Feature Extraction(Converting Text to Numbers)"
   ]
  },
  {
   "cell_type": "code",
   "execution_count": 97,
   "id": "8a1b8780",
   "metadata": {},
   "outputs": [],
   "source": [
    "# Using TF-IDF(Term Frequency-Inverse Document Frequency)\n",
    "\n",
    "# initialize the vectorizer\n",
    "tfidf = TfidfVectorizer()\n",
    "\n",
    "# fit and transform cleaned text\n",
    "X = tfidf.fit_transform(df[\"clean_text\"])\n",
    "\n",
    "print(\"Shape of TF-IDF matrix:\" , X.shape)\n",
    "print(\"-------\"*15)\n",
    "print(\"TF-IDF Vocabulary:\", tfidf.get_feature_names_out())\n",
    "print(\"-------\"*15)\n",
    "print(\"Vocabulary size:\", len(tfidf.get_feature_names_out()))\n",
    "print(\"-------\"*15)\n",
    "print(\"TF-IDF Representation:\", X.toarray())\n"
   ]
  },
  {
   "cell_type": "markdown",
   "id": "eba9f2a6",
   "metadata": {},
   "source": [
    "TF-IDF assigns higher weight to words that are important in a specific tweet but rare across all tweets. It also helps the model focus on meaningful words that carry sentiments.\n"
   ]
  },
  {
   "cell_type": "code",
   "execution_count": 98,
   "id": "0abcc4de",
   "metadata": {},
   "outputs": [
    {
     "name": "stdout",
     "output_type": "stream",
     "text": [
      "Shape of Bag-of-Words matrix: (8311, 7984)\n",
      "---------------------------------------------------------------------------------------------------------\n",
      "Bag-of-Words Vocabulary: ['aapl' 'aaron' 'ab' ... 'zuckerberg' 'zynga' 'zzzs']\n",
      "---------------------------------------------------------------------------------------------------------\n",
      "Vocabulary size: 7984\n",
      "---------------------------------------------------------------------------------------------------------\n",
      "Bag-of-Words Representation: [[0 0 0 ... 0 0 0]\n",
      " [0 0 0 ... 0 0 0]\n",
      " [0 0 0 ... 0 0 0]\n",
      " ...\n",
      " [0 0 0 ... 0 0 0]\n",
      " [0 0 0 ... 0 0 0]\n",
      " [0 0 0 ... 0 0 0]]\n"
     ]
    }
   ],
   "source": [
    "# Using CountVectorizer or Bag of Words(BoW)\n",
    "\n",
    "#Initialize the vectorizer\n",
    "vectorizer = CountVectorizer()\n",
    "\n",
    "#Fit and transform cleaned text\n",
    "X_bow = vectorizer.fit_transform(df[\"clean_text\"])\n",
    "\n",
    "print(\"Shape of Bag-of-Words matrix:\", X_bow.shape)\n",
    "print(\"-------\"*15)\n",
    "print(\"Bag-of-Words Vocabulary:\", vectorizer.get_feature_names_out())\n",
    "print(\"-------\"*15)\n",
    "print(\"Vocabulary size:\", len(vectorizer.get_feature_names_out()))\n",
    "print(\"-------\"*15)\n",
    "print(\"Bag-of-Words Representation:\", X_bow.toarray())"
   ]
  },
  {
   "cell_type": "markdown",
   "id": "636a7594",
   "metadata": {},
   "source": [
    "Bag-of-Words (CountVectorizer) captures the raw frequency of words in each tweet, and is useful as a baseline model providing a straightforward representation of text.\n",
    "\n",
    "Using both approches allows comparison of feature representations and model performance. While TF-IDF often yields better results for sentiment classification, BoW provides a simple, interpretable baseline."
   ]
  },
  {
   "cell_type": "code",
   "execution_count": null,
   "id": "ef271b10-9a5d-4d6b-9ef4-6fa8ef27a279",
   "metadata": {},
   "outputs": [],
   "source": []
  }
 ],
 "metadata": {
  "kernelspec": {
   "display_name": "Python 3 (ipykernel)",
   "language": "python",
   "name": "python3"
  },
  "language_info": {
   "codemirror_mode": {
    "name": "ipython",
    "version": 3
   },
   "file_extension": ".py",
   "mimetype": "text/x-python",
   "name": "python",
   "nbconvert_exporter": "python",
   "pygments_lexer": "ipython3",
   "version": "3.10.18"
  }
 },
 "nbformat": 4,
 "nbformat_minor": 5
}
