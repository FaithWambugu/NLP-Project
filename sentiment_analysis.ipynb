{
 "cells": [
  {
   "cell_type": "markdown",
   "id": "ed6d4087",
   "metadata": {},
   "source": [
    "# Sentimental Analysis of Apple and Google Tweets for Third-Party Tech Distributors\n",
    "## Business Understanding\n",
    "In the recent years, the global smartphone market remained highly competitive, with major brands such as Apple and Google continuing to dominate innovation and customer engagement discussions online.\n",
    "\n",
    "However, third-party tech distributors, who rely on these brands' public image to drive sales, often lack accessible tools to automatically analyze global customer sentiment.\n",
    "\n",
    "This limitation makes it difficult for them to gauge market trends, anticipate product reception, or adjust inventory and marketing strategies in real time.\n",
    "\n",
    "By performing sentiment  analysis on tweets related to Apple and Google products, this project aims to provide real-time insights into how consumers perceive these brands, enabling distributors to make data-driven decisions that align with evolving market sentiments.\n",
    "\n",
    "### Key Challenges Faced by Third-Party Distributors\n",
    "1. Limited visibility into global public sentiments towards the products they sell(Apple, Google).\n",
    "2. Dependence on manual research and online reviews that are often outdated  or subjective.\n",
    "3. Difficulty identifying sentiment trends after major product releases or controversies\n",
    "4. Lack of predictive insights to guide marketing, stock, and pricing decisions.\n",
    "\n",
    "### Stakeholders\n",
    "1. **Third-Party Distributors and Retailers**: Rely on sentiment data to understand market perception, adjust marketing and manage pproduct portifolios.\n",
    "2. **Marketing Teams**: Monitor shifts in brand sentiments to align promotions or partnerships.\n",
    "3. **Product Analysts**: Track performance of specific products and flag potential reputation risks.\n",
    "4. **Executive Leadership**: Use sentiment trends to guide strategic product stocking and investment.\n",
    "\n",
    "### Problem Statement\n",
    "Third-party tech distributors play a crucial role in connecting manufacturers like Apple and Google with global consumers. However, these distributors often lack accessible, domain-specific sentiment analysis tools that can automatically monitor and interpret public opinions about the products they sell.\n",
    "\n",
    "As a result, many rely on manual market research, delayed reports, or fragmented feedback to understand customer attitudes, limiting their ability to make timely, data-driven decisions about marketing, inventory, and partnerships.\n",
    "*\n",
    "This project seeks to bridge the gap by:\n",
    "1. Developing an NLP-based sentiment analysis model that classifies tweets about Apple and Google products as positive, negative, or neutral.\n",
    "2. Deploying the model in a user-friendly web application that provides real-time sentiment insights.\n",
    "3. Empowering distributors to track brand perception, respond quickly to market trends, and make more informed business decisions.\n",
    "\n",
    "### Objectives\n",
    "1. To build an NLP model capable of classifying tweets into sentiment categories(positive, negative, neutral)\n",
    "2. To identify sentiment patterns and trends across brands(Apple vs Google)\n",
    "3. To deploy a user-friendly Streamlit web application for real-time sentiment monitoring.\n",
    "4. To generate insights that support distributors' marketing, pricing and inventory strategies.\n",
    "\n",
    "High recall on Negative tweets is particularly valuable to distributors to prevent missed warnings which is also critical to identify potential product issues or customer dissatisfaction.\n",
    "\n",
    "### Metrics of Success\n",
    "This project will be considered successful if it delivers measurable technical performance while providing actionable insights for business stakeholders:\n",
    "\n",
    "1.Model Performance\n",
    "- The NLP model achieves robust and reliable predictions on unseen data.\n",
    "- Binary sentiment detection maintains high recall for negative tweets to ensure critical issues or customer dissatisfaction are flagged. \n",
    "- Multiclass model captures overall sentiment trend (Positive, Neutral, Negative) across brands and products.\n",
    "\n",
    "2.Interpretability and alignment\n",
    "- Predictions align closely with human-labelled annotations, ensuring trust and credibility.\n",
    "- Probabilities and sentiment alerts are transparent and understandable for non-technical users.\n",
    "\n",
    "3. Actionable Business Insights\n",
    "- Negative alerts allow distributors and marketing teams to respond quickly to customer concerns or emerging issues.\n",
    "- Trend visualizations guide inventory, pricing, and marketing decision, enabling proactive management.\n",
    "- Multiclass sentiment trends offer insights into product perception after launches or incidents.\n",
    "\n",
    "4. Streamlit Application Functionality\n",
    "- Smooth, responsive interface with filters for brand, date, and product.\n",
    "- Visualizations include binary alerts, ROC Curve for model performance and multiclass sentiment trends.\n",
    "- Provides clear dashboards that summarize key insights for executives and analysts.\n",
    "-Performance thresholds:\n",
    " - Accuracy >= 80% on test data\n",
    " - F1-Score >= 0.80 for binary sentiment classification\n",
    " - High recall for negative tweets to minimize missed warnings\n",
    " - Clear, user-friendly interface summarizing key results."
   ]
  },
  {
   "cell_type": "markdown",
   "id": "76228f3e",
   "metadata": {},
   "source": [
    "## Data Understanding \n",
    "To analyze consumer sentiments toward Apple and Google products, we use the **CrowdFlower Brands and Product Emotions** dataset, sourced from **data.world**. \n",
    "\n",
    "This dataset contains **9,093 Tweets** collected from Twitter with human annotators labeling whether each tweet expresses an emotion directed at a specific brand or product.\n",
    "The human annotations provide a reliable foundation for developing a Natural Language Processing(NLP) model capable of understanding how consumers express opinions about major technology brands.\n",
    "\n",
    "### Dataset Structure\n",
    "The dataset includes the following key columns:\n",
    "1. `tweet_text` : The raw text of the tweet. This is the primary input used for sentiment classification and NLP modeling.\n",
    "2. `emotion_in_tweet_is directed_at` : The specific brand or product mentioned in the tweet. This column allows filtering relevant tweets for Apple and Google.\n",
    "3. `is_there_an_emotion_directed_at_a_brand_or_product`: The sentiment label assigned to the tweet, indicating the emotional polarity expressed towards the mentioned brand. Possible values include **Positive emotion, Negative emotion**, and sometimes **Neutral**(No emotion towards a brand and I can't tell)\n",
    "\n",
    "### Data Summary\n",
    "1. **Total Records**: 9,093 tweets\n",
    "2. **Columns**: 3\n",
    "3. **Target Variable**: `is_there_an_emotion_directed_at_a_brand_or_product`\n",
    "4. **Missing Values**: Some Tweets do not specify a brand or product under `emotion_in_tweet_is directed_at`\n",
    "5. **Data Type**: All features are stored as object type.\n",
    "\n",
    "### Data Relevance\n",
    "This dataset is highly relevant because it captures authentic, user-generated opinions about real-world products and brands. For third-party tech distributors, such insights are critical for:\n",
    "1. Understanding consumer perception trends for Apple and Google Products.\n",
    "2. Tracking shifts in positive or negative sentiments shift after major product releases or events.\n",
    "3. Supporting data-driven marketing, stocking and inventory decisions aligned with brand reputation.\n",
    "\n",
    "Overall, this dataset provides a solid basis for building and deploying a real-time sentiment analysis application, enabling distributors to monitor brand perception and respond to shifts in consumer sentiments."
   ]
  },
  {
   "cell_type": "code",
   "execution_count": 1,
   "id": "befe2c7e",
   "metadata": {},
   "outputs": [
    {
     "name": "stderr",
     "output_type": "stream",
     "text": [
      "[nltk_data] Downloading package punkt to\n",
      "[nltk_data]     C:\\Users\\USER\\AppData\\Roaming\\nltk_data...\n",
      "[nltk_data]   Package punkt is already up-to-date!\n",
      "[nltk_data] Downloading package stopwords to\n",
      "[nltk_data]     C:\\Users\\USER\\AppData\\Roaming\\nltk_data...\n",
      "[nltk_data]   Package stopwords is already up-to-date!\n",
      "[nltk_data] Downloading package wordnet to\n",
      "[nltk_data]     C:\\Users\\USER\\AppData\\Roaming\\nltk_data...\n",
      "[nltk_data]   Package wordnet is already up-to-date!\n",
      "[nltk_data] Downloading package punkt_tab to\n",
      "[nltk_data]     C:\\Users\\USER\\AppData\\Roaming\\nltk_data...\n",
      "[nltk_data]   Package punkt_tab is already up-to-date!\n",
      "[nltk_data] Downloading package vader_lexicon to\n",
      "[nltk_data]     C:\\Users\\USER\\AppData\\Roaming\\nltk_data...\n",
      "[nltk_data]   Package vader_lexicon is already up-to-date!\n",
      "[nltk_data] Downloading package omw-1.4 to\n",
      "[nltk_data]     C:\\Users\\USER\\AppData\\Roaming\\nltk_data...\n",
      "[nltk_data]   Package omw-1.4 is already up-to-date!\n",
      "[nltk_data] Downloading package averaged_perceptron_tagger to\n",
      "[nltk_data]     C:\\Users\\USER\\AppData\\Roaming\\nltk_data...\n",
      "[nltk_data]   Package averaged_perceptron_tagger is already up-to-\n",
      "[nltk_data]       date!\n",
      "[nltk_data] Downloading package averaged_perceptron_tagger_eng to\n",
      "[nltk_data]     C:\\Users\\USER\\AppData\\Roaming\\nltk_data...\n",
      "[nltk_data]   Package averaged_perceptron_tagger_eng is already up-to-\n",
      "[nltk_data]       date!\n",
      "c:\\Users\\USER\\anaconda3\\envs\\sentiment_env\\lib\\site-packages\\tqdm\\auto.py:21: TqdmWarning: IProgress not found. Please update jupyter and ipywidgets. See https://ipywidgets.readthedocs.io/en/stable/user_install.html\n",
      "  from .autonotebook import tqdm as notebook_tqdm\n",
      "c:\\Users\\USER\\anaconda3\\envs\\sentiment_env\\lib\\site-packages\\pydantic\\_internal\\_generate_schema.py:2249: UnsupportedFieldAttributeWarning: The 'repr' attribute with value False was provided to the `Field()` function, which has no effect in the context it was used. 'repr' is field-specific metadata, and can only be attached to a model field using `Annotated` metadata or by assignment. This may have happened because an `Annotated` type alias using the `type` statement was used, or if the `Field()` function was attached to a single member of a union type.\n",
      "  warnings.warn(\n",
      "c:\\Users\\USER\\anaconda3\\envs\\sentiment_env\\lib\\site-packages\\pydantic\\_internal\\_generate_schema.py:2249: UnsupportedFieldAttributeWarning: The 'frozen' attribute with value True was provided to the `Field()` function, which has no effect in the context it was used. 'frozen' is field-specific metadata, and can only be attached to a model field using `Annotated` metadata or by assignment. This may have happened because an `Annotated` type alias using the `type` statement was used, or if the `Field()` function was attached to a single member of a union type.\n",
      "  warnings.warn(\n"
     ]
    }
   ],
   "source": [
    "#Load the libraries\n",
    "\n",
    "import pandas as pd\n",
    "import numpy as np \n",
    "import matplotlib.pyplot as plt\n",
    "import seaborn as sns\n",
    "import re\n",
    "import contractions\n",
    "import os\n",
    "import requests\n",
    "import zipfile\n",
    "import streamlit as st\n",
    "\n",
    "import nltk\n",
    "nltk.download('punkt')\n",
    "nltk.download('stopwords')\n",
    "nltk.download('wordnet')\n",
    "nltk.download('punkt_tab')\n",
    "nltk.download('vader_lexicon')\n",
    "nltk.download(\"omw-1.4\")\n",
    "nltk.download(\"averaged_perceptron_tagger\")\n",
    "nltk.download(\"averaged_perceptron_tagger_eng\")\n",
    "\n",
    "from nltk.tokenize import word_tokenize\n",
    "from nltk.corpus import stopwords\n",
    "from nltk.stem import WordNetLemmatizer, PorterStemmer\n",
    "from nltk.sentiment.vader import SentimentIntensityAnalyzer\n",
    "\n",
    "import torch\n",
    "from torch.utils.data import Dataset, DataLoader\n",
    "from torch.optim import AdamW\n",
    "from torch import nn\n",
    "from torch.nn import functional as F\n",
    "from transformers import BertTokenizer, BertModel, BertForSequenceClassification, get_linear_schedule_with_warmup, DistilBertForSequenceClassification, DistilBertTokenizer\n",
    "from tqdm import tqdm\n",
    "import nlpaug.augmenter.word as naw\n",
    "import wandb\n",
    "from sklearn.model_selection import train_test_split, GridSearchCV, RandomizedSearchCV, StratifiedKFold\n",
    "from sklearn.feature_extraction.text import TfidfVectorizer, CountVectorizer\n",
    "from sklearn.linear_model import LogisticRegression\n",
    "from sklearn.ensemble import RandomForestClassifier\n",
    "from sklearn.preprocessing import LabelEncoder, StandardScaler, label_binarize\n",
    "from sklearn.metrics import accuracy_score, classification_report, confusion_matrix, f1_score, precision_score, recall_score, roc_curve, auc\n",
    "from sklearn.utils import class_weight\n",
    "from imblearn.pipeline import Pipeline\n",
    "import xgboost as xgb\n",
    "from xgboost import XGBClassifier\n",
    "from imblearn.over_sampling import SMOTE, RandomOverSampler\n",
    "from scipy.sparse import hstack, vstack \n",
    "from scipy.stats import randint, loguniform, uniform\n",
    "from collections import Counter\n",
    "import warnings\n",
    "warnings.filterwarnings('ignore')"
   ]
  },
  {
   "cell_type": "code",
   "execution_count": 2,
   "id": "66f4020b",
   "metadata": {},
   "outputs": [
    {
     "data": {
      "application/vnd.microsoft.datawrangler.viewer.v0+json": {
       "columns": [
        {
         "name": "index",
         "rawType": "int64",
         "type": "integer"
        },
        {
         "name": "tweet_text",
         "rawType": "object",
         "type": "string"
        },
        {
         "name": "emotion_in_tweet_is_directed_at",
         "rawType": "object",
         "type": "string"
        },
        {
         "name": "is_there_an_emotion_directed_at_a_brand_or_product",
         "rawType": "object",
         "type": "string"
        }
       ],
       "ref": "00d091ef-fa9c-4db1-8d70-891d4885b35b",
       "rows": [
        [
         "0",
         ".@wesley83 I have a 3G iPhone. After 3 hrs tweeting at #RISE_Austin, it was dead!  I need to upgrade. Plugin stations at #SXSW.",
         "iPhone",
         "Negative emotion"
        ],
        [
         "1",
         "@jessedee Know about @fludapp ? Awesome iPad/iPhone app that you'll likely appreciate for its design. Also, they're giving free Ts at #SXSW",
         "iPad or iPhone App",
         "Positive emotion"
        ],
        [
         "2",
         "@swonderlin Can not wait for #iPad 2 also. They should sale them down at #SXSW.",
         "iPad",
         "Positive emotion"
        ],
        [
         "3",
         "@sxsw I hope this year's festival isn't as crashy as this year's iPhone app. #sxsw",
         "iPad or iPhone App",
         "Negative emotion"
        ],
        [
         "4",
         "@sxtxstate great stuff on Fri #SXSW: Marissa Mayer (Google), Tim O'Reilly (tech books/conferences) &amp; Matt Mullenweg (Wordpress)",
         "Google",
         "Positive emotion"
        ]
       ],
       "shape": {
        "columns": 3,
        "rows": 5
       }
      },
      "text/html": [
       "<div>\n",
       "<style scoped>\n",
       "    .dataframe tbody tr th:only-of-type {\n",
       "        vertical-align: middle;\n",
       "    }\n",
       "\n",
       "    .dataframe tbody tr th {\n",
       "        vertical-align: top;\n",
       "    }\n",
       "\n",
       "    .dataframe thead th {\n",
       "        text-align: right;\n",
       "    }\n",
       "</style>\n",
       "<table border=\"1\" class=\"dataframe\">\n",
       "  <thead>\n",
       "    <tr style=\"text-align: right;\">\n",
       "      <th></th>\n",
       "      <th>tweet_text</th>\n",
       "      <th>emotion_in_tweet_is_directed_at</th>\n",
       "      <th>is_there_an_emotion_directed_at_a_brand_or_product</th>\n",
       "    </tr>\n",
       "  </thead>\n",
       "  <tbody>\n",
       "    <tr>\n",
       "      <th>0</th>\n",
       "      <td>.@wesley83 I have a 3G iPhone. After 3 hrs twe...</td>\n",
       "      <td>iPhone</td>\n",
       "      <td>Negative emotion</td>\n",
       "    </tr>\n",
       "    <tr>\n",
       "      <th>1</th>\n",
       "      <td>@jessedee Know about @fludapp ? Awesome iPad/i...</td>\n",
       "      <td>iPad or iPhone App</td>\n",
       "      <td>Positive emotion</td>\n",
       "    </tr>\n",
       "    <tr>\n",
       "      <th>2</th>\n",
       "      <td>@swonderlin Can not wait for #iPad 2 also. The...</td>\n",
       "      <td>iPad</td>\n",
       "      <td>Positive emotion</td>\n",
       "    </tr>\n",
       "    <tr>\n",
       "      <th>3</th>\n",
       "      <td>@sxsw I hope this year's festival isn't as cra...</td>\n",
       "      <td>iPad or iPhone App</td>\n",
       "      <td>Negative emotion</td>\n",
       "    </tr>\n",
       "    <tr>\n",
       "      <th>4</th>\n",
       "      <td>@sxtxstate great stuff on Fri #SXSW: Marissa M...</td>\n",
       "      <td>Google</td>\n",
       "      <td>Positive emotion</td>\n",
       "    </tr>\n",
       "  </tbody>\n",
       "</table>\n",
       "</div>"
      ],
      "text/plain": [
       "                                          tweet_text  \\\n",
       "0  .@wesley83 I have a 3G iPhone. After 3 hrs twe...   \n",
       "1  @jessedee Know about @fludapp ? Awesome iPad/i...   \n",
       "2  @swonderlin Can not wait for #iPad 2 also. The...   \n",
       "3  @sxsw I hope this year's festival isn't as cra...   \n",
       "4  @sxtxstate great stuff on Fri #SXSW: Marissa M...   \n",
       "\n",
       "  emotion_in_tweet_is_directed_at  \\\n",
       "0                          iPhone   \n",
       "1              iPad or iPhone App   \n",
       "2                            iPad   \n",
       "3              iPad or iPhone App   \n",
       "4                          Google   \n",
       "\n",
       "  is_there_an_emotion_directed_at_a_brand_or_product  \n",
       "0                                   Negative emotion  \n",
       "1                                   Positive emotion  \n",
       "2                                   Positive emotion  \n",
       "3                                   Negative emotion  \n",
       "4                                   Positive emotion  "
      ]
     },
     "execution_count": 2,
     "metadata": {},
     "output_type": "execute_result"
    }
   ],
   "source": [
    "#Load the dataset \n",
    "data = pd.read_csv(\"judge-1377884607_tweet_product_company.csv\", encoding=\"latin1\")\n",
    "data.head()"
   ]
  },
  {
   "cell_type": "code",
   "execution_count": 3,
   "id": "44b51223",
   "metadata": {},
   "outputs": [
    {
     "name": "stdout",
     "output_type": "stream",
     "text": [
      "<class 'pandas.core.frame.DataFrame'>\n",
      "RangeIndex: 9093 entries, 0 to 9092\n",
      "Data columns (total 3 columns):\n",
      " #   Column                                              Non-Null Count  Dtype \n",
      "---  ------                                              --------------  ----- \n",
      " 0   tweet_text                                          9092 non-null   object\n",
      " 1   emotion_in_tweet_is_directed_at                     3291 non-null   object\n",
      " 2   is_there_an_emotion_directed_at_a_brand_or_product  9093 non-null   object\n",
      "dtypes: object(3)\n",
      "memory usage: 213.2+ KB\n"
     ]
    }
   ],
   "source": [
    "data.info()"
   ]
  },
  {
   "cell_type": "markdown",
   "id": "b679321b",
   "metadata": {},
   "source": [
    "Observation:\n",
    "- The dataset primarily consists of text data(object type) across all columns.\n",
    "- The column `emotion_in_tweet_is_directed_at` has many missing values only 3,291 out of 9,093 entries are non-null.\n",
    "-The `tweet-text` column has only 1 missing value, which will be handled during cleaning.\n",
    "- The dataset seems manageable in size as well."
   ]
  },
  {
   "cell_type": "code",
   "execution_count": 4,
   "id": "ece0069c",
   "metadata": {},
   "outputs": [
    {
     "data": {
      "application/vnd.microsoft.datawrangler.viewer.v0+json": {
       "columns": [
        {
         "name": "index",
         "rawType": "int64",
         "type": "integer"
        },
        {
         "name": "tweet_text",
         "rawType": "object",
         "type": "string"
        },
        {
         "name": "emotion_in_tweet_is_directed_at",
         "rawType": "object",
         "type": "unknown"
        },
        {
         "name": "is_there_an_emotion_directed_at_a_brand_or_product",
         "rawType": "object",
         "type": "string"
        }
       ],
       "ref": "bef31e9d-c29e-45d0-8cdb-e060e046275c",
       "rows": [
        [
         "9088",
         "Ipad everywhere. #SXSW {link}",
         "iPad",
         "Positive emotion"
        ],
        [
         "9089",
         "Wave, buzz... RT @mention We interrupt your regularly scheduled #sxsw geek programming with big news {link}  #google #circles",
         null,
         "No emotion toward brand or product"
        ],
        [
         "9090",
         "Google's Zeiger, a physician never reported potential AE. Yet FDA relies on physicians. &quot;We're operating w/out data.&quot; #sxsw #health2dev",
         null,
         "No emotion toward brand or product"
        ],
        [
         "9091",
         "Some Verizon iPhone customers complained their time fell back an hour this weekend.  Of course they were the New Yorkers who attended #SXSW.",
         null,
         "No emotion toward brand or product"
        ],
        [
         "9092",
         "Ï¡Ïàü_ÊÎÒ£Áââ_£â_ÛâRT @mention Google Tests ÛÏCheck-in OffersÛ At #SXSW {link}",
         null,
         "No emotion toward brand or product"
        ]
       ],
       "shape": {
        "columns": 3,
        "rows": 5
       }
      },
      "text/html": [
       "<div>\n",
       "<style scoped>\n",
       "    .dataframe tbody tr th:only-of-type {\n",
       "        vertical-align: middle;\n",
       "    }\n",
       "\n",
       "    .dataframe tbody tr th {\n",
       "        vertical-align: top;\n",
       "    }\n",
       "\n",
       "    .dataframe thead th {\n",
       "        text-align: right;\n",
       "    }\n",
       "</style>\n",
       "<table border=\"1\" class=\"dataframe\">\n",
       "  <thead>\n",
       "    <tr style=\"text-align: right;\">\n",
       "      <th></th>\n",
       "      <th>tweet_text</th>\n",
       "      <th>emotion_in_tweet_is_directed_at</th>\n",
       "      <th>is_there_an_emotion_directed_at_a_brand_or_product</th>\n",
       "    </tr>\n",
       "  </thead>\n",
       "  <tbody>\n",
       "    <tr>\n",
       "      <th>9088</th>\n",
       "      <td>Ipad everywhere. #SXSW {link}</td>\n",
       "      <td>iPad</td>\n",
       "      <td>Positive emotion</td>\n",
       "    </tr>\n",
       "    <tr>\n",
       "      <th>9089</th>\n",
       "      <td>Wave, buzz... RT @mention We interrupt your re...</td>\n",
       "      <td>NaN</td>\n",
       "      <td>No emotion toward brand or product</td>\n",
       "    </tr>\n",
       "    <tr>\n",
       "      <th>9090</th>\n",
       "      <td>Google's Zeiger, a physician never reported po...</td>\n",
       "      <td>NaN</td>\n",
       "      <td>No emotion toward brand or product</td>\n",
       "    </tr>\n",
       "    <tr>\n",
       "      <th>9091</th>\n",
       "      <td>Some Verizon iPhone customers complained their...</td>\n",
       "      <td>NaN</td>\n",
       "      <td>No emotion toward brand or product</td>\n",
       "    </tr>\n",
       "    <tr>\n",
       "      <th>9092</th>\n",
       "      <td>Ï¡Ïàü_ÊÎÒ£Áââ_£â_ÛâRT @...</td>\n",
       "      <td>NaN</td>\n",
       "      <td>No emotion toward brand or product</td>\n",
       "    </tr>\n",
       "  </tbody>\n",
       "</table>\n",
       "</div>"
      ],
      "text/plain": [
       "                                             tweet_text  \\\n",
       "9088                      Ipad everywhere. #SXSW {link}   \n",
       "9089  Wave, buzz... RT @mention We interrupt your re...   \n",
       "9090  Google's Zeiger, a physician never reported po...   \n",
       "9091  Some Verizon iPhone customers complained their...   \n",
       "9092  Ï¡Ïàü_ÊÎÒ£Áââ_£â_ÛâRT @...   \n",
       "\n",
       "     emotion_in_tweet_is_directed_at  \\\n",
       "9088                            iPad   \n",
       "9089                             NaN   \n",
       "9090                             NaN   \n",
       "9091                             NaN   \n",
       "9092                             NaN   \n",
       "\n",
       "     is_there_an_emotion_directed_at_a_brand_or_product  \n",
       "9088                                   Positive emotion  \n",
       "9089                 No emotion toward brand or product  \n",
       "9090                 No emotion toward brand or product  \n",
       "9091                 No emotion toward brand or product  \n",
       "9092                 No emotion toward brand or product  "
      ]
     },
     "execution_count": 4,
     "metadata": {},
     "output_type": "execute_result"
    }
   ],
   "source": [
    "#Check the last rows\n",
    "data.tail()"
   ]
  },
  {
   "cell_type": "markdown",
   "id": "5458bcf4",
   "metadata": {},
   "source": [
    "The dataset values appear uniform from top to bottom."
   ]
  },
  {
   "cell_type": "code",
   "execution_count": 5,
   "id": "eed6d0d0",
   "metadata": {},
   "outputs": [
    {
     "name": "stdout",
     "output_type": "stream",
     "text": [
      "The dataset has 9093 rows and 3 columns.\n"
     ]
    }
   ],
   "source": [
    "#Check shape\n",
    "print(f\"The dataset has {data.shape[0]} rows and {data.shape[1]} columns.\")"
   ]
  },
  {
   "cell_type": "code",
   "execution_count": 6,
   "id": "05ff5937",
   "metadata": {},
   "outputs": [
    {
     "name": "stdout",
     "output_type": "stream",
     "text": [
      "tweet_text                                               1\n",
      "emotion_in_tweet_is_directed_at                       5802\n",
      "is_there_an_emotion_directed_at_a_brand_or_product       0\n",
      "dtype: int64\n",
      "22\n"
     ]
    }
   ],
   "source": [
    "# Check missing values and duplicates\n",
    "print(data.isna().sum())\n",
    "print(data.duplicated().sum())"
   ]
  },
  {
   "cell_type": "code",
   "execution_count": 7,
   "id": "edb50d71",
   "metadata": {},
   "outputs": [
    {
     "data": {
      "application/vnd.microsoft.datawrangler.viewer.v0+json": {
       "columns": [
        {
         "name": "index",
         "rawType": "object",
         "type": "string"
        },
        {
         "name": "tweet_text",
         "rawType": "object",
         "type": "unknown"
        },
        {
         "name": "emotion_in_tweet_is_directed_at",
         "rawType": "object",
         "type": "unknown"
        },
        {
         "name": "is_there_an_emotion_directed_at_a_brand_or_product",
         "rawType": "object",
         "type": "unknown"
        }
       ],
       "ref": "d2535892-689b-4c14-90ca-8c7fb8a714d6",
       "rows": [
        [
         "count",
         "9092",
         "3291",
         "9093"
        ],
        [
         "unique",
         "9065",
         "9",
         "4"
        ],
        [
         "top",
         "RT @mention Marissa Mayer: Google Will Connect the Digital &amp; Physical Worlds Through Mobile - {link} #sxsw",
         "iPad",
         "No emotion toward brand or product"
        ],
        [
         "freq",
         "5",
         "946",
         "5389"
        ]
       ],
       "shape": {
        "columns": 3,
        "rows": 4
       }
      },
      "text/html": [
       "<div>\n",
       "<style scoped>\n",
       "    .dataframe tbody tr th:only-of-type {\n",
       "        vertical-align: middle;\n",
       "    }\n",
       "\n",
       "    .dataframe tbody tr th {\n",
       "        vertical-align: top;\n",
       "    }\n",
       "\n",
       "    .dataframe thead th {\n",
       "        text-align: right;\n",
       "    }\n",
       "</style>\n",
       "<table border=\"1\" class=\"dataframe\">\n",
       "  <thead>\n",
       "    <tr style=\"text-align: right;\">\n",
       "      <th></th>\n",
       "      <th>tweet_text</th>\n",
       "      <th>emotion_in_tweet_is_directed_at</th>\n",
       "      <th>is_there_an_emotion_directed_at_a_brand_or_product</th>\n",
       "    </tr>\n",
       "  </thead>\n",
       "  <tbody>\n",
       "    <tr>\n",
       "      <th>count</th>\n",
       "      <td>9092</td>\n",
       "      <td>3291</td>\n",
       "      <td>9093</td>\n",
       "    </tr>\n",
       "    <tr>\n",
       "      <th>unique</th>\n",
       "      <td>9065</td>\n",
       "      <td>9</td>\n",
       "      <td>4</td>\n",
       "    </tr>\n",
       "    <tr>\n",
       "      <th>top</th>\n",
       "      <td>RT @mention Marissa Mayer: Google Will Connect...</td>\n",
       "      <td>iPad</td>\n",
       "      <td>No emotion toward brand or product</td>\n",
       "    </tr>\n",
       "    <tr>\n",
       "      <th>freq</th>\n",
       "      <td>5</td>\n",
       "      <td>946</td>\n",
       "      <td>5389</td>\n",
       "    </tr>\n",
       "  </tbody>\n",
       "</table>\n",
       "</div>"
      ],
      "text/plain": [
       "                                               tweet_text  \\\n",
       "count                                                9092   \n",
       "unique                                               9065   \n",
       "top     RT @mention Marissa Mayer: Google Will Connect...   \n",
       "freq                                                    5   \n",
       "\n",
       "       emotion_in_tweet_is_directed_at  \\\n",
       "count                             3291   \n",
       "unique                               9   \n",
       "top                               iPad   \n",
       "freq                               946   \n",
       "\n",
       "       is_there_an_emotion_directed_at_a_brand_or_product  \n",
       "count                                                9093  \n",
       "unique                                                  4  \n",
       "top                    No emotion toward brand or product  \n",
       "freq                                                 5389  "
      ]
     },
     "execution_count": 7,
     "metadata": {},
     "output_type": "execute_result"
    }
   ],
   "source": [
    "data.describe(include='object')"
   ]
  },
  {
   "cell_type": "markdown",
   "id": "65262cd1",
   "metadata": {},
   "source": [
    "Observation:\n",
    "- The dataset is dominated by tweets without strong emotions towards a brand/product.\n",
    "- Only a subset of tweets approximately 36%(3,291 out of 9,083) tweets express an emotion directed at a brand.\n",
    "- The presence of duplicates and missing values confirms that data cleaning will be required before modeling."
   ]
  },
  {
   "cell_type": "code",
   "execution_count": 8,
   "id": "6c7cbaa1",
   "metadata": {},
   "outputs": [
    {
     "name": "stdout",
     "output_type": "stream",
     "text": [
      "tweet_text 9065\n",
      "emotion_in_tweet_is_directed_at 9\n",
      "is_there_an_emotion_directed_at_a_brand_or_product 4\n"
     ]
    }
   ],
   "source": [
    "# Check Unique values per column\n",
    "for col in data.columns:\n",
    "    print(col,data[col].nunique())\n"
   ]
  },
  {
   "cell_type": "markdown",
   "id": "fa9048fa",
   "metadata": {},
   "source": [
    "Observation:\n",
    "\n",
    "The dataset contains;\n",
    "- 9,065 unique tweet texts, indicating minimal duplication in tweet content.\n",
    "- 9 unique values in the `emotion_in_tweet_is_directed_at` column, representing different brands or products mentioned in the tweets.\n",
    "- 4 unique values in the `is_there_an_emotion_directed_at_a_brand_or_product` column, showing the possible emotion labels assigned to each tweet."
   ]
  },
  {
   "cell_type": "code",
   "execution_count": 9,
   "id": "d4a5e13c",
   "metadata": {},
   "outputs": [
    {
     "data": {
      "application/vnd.microsoft.datawrangler.viewer.v0+json": {
       "columns": [
        {
         "name": "is_there_an_emotion_directed_at_a_brand_or_product",
         "rawType": "object",
         "type": "string"
        },
        {
         "name": "count",
         "rawType": "int64",
         "type": "integer"
        }
       ],
       "ref": "bb9e2df2-6c7b-45fd-8504-6fb31acc1ec3",
       "rows": [
        [
         "No emotion toward brand or product",
         "5389"
        ],
        [
         "Positive emotion",
         "2978"
        ],
        [
         "Negative emotion",
         "570"
        ],
        [
         "I can't tell",
         "156"
        ]
       ],
       "shape": {
        "columns": 1,
        "rows": 4
       }
      },
      "text/plain": [
       "is_there_an_emotion_directed_at_a_brand_or_product\n",
       "No emotion toward brand or product    5389\n",
       "Positive emotion                      2978\n",
       "Negative emotion                       570\n",
       "I can't tell                           156\n",
       "Name: count, dtype: int64"
      ]
     },
     "execution_count": 9,
     "metadata": {},
     "output_type": "execute_result"
    }
   ],
   "source": [
    "#Check value counts for key columns\n",
    "data[\"is_there_an_emotion_directed_at_a_brand_or_product\"].value_counts()"
   ]
  },
  {
   "cell_type": "markdown",
   "id": "3af1da2f",
   "metadata": {},
   "source": [
    "- Most tweets(5,389) express no emotion toward a brand or product.\n",
    "- 2,978 tweets show positive emotion while 570 are negative\n",
    "- A small number(156) are uncertain(I can't tell) indicating a class imbalance, with \"No emotion\" being the dominant category."
   ]
  },
  {
   "cell_type": "code",
   "execution_count": 10,
   "id": "225d220a",
   "metadata": {},
   "outputs": [
    {
     "data": {
      "application/vnd.microsoft.datawrangler.viewer.v0+json": {
       "columns": [
        {
         "name": "emotion_in_tweet_is_directed_at",
         "rawType": "object",
         "type": "string"
        },
        {
         "name": "count",
         "rawType": "int64",
         "type": "integer"
        }
       ],
       "ref": "513c6884-2dda-403d-81da-8a6449b14ef3",
       "rows": [
        [
         "iPad",
         "946"
        ],
        [
         "Apple",
         "661"
        ],
        [
         "iPad or iPhone App",
         "470"
        ],
        [
         "Google",
         "430"
        ],
        [
         "iPhone",
         "297"
        ],
        [
         "Other Google product or service",
         "293"
        ],
        [
         "Android App",
         "81"
        ],
        [
         "Android",
         "78"
        ],
        [
         "Other Apple product or service",
         "35"
        ]
       ],
       "shape": {
        "columns": 1,
        "rows": 9
       }
      },
      "text/plain": [
       "emotion_in_tweet_is_directed_at\n",
       "iPad                               946\n",
       "Apple                              661\n",
       "iPad or iPhone App                 470\n",
       "Google                             430\n",
       "iPhone                             297\n",
       "Other Google product or service    293\n",
       "Android App                         81\n",
       "Android                             78\n",
       "Other Apple product or service      35\n",
       "Name: count, dtype: int64"
      ]
     },
     "execution_count": 10,
     "metadata": {},
     "output_type": "execute_result"
    }
   ],
   "source": [
    "data[\"emotion_in_tweet_is_directed_at\"].value_counts()"
   ]
  },
  {
   "cell_type": "markdown",
   "id": "7e076024",
   "metadata": {},
   "source": [
    "Among Apple-related products, the most mentioned are:\n",
    "- **iPad**(946), **Apple**(661), **iPad or iPhone App**(470), **iphone**(297), **Other Apple product or service**(35)\n",
    "\n",
    "Among Google-related products, the mentions are:\n",
    "- **Google**(430), **Other Google product or service**(293), **Android App**(81), **Android**(78)\n",
    "\n",
    "Overall, Apple products are mentioned more frequently than Google products, which indicates a slight skew toward Apple-related tweets, and should be addressed during modeling."
   ]
  },
  {
   "cell_type": "markdown",
   "id": "79325fc1",
   "metadata": {},
   "source": [
    "## Data Preparation\n",
    "### Data Cleaning"
   ]
  },
  {
   "cell_type": "code",
   "execution_count": 11,
   "id": "05a2bcf4",
   "metadata": {},
   "outputs": [
    {
     "name": "stdout",
     "output_type": "stream",
     "text": [
      "<class 'pandas.core.frame.DataFrame'>\n",
      "RangeIndex: 9093 entries, 0 to 9092\n",
      "Data columns (total 3 columns):\n",
      " #   Column                                              Non-Null Count  Dtype \n",
      "---  ------                                              --------------  ----- \n",
      " 0   tweet_text                                          9092 non-null   object\n",
      " 1   emotion_in_tweet_is_directed_at                     3291 non-null   object\n",
      " 2   is_there_an_emotion_directed_at_a_brand_or_product  9093 non-null   object\n",
      "dtypes: object(3)\n",
      "memory usage: 213.2+ KB\n"
     ]
    }
   ],
   "source": [
    "# Create a copy\n",
    "df = data.copy(deep=True)\n",
    "df.info()"
   ]
  },
  {
   "cell_type": "code",
   "execution_count": 12,
   "id": "72e4985a",
   "metadata": {},
   "outputs": [
    {
     "name": "stdout",
     "output_type": "stream",
     "text": [
      "Columns after renaming: ['text', 'brand', 'sentiment']\n"
     ]
    },
    {
     "data": {
      "application/vnd.microsoft.datawrangler.viewer.v0+json": {
       "columns": [
        {
         "name": "index",
         "rawType": "int64",
         "type": "integer"
        },
        {
         "name": "text",
         "rawType": "object",
         "type": "string"
        },
        {
         "name": "brand",
         "rawType": "object",
         "type": "string"
        },
        {
         "name": "sentiment",
         "rawType": "object",
         "type": "string"
        }
       ],
       "ref": "2ad17a75-f71e-483f-8994-52bbca516ec4",
       "rows": [
        [
         "0",
         ".@wesley83 I have a 3G iPhone. After 3 hrs tweeting at #RISE_Austin, it was dead!  I need to upgrade. Plugin stations at #SXSW.",
         "iPhone",
         "Negative emotion"
        ],
        [
         "1",
         "@jessedee Know about @fludapp ? Awesome iPad/iPhone app that you'll likely appreciate for its design. Also, they're giving free Ts at #SXSW",
         "iPad or iPhone App",
         "Positive emotion"
        ],
        [
         "2",
         "@swonderlin Can not wait for #iPad 2 also. They should sale them down at #SXSW.",
         "iPad",
         "Positive emotion"
        ]
       ],
       "shape": {
        "columns": 3,
        "rows": 3
       }
      },
      "text/html": [
       "<div>\n",
       "<style scoped>\n",
       "    .dataframe tbody tr th:only-of-type {\n",
       "        vertical-align: middle;\n",
       "    }\n",
       "\n",
       "    .dataframe tbody tr th {\n",
       "        vertical-align: top;\n",
       "    }\n",
       "\n",
       "    .dataframe thead th {\n",
       "        text-align: right;\n",
       "    }\n",
       "</style>\n",
       "<table border=\"1\" class=\"dataframe\">\n",
       "  <thead>\n",
       "    <tr style=\"text-align: right;\">\n",
       "      <th></th>\n",
       "      <th>text</th>\n",
       "      <th>brand</th>\n",
       "      <th>sentiment</th>\n",
       "    </tr>\n",
       "  </thead>\n",
       "  <tbody>\n",
       "    <tr>\n",
       "      <th>0</th>\n",
       "      <td>.@wesley83 I have a 3G iPhone. After 3 hrs twe...</td>\n",
       "      <td>iPhone</td>\n",
       "      <td>Negative emotion</td>\n",
       "    </tr>\n",
       "    <tr>\n",
       "      <th>1</th>\n",
       "      <td>@jessedee Know about @fludapp ? Awesome iPad/i...</td>\n",
       "      <td>iPad or iPhone App</td>\n",
       "      <td>Positive emotion</td>\n",
       "    </tr>\n",
       "    <tr>\n",
       "      <th>2</th>\n",
       "      <td>@swonderlin Can not wait for #iPad 2 also. The...</td>\n",
       "      <td>iPad</td>\n",
       "      <td>Positive emotion</td>\n",
       "    </tr>\n",
       "  </tbody>\n",
       "</table>\n",
       "</div>"
      ],
      "text/plain": [
       "                                                text               brand  \\\n",
       "0  .@wesley83 I have a 3G iPhone. After 3 hrs twe...              iPhone   \n",
       "1  @jessedee Know about @fludapp ? Awesome iPad/i...  iPad or iPhone App   \n",
       "2  @swonderlin Can not wait for #iPad 2 also. The...                iPad   \n",
       "\n",
       "          sentiment  \n",
       "0  Negative emotion  \n",
       "1  Positive emotion  \n",
       "2  Positive emotion  "
      ]
     },
     "execution_count": 12,
     "metadata": {},
     "output_type": "execute_result"
    }
   ],
   "source": [
    "# Column renaming for easier reference\n",
    "df = df.rename(columns={\n",
    "    'tweet_text': 'text',\n",
    "    'emotion_in_tweet_is_directed_at': 'brand',\n",
    "    'is_there_an_emotion_directed_at_a_brand_or_product': 'sentiment'\n",
    "})\n",
    "\n",
    "# Recheck column names\n",
    "print(\"Columns after renaming:\", df.columns.tolist())\n",
    "df.head(3)"
   ]
  },
  {
   "cell_type": "code",
   "execution_count": 13,
   "id": "ed035003",
   "metadata": {},
   "outputs": [
    {
     "name": "stdout",
     "output_type": "stream",
     "text": [
      "Number of duplicate rows after removal: 0\n",
      "New dataset shape: (9071, 3)\n"
     ]
    }
   ],
   "source": [
    "# Check duplicates\n",
    "df.duplicated().sum()\n",
    "#Drop the duplicates\n",
    "df.drop_duplicates(inplace=True)\n",
    "# Recheck duplicates\n",
    "print(\"Number of duplicate rows after removal:\", df.duplicated().sum())\n",
    "print(\"New dataset shape:\", df.shape)"
   ]
  },
  {
   "cell_type": "code",
   "execution_count": 14,
   "id": "fa3c04e1",
   "metadata": {},
   "outputs": [
    {
     "name": "stdout",
     "output_type": "stream",
     "text": [
      "text            1\n",
      "brand        5789\n",
      "sentiment       0\n",
      "dtype: int64\n"
     ]
    }
   ],
   "source": [
    "# Handling missing Values - \n",
    "print(df.isnull().sum())\n",
    "#Drop rows with missing text\n",
    "df = df.dropna(subset=[\"text\"])"
   ]
  },
  {
   "cell_type": "markdown",
   "id": "c6e5a2ff",
   "metadata": {},
   "source": [
    "Since 64% (5788) of the `brand` data is missing, we will use `text` column to do brand inference manually."
   ]
  },
  {
   "cell_type": "code",
   "execution_count": 15,
   "id": "df5fa339",
   "metadata": {},
   "outputs": [
    {
     "data": {
      "application/vnd.microsoft.datawrangler.viewer.v0+json": {
       "columns": [
        {
         "name": "brand",
         "rawType": "object",
         "type": "string"
        },
        {
         "name": "count",
         "rawType": "int64",
         "type": "integer"
        }
       ],
       "ref": "d6fefe27-4893-4f81-aa18-c7592e843a06",
       "rows": [
        [
         "Apple",
         "3777"
        ],
        [
         "Google",
         "2339"
        ],
        [
         "iPad",
         "945"
        ],
        [
         "iPad or iPhone App",
         "469"
        ],
        [
         "iPhone",
         "296"
        ],
        [
         "Other Google product or service",
         "293"
        ],
        [
         "Android App",
         "80"
        ],
        [
         "Android",
         "77"
        ],
        [
         "Other Apple product or service",
         "35"
        ]
       ],
       "shape": {
        "columns": 1,
        "rows": 9
       }
      },
      "text/plain": [
       "brand\n",
       "Apple                              3777\n",
       "Google                             2339\n",
       "iPad                                945\n",
       "iPad or iPhone App                  469\n",
       "iPhone                              296\n",
       "Other Google product or service     293\n",
       "Android App                          80\n",
       "Android                              77\n",
       "Other Apple product or service       35\n",
       "Name: count, dtype: int64"
      ]
     },
     "execution_count": 15,
     "metadata": {},
     "output_type": "execute_result"
    }
   ],
   "source": [
    "# Lowercase all text to make inference easier\n",
    "df[\"text\"] = df[\"text\"].str.lower()\n",
    "\n",
    "# infer missing brands\n",
    "def infer_brand(text):\n",
    "    if any (word in text for word in [\"apple\", \"ipad\", \"iphone\"]):\n",
    "        return \"Apple\"\n",
    "    elif any(word in text for word in [\"google\", \"android\"]):\n",
    "        return \"Google\"\n",
    "    else:\n",
    "        return None \n",
    "df[\"brand\"] = df[\"brand\"].fillna(df[\"text\"].apply(infer_brand))\n",
    "df[\"brand\"].value_counts()"
   ]
  },
  {
   "cell_type": "code",
   "execution_count": 16,
   "id": "a932de1d",
   "metadata": {},
   "outputs": [
    {
     "data": {
      "application/vnd.microsoft.datawrangler.viewer.v0+json": {
       "columns": [
        {
         "name": "index",
         "rawType": "object",
         "type": "string"
        },
        {
         "name": "0",
         "rawType": "int64",
         "type": "integer"
        }
       ],
       "ref": "a60933ff-6d01-4540-8453-cb5f3300325a",
       "rows": [
        [
         "text",
         "0"
        ],
        [
         "brand",
         "759"
        ],
        [
         "sentiment",
         "0"
        ]
       ],
       "shape": {
        "columns": 1,
        "rows": 3
       }
      },
      "text/plain": [
       "text           0\n",
       "brand        759\n",
       "sentiment      0\n",
       "dtype: int64"
      ]
     },
     "execution_count": 16,
     "metadata": {},
     "output_type": "execute_result"
    }
   ],
   "source": [
    "df.isna().sum()"
   ]
  },
  {
   "cell_type": "markdown",
   "id": "73b89906",
   "metadata": {},
   "source": [
    "- After inferring brands from text, 759 tweets still has no identifiable Apple or Google brand.\n",
    "- We will drop those tweets because they cannot be used for brand-specific sentiment analysis\n",
    "- This also ensures the dataset now contains only tweets with known Apple or Google Products."
   ]
  },
  {
   "cell_type": "code",
   "execution_count": 17,
   "id": "766268d4",
   "metadata": {},
   "outputs": [],
   "source": [
    "#drop missing values under brand \n",
    "df = df.dropna(subset=[\"brand\"])"
   ]
  },
  {
   "cell_type": "code",
   "execution_count": 18,
   "id": "eae744b3",
   "metadata": {},
   "outputs": [
    {
     "name": "stdout",
     "output_type": "stream",
     "text": [
      "brand\n",
      "Apple                              3777\n",
      "Google                             2339\n",
      "iPad                                945\n",
      "iPad or iPhone App                  469\n",
      "iPhone                              296\n",
      "Other Google product or service     293\n",
      "Android App                          80\n",
      "Android                              77\n",
      "Other Apple product or service       35\n",
      "Name: count, dtype: int64\n"
     ]
    }
   ],
   "source": [
    "# filter the brands accordingly as either Apple or Google\n",
    "apple_products = [\"iPad\", \"Apple\", \"iPad or iPhone App\", \"iPhone\", \"Other Apple product or service\"]\n",
    "google_products = [\"Google\", \"Other Google product or service\", \"Android\", \"Android App\"]\n",
    "\n",
    "df_filtered = df[df[\"brand\"].isin(apple_products + google_products)]\n",
    "\n",
    "print(df_filtered[\"brand\"].value_counts())"
   ]
  },
  {
   "cell_type": "code",
   "execution_count": 19,
   "id": "8e17275e",
   "metadata": {},
   "outputs": [
    {
     "name": "stdout",
     "output_type": "stream",
     "text": [
      "parent_brand\n",
      "Apple     5522\n",
      "Google    2789\n",
      "Name: count, dtype: int64\n"
     ]
    }
   ],
   "source": [
    "# assign parent brand\n",
    "def assign_parent_brand(x):\n",
    "    if x in apple_products:\n",
    "        return \"Apple\"\n",
    "    elif x in google_products:\n",
    "        return \"Google\"\n",
    "    else:\t\t\n",
    "        return \"Other\"\n",
    "    \n",
    "df[\"parent_brand\"] = df[\"brand\"].apply(assign_parent_brand)\n",
    "print(df[\"parent_brand\"].value_counts())"
   ]
  },
  {
   "cell_type": "code",
   "execution_count": 20,
   "id": "1c470f60",
   "metadata": {},
   "outputs": [
    {
     "data": {
      "application/vnd.microsoft.datawrangler.viewer.v0+json": {
       "columns": [
        {
         "name": "sentiment_simple",
         "rawType": "object",
         "type": "string"
        },
        {
         "name": "count",
         "rawType": "int64",
         "type": "integer"
        }
       ],
       "ref": "8bd4129c-f870-4245-88e5-5f0d5544188c",
       "rows": [
        [
         "Neutral",
         "4786"
        ],
        [
         "Positive",
         "2957"
        ],
        [
         "Negative",
         "568"
        ]
       ],
       "shape": {
        "columns": 1,
        "rows": 3
       }
      },
      "text/plain": [
       "sentiment_simple\n",
       "Neutral     4786\n",
       "Positive    2957\n",
       "Negative     568\n",
       "Name: count, dtype: int64"
      ]
     },
     "execution_count": 20,
     "metadata": {},
     "output_type": "execute_result"
    }
   ],
   "source": [
    "# map sentiment to simplified categories(Positive/Negative/Neutral)\n",
    "sentiment_mapping = {\n",
    "    \"Positive emotion\": \"Positive\",\n",
    "    \"Negative emotion\": \"Negative\",\n",
    "    \"No emotion toward brand or product\": \"Neutral\",\n",
    "    \"I can't tell\": \"Neutral\"\n",
    "    }\n",
    "\n",
    "df[\"sentiment_simple\"] = df[\"sentiment\"].map(sentiment_mapping)\n",
    "df[\"sentiment_simple\"].value_counts()"
   ]
  },
  {
   "cell_type": "code",
   "execution_count": 21,
   "id": "e6816746",
   "metadata": {},
   "outputs": [
    {
     "name": "stdout",
     "output_type": "stream",
     "text": [
      "Missing values:\n",
      " text                0\n",
      "brand               0\n",
      "sentiment           0\n",
      "parent_brand        0\n",
      "sentiment_simple    0\n",
      "dtype: int64\n",
      "\\Dataset shape: (8311, 5)\n",
      "\n",
      "Brand counts:\n",
      " brand\n",
      "Apple                              3777\n",
      "Google                             2339\n",
      "iPad                                945\n",
      "iPad or iPhone App                  469\n",
      "iPhone                              296\n",
      "Other Google product or service     293\n",
      "Android App                          80\n",
      "Android                              77\n",
      "Other Apple product or service       35\n",
      "Name: count, dtype: int64\n",
      "\n",
      "Parent brand counts:\n",
      " parent_brand\n",
      "Apple     5522\n",
      "Google    2789\n",
      "Name: count, dtype: int64\n",
      "\n",
      "Sentiment counts:\n",
      " sentiment_simple\n",
      "Neutral     4786\n",
      "Positive    2957\n",
      "Negative     568\n",
      "Name: count, dtype: int64\n"
     ]
    }
   ],
   "source": [
    "# Summary of cleaned dataset\n",
    "print(\"Missing values:\\n\", df.isnull().sum())\n",
    "print(\"\\Dataset shape:\", df.shape)\n",
    "print(\"\\nBrand counts:\\n\", df[\"brand\"].value_counts())\n",
    "print(\"\\nParent brand counts:\\n\", df[\"parent_brand\"].value_counts())\n",
    "print(\"\\nSentiment counts:\\n\", df[\"sentiment_simple\"].value_counts())"
   ]
  },
  {
   "cell_type": "code",
   "execution_count": 22,
   "id": "b3c54780",
   "metadata": {},
   "outputs": [],
   "source": [
    "# Save the cleaned dataset\n",
    "df.to_csv(\"clean_apple_google_tweets.csv\", index=False)"
   ]
  },
  {
   "cell_type": "markdown",
   "id": "26c4ac66",
   "metadata": {},
   "source": [
    "### Exploratory Data Analysis\n",
    "#### Univariate Analysis\n",
    "We will analyze the following features in Apple and Google tweet dataset to their characteristics on public sentiments\n",
    "1. **Parent brand Distribution** this will help us understand if the dataset is skewed towards one brand which may influence model bias.\n",
    "2. **Sentiment Distribution** This will help us to explore the distribution of positive,negative and neutral sentiments a cross tweets.\n",
    "3. **Tweet length** Analyze the number of words per tweet to see if longer tweets carry more detailed opinions."
   ]
  },
  {
   "cell_type": "markdown",
   "id": "2d356ce7",
   "metadata": {},
   "source": [
    "1. Parent Brand Distribution"
   ]
  },
  {
   "cell_type": "code",
   "execution_count": 23,
   "id": "e4b3435c",
   "metadata": {},
   "outputs": [
    {
     "data": {
      "image/png": "[encoded data removed]",
      "text/plain": [
       "<Figure size 800x600 with 1 Axes>"
      ]
     },
     "metadata": {},
     "output_type": "display_data"
    }
   ],
   "source": [
    "plt.figure(figsize=(8,6))\n",
    "sns.countplot(data=df, x=\"parent_brand\", palette=\"Set2\")\n",
    "plt.title(\"Distribution of tweet by Parent Brand\" )\n",
    "plt.xlabel(\"Brand\")\n",
    "plt.ylabel(\"No.of tweets\")\n",
    "plt.tight_layout()\n",
    "plt.show()"
   ]
  },
  {
   "cell_type": "markdown",
   "id": "b254af63",
   "metadata": {},
   "source": [
    "Most tweets over 5000 are about Apple products while less than 3000 tweets are about Google products."
   ]
  },
  {
   "cell_type": "markdown",
   "id": "40269155",
   "metadata": {},
   "source": [
    "2. Sentiment Distribution"
   ]
  },
  {
   "cell_type": "code",
   "execution_count": 24,
   "id": "777f9e6d",
   "metadata": {},
   "outputs": [
    {
     "data": {
      "image/png": "[encoded data removed]",
      "text/plain": [
       "<Figure size 800x600 with 1 Axes>"
      ]
     },
     "metadata": {},
     "output_type": "display_data"
    }
   ],
   "source": [
    "plt.figure(figsize=(8,6))\n",
    "sns.countplot(data=df, x=\"sentiment_simple\", palette=\"Set2\")\n",
    "plt.title(\"Distribution of Sentiments \" )\n",
    "plt.xlabel(\"Sentiment\")\n",
    "plt.ylabel(\"No.of tweets\")\n",
    "plt.tight_layout()\n",
    "plt.show()"
   ]
  },
  {
   "cell_type": "markdown",
   "id": "3275ecc4",
   "metadata": {},
   "source": [
    "Neutral sentiment dominates the dataset followed by Positive and Negative sentiments respectively."
   ]
  },
  {
   "cell_type": "markdown",
   "id": "6b9ea7b0",
   "metadata": {},
   "source": [
    "3. Tweet Length"
   ]
  },
  {
   "cell_type": "code",
   "execution_count": 25,
   "id": "52a59ab1",
   "metadata": {},
   "outputs": [
    {
     "data": {
      "image/png": "[encoded data removed]",
      "text/plain": [
       "<Figure size 800x600 with 1 Axes>"
      ]
     },
     "metadata": {},
     "output_type": "display_data"
    }
   ],
   "source": [
    "df[\"tweet_length\"] = df[\"text\"].apply(lambda x: len(x.split()))\n",
    "plt.figure(figsize=(8,6))\n",
    "sns.histplot(df[\"tweet_length\"],bins=30,kde=True,color=\"blue\")\n",
    "plt.title(\"Distribution of Tweet Length\")\n",
    "plt.xlabel(\"No.of Words\")\n",
    "plt.ylabel(\"Frequency\")\n",
    "plt.tight_layout()\n",
    "plt.show()"
   ]
  },
  {
   "cell_type": "markdown",
   "id": "4f49ebc5",
   "metadata": {},
   "source": [
    "Tweet length mostly range between fifteen (15) to twenty five(25) words."
   ]
  },
  {
   "cell_type": "markdown",
   "id": "aac06f5c",
   "metadata": {},
   "source": [
    "**General observation**\n",
    "- The dataset is skewed toward Apple, with higher number of tweets compared to google, which may introduce some bias during modeling.\n",
    "- Neutral sentiments is the most common followed by positive then negative,indicating that many tweets do not express a strong feeling towards a product.\n",
    "- Tweet lenghts are generally short to medium.Approximately 15-25 words suggesting that most opinions are brief,which can affect the textual feature for NLP Models."
   ]
  },
  {
   "cell_type": "markdown",
   "id": "f7b51539",
   "metadata": {},
   "source": [
    "### Bivariate Analysis\n",
    "We will focus on the following key bivariate relationship:\n",
    "1. **Parent Brand Vs Sentiments** to examine how sentiments vary between Apple and Google tweets\n",
    "2. **Tweet length Vs Sentiments** to determine whether longer or shorter tweets are associated with certain sentiment type e.g whether negative opinions are expressed in longer tweets.\n",
    "3. **Product Vs Sentiment** to analyse how sentiment distributions vary across individual products for a more granular understanding of customer opinions."
   ]
  },
  {
   "cell_type": "markdown",
   "id": "b86485fa",
   "metadata": {},
   "source": [
    "1. Parent Brand Vs Sentiments.\n"
   ]
  },
  {
   "cell_type": "code",
   "execution_count": 26,
   "id": "a9daf3f8",
   "metadata": {},
   "outputs": [
    {
     "data": {
      "image/png": "[encoded data removed]",
      "text/plain": [
       "<Figure size 800x600 with 1 Axes>"
      ]
     },
     "metadata": {},
     "output_type": "display_data"
    }
   ],
   "source": [
    "plt.figure(figsize=(8,6))\n",
    "sns.countplot(data=df, x=\"parent_brand\",hue=\"sentiment_simple\", palette=\"Set2\")\n",
    "plt.title(\"Distribution of Sentiment by brand \" )\n",
    "plt.xlabel(\"Brand\")\n",
    "plt.ylabel(\"No.of tweets\")\n",
    "plt.legend(title=\"sentiment\")\n",
    "plt.tight_layout()\n",
    "plt.show()"
   ]
  },
  {
   "cell_type": "markdown",
   "id": "76d9f1af",
   "metadata": {},
   "source": [
    "Apple tweets has higher proportion of positive sentiments compared to Google."
   ]
  },
  {
   "cell_type": "markdown",
   "id": "3330fe7d",
   "metadata": {},
   "source": [
    "2. Tweet Length Vs Sentiments"
   ]
  },
  {
   "cell_type": "code",
   "execution_count": 27,
   "id": "46a9e671",
   "metadata": {},
   "outputs": [
    {
     "data": {
      "image/png": "[encoded data removed]",
      "text/plain": [
       "<Figure size 800x600 with 1 Axes>"
      ]
     },
     "metadata": {},
     "output_type": "display_data"
    }
   ],
   "source": [
    "plt.figure(figsize=(8,6))\n",
    "sns.boxplot(data=df, x=\"sentiment_simple\",y=\"tweet_length\", palette=\"Set2\")\n",
    "plt.title(\"Tweet length by Sentiment \")\n",
    "plt.xlabel(\"Sentiment\")\n",
    "plt.ylabel(\"tweet length in words\")\n",
    "plt.tight_layout()\n",
    "plt.show()"
   ]
  },
  {
   "cell_type": "markdown",
   "id": "25ded327",
   "metadata": {},
   "source": [
    "Negative sentiment tweets tend to be slightly longer on avaerage compared to positive and neutral."
   ]
  },
  {
   "cell_type": "markdown",
   "id": "de98d9d8",
   "metadata": {},
   "source": [
    "3. Product Vs Sentiment"
   ]
  },
  {
   "cell_type": "code",
   "execution_count": 28,
   "id": "5770f271",
   "metadata": {},
   "outputs": [
    {
     "data": {
      "image/png": "[encoded data removed]",
      "text/plain": [
       "<Figure size 800x600 with 2 Axes>"
      ]
     },
     "metadata": {},
     "output_type": "display_data"
    }
   ],
   "source": [
    "product_sentiment_counts = df.pivot_table(index = \"brand\",\n",
    "                                          columns=\"sentiment_simple\",\n",
    "                                          values=\"text\",\n",
    "                                          aggfunc=\"count\",\n",
    "                                          fill_value=0)\n",
    "\n",
    "plt.figure(figsize=(8,6))\n",
    "sns.heatmap(product_sentiment_counts, annot=True,fmt=\"d\",cmap=\"viridis\")\n",
    "plt.title(\"Heatmap of sentiment count by product\" )\n",
    "plt.xlabel(\"Sentiment\")\n",
    "plt.ylabel(\"Product\")\n",
    "plt.tight_layout()\n",
    "plt.show()"
   ]
  },
  {
   "cell_type": "markdown",
   "id": "c635fbb8",
   "metadata": {},
   "source": [
    "Ipad show high positive sentiment count of 792."
   ]
  },
  {
   "cell_type": "markdown",
   "id": "945b9b2c",
   "metadata": {},
   "source": [
    "**General Observations**\n",
    "- Apple tweets have higher proportion of sentiment compared to Google.This indicates that brand influemces the distribution of sentiment in a dataset.\n",
    "- Negative sentiment tweets tend to be slightly longer on average, suggesting that users may write more detailed tweets when expressing dissatisfaction.\n",
    "- Positive and neutral tweets are generally shorter, indicating that praise or neutral comments are often brief.\n",
    "- The heatmap highlights the concentration of sentiment counts per brand and product. It provides a clear visual understanding of which products attract the most positive, negative, or neutral tweets.\n",
    "- Apple dominates in tweet volume and positive sentiment while Google products have fewer mentions but similar sentiment patterns.\n",
    "- Product-specific sentiment helps identify which products drive customer satisfaction or dissatisfaction and can guide marketing strategies or product improvements."
   ]
  },
  {
   "cell_type": "markdown",
   "id": "11f1d78e",
   "metadata": {},
   "source": [
    "## Multivariate Analysis"
   ]
  },
  {
   "cell_type": "markdown",
   "id": "efb43183",
   "metadata": {},
   "source": [
    "We will focus on the following key multivariate relationships."
   ]
  },
  {
   "cell_type": "markdown",
   "id": "c71ded6f",
   "metadata": {},
   "source": [
    "1. **Parent Brand, Sentiment, and Tweet Length** To examine how tweet length varies for different sentiment types across Apple and Google products\n",
    "2. **Product, Sentiment, and Parent Brand** To understand how sentiment distribution differs across individual products within each parent brand.\n"
   ]
  },
  {
   "cell_type": "markdown",
   "id": "6ac87980",
   "metadata": {},
   "source": [
    "1. Parent brand,Sentiment and Tweet length\n"
   ]
  },
  {
   "cell_type": "code",
   "execution_count": 29,
   "id": "da0e972d",
   "metadata": {},
   "outputs": [
    {
     "data": {
      "image/png": "[encoded data removed]",
      "text/plain": [
       "<Figure size 800x600 with 1 Axes>"
      ]
     },
     "metadata": {},
     "output_type": "display_data"
    }
   ],
   "source": [
    "plt.figure(figsize=(8,6))\n",
    "sns.violinplot(data=df, x='parent_brand', y='tweet_length', hue='sentiment_simple', split=True, palette='Set1')\n",
    "plt.title(\"Tweet Length by Brand and Sentiment\")\n",
    "plt.xlabel(\"Brand\")\n",
    "plt.ylabel(\"Tweet Length (words)\")\n",
    "plt.show()"
   ]
  },
  {
   "cell_type": "markdown",
   "id": "eac75a06",
   "metadata": {},
   "source": [
    "The violin plot shows how long tweets are in number of words,and whether the tweets are positive,negative or neutral.\n",
    "- The shape of each color(violin shape)shows how length vary.\n",
    "- For both apple and google most tweets have around 15-25 words.\n",
    "- There isn't a huge difference in tweet length between positive and negative emotions.\n",
    "\n",
    "This means that people tend to express their opinions in similarly size tweets,no matter whether they are happy,upset or neutral."
   ]
  },
  {
   "cell_type": "markdown",
   "id": "0068a75d",
   "metadata": {},
   "source": [
    "2. Product,Sentiment and Parent brand"
   ]
  },
  {
   "cell_type": "code",
   "execution_count": 30,
   "id": "0650a02f",
   "metadata": {},
   "outputs": [
    {
     "data": {
      "image/png": "[encoded data removed]",
      "text/plain": [
       "<Figure size 1200x500 with 1 Axes>"
      ]
     },
     "metadata": {},
     "output_type": "display_data"
    }
   ],
   "source": [
    "sentiment_counts = df.groupby(['brand', 'sentiment_simple']).size().unstack(fill_value=0)\n",
    "sentiment_counts.plot(kind='bar', stacked=True, figsize=(12,5), colormap='Paired')\n",
    "plt.title(\"Sentiment Counts per Product\")\n",
    "plt.xlabel(\"Product\")\n",
    "plt.ylabel(\"Number of Tweets\") \n",
    "plt.show()"
   ]
  },
  {
   "cell_type": "markdown",
   "id": "8d9e22f0",
   "metadata": {},
   "source": [
    "Apple has more neutral sentiment tweets compared to Google.They follow a similar pattern of sentiment distribution."
   ]
  },
  {
   "cell_type": "markdown",
   "id": "4da695cd",
   "metadata": {},
   "source": [
    "**General Observations**.\n",
    "- Apple dominates in tweet volume and positive sentiments,suggesting that they generally elicit favourable opinions on social media.\n",
    "- Google products have fewer mentions but similar sentiment patterns.Negative sentiment is slightly more pronounced for Google products compared to Apple,possibly reflecting critical user feedback.\n",
    "- Neutral sentiment is common across both Apple and Google products reflecting tweets then that mention products without expressing a strong opinion. This is important for model training as neutral tweets make up a substantial portion of the dataset."
   ]
  },
  {
   "cell_type": "markdown",
   "id": "2b8c9796",
   "metadata": {},
   "source": [
    "### Text Preprocessing\n",
    "We will clean and normalize tweet text to remove noise(URLs, mentions, hashtags, punctuation), preserve product identifiers(e.g iphone13, 3G), expand/normalize contractions where possible, remove stopwords, lemmatize, and produce token lists for feature extraction"
   ]
  },
  {
   "cell_type": "code",
   "execution_count": 31,
   "id": "e4eeff1e",
   "metadata": {},
   "outputs": [
    {
     "data": {
      "application/vnd.microsoft.datawrangler.viewer.v0+json": {
       "columns": [
        {
         "name": "index",
         "rawType": "int64",
         "type": "integer"
        },
        {
         "name": "text",
         "rawType": "object",
         "type": "string"
        },
        {
         "name": "brand",
         "rawType": "object",
         "type": "string"
        },
        {
         "name": "sentiment",
         "rawType": "object",
         "type": "string"
        },
        {
         "name": "parent_brand",
         "rawType": "object",
         "type": "string"
        },
        {
         "name": "sentiment_simple",
         "rawType": "object",
         "type": "string"
        }
       ],
       "ref": "1f49aa4e-1f99-450c-8010-860c50c9b284",
       "rows": [
        [
         "0",
         ".@wesley83 i have a 3g iphone. after 3 hrs tweeting at #rise_austin, it was dead!  i need to upgrade. plugin stations at #sxsw.",
         "iPhone",
         "Negative emotion",
         "Apple",
         "Negative"
        ],
        [
         "1",
         "@jessedee know about @fludapp ? awesome ipad/iphone app that you'll likely appreciate for its design. also, they're giving free ts at #sxsw",
         "iPad or iPhone App",
         "Positive emotion",
         "Apple",
         "Positive"
        ],
        [
         "2",
         "@swonderlin can not wait for #ipad 2 also. they should sale them down at #sxsw.",
         "iPad",
         "Positive emotion",
         "Apple",
         "Positive"
        ],
        [
         "3",
         "@sxsw i hope this year's festival isn't as crashy as this year's iphone app. #sxsw",
         "iPad or iPhone App",
         "Negative emotion",
         "Apple",
         "Negative"
        ],
        [
         "4",
         "@sxtxstate great stuff on fri #sxsw: marissa mayer (google), tim o'reilly (tech books/conferences) &amp; matt mullenweg (wordpress)",
         "Google",
         "Positive emotion",
         "Google",
         "Positive"
        ]
       ],
       "shape": {
        "columns": 5,
        "rows": 5
       }
      },
      "text/html": [
       "<div>\n",
       "<style scoped>\n",
       "    .dataframe tbody tr th:only-of-type {\n",
       "        vertical-align: middle;\n",
       "    }\n",
       "\n",
       "    .dataframe tbody tr th {\n",
       "        vertical-align: top;\n",
       "    }\n",
       "\n",
       "    .dataframe thead th {\n",
       "        text-align: right;\n",
       "    }\n",
       "</style>\n",
       "<table border=\"1\" class=\"dataframe\">\n",
       "  <thead>\n",
       "    <tr style=\"text-align: right;\">\n",
       "      <th></th>\n",
       "      <th>text</th>\n",
       "      <th>brand</th>\n",
       "      <th>sentiment</th>\n",
       "      <th>parent_brand</th>\n",
       "      <th>sentiment_simple</th>\n",
       "    </tr>\n",
       "  </thead>\n",
       "  <tbody>\n",
       "    <tr>\n",
       "      <th>0</th>\n",
       "      <td>.@wesley83 i have a 3g iphone. after 3 hrs twe...</td>\n",
       "      <td>iPhone</td>\n",
       "      <td>Negative emotion</td>\n",
       "      <td>Apple</td>\n",
       "      <td>Negative</td>\n",
       "    </tr>\n",
       "    <tr>\n",
       "      <th>1</th>\n",
       "      <td>@jessedee know about @fludapp ? awesome ipad/i...</td>\n",
       "      <td>iPad or iPhone App</td>\n",
       "      <td>Positive emotion</td>\n",
       "      <td>Apple</td>\n",
       "      <td>Positive</td>\n",
       "    </tr>\n",
       "    <tr>\n",
       "      <th>2</th>\n",
       "      <td>@swonderlin can not wait for #ipad 2 also. the...</td>\n",
       "      <td>iPad</td>\n",
       "      <td>Positive emotion</td>\n",
       "      <td>Apple</td>\n",
       "      <td>Positive</td>\n",
       "    </tr>\n",
       "    <tr>\n",
       "      <th>3</th>\n",
       "      <td>@sxsw i hope this year's festival isn't as cra...</td>\n",
       "      <td>iPad or iPhone App</td>\n",
       "      <td>Negative emotion</td>\n",
       "      <td>Apple</td>\n",
       "      <td>Negative</td>\n",
       "    </tr>\n",
       "    <tr>\n",
       "      <th>4</th>\n",
       "      <td>@sxtxstate great stuff on fri #sxsw: marissa m...</td>\n",
       "      <td>Google</td>\n",
       "      <td>Positive emotion</td>\n",
       "      <td>Google</td>\n",
       "      <td>Positive</td>\n",
       "    </tr>\n",
       "  </tbody>\n",
       "</table>\n",
       "</div>"
      ],
      "text/plain": [
       "                                                text               brand  \\\n",
       "0  .@wesley83 i have a 3g iphone. after 3 hrs twe...              iPhone   \n",
       "1  @jessedee know about @fludapp ? awesome ipad/i...  iPad or iPhone App   \n",
       "2  @swonderlin can not wait for #ipad 2 also. the...                iPad   \n",
       "3  @sxsw i hope this year's festival isn't as cra...  iPad or iPhone App   \n",
       "4  @sxtxstate great stuff on fri #sxsw: marissa m...              Google   \n",
       "\n",
       "          sentiment parent_brand sentiment_simple  \n",
       "0  Negative emotion        Apple         Negative  \n",
       "1  Positive emotion        Apple         Positive  \n",
       "2  Positive emotion        Apple         Positive  \n",
       "3  Negative emotion        Apple         Negative  \n",
       "4  Positive emotion       Google         Positive  "
      ]
     },
     "execution_count": 31,
     "metadata": {},
     "output_type": "execute_result"
    }
   ],
   "source": [
    "#Load the clean dataset\n",
    "df = pd.read_csv(\"clean_apple_google_tweets.csv\")\n",
    "df.head()"
   ]
  },
  {
   "cell_type": "code",
   "execution_count": 32,
   "id": "72966ceb",
   "metadata": {},
   "outputs": [
    {
     "data": {
      "application/vnd.microsoft.datawrangler.viewer.v0+json": {
       "columns": [
        {
         "name": "index",
         "rawType": "int64",
         "type": "integer"
        },
        {
         "name": "text",
         "rawType": "object",
         "type": "string"
        },
        {
         "name": "brand",
         "rawType": "object",
         "type": "string"
        },
        {
         "name": "sentiment",
         "rawType": "object",
         "type": "string"
        },
        {
         "name": "parent_brand",
         "rawType": "object",
         "type": "string"
        },
        {
         "name": "sentiment_simple",
         "rawType": "object",
         "type": "string"
        },
        {
         "name": "clean_text",
         "rawType": "object",
         "type": "string"
        }
       ],
       "ref": "36698782-a798-4606-bc55-ca8e8b49bf4f",
       "rows": [
        [
         "0",
         ".@wesley83 i have a 3g iphone. after 3 hrs tweeting at #rise_austin, it was dead!  i need to upgrade. plugin stations at #sxsw.",
         "iPhone",
         "Negative emotion",
         "Apple",
         "Negative",
         "i have a 3g iphone after 3 hrs tweeting at it was dead i need to upgrade plugin stations at"
        ],
        [
         "1",
         "@jessedee know about @fludapp ? awesome ipad/iphone app that you'll likely appreciate for its design. also, they're giving free ts at #sxsw",
         "iPad or iPhone App",
         "Positive emotion",
         "Apple",
         "Positive",
         "know about awesome ipad iphone app that you will likely appreciate for its design also they are giving free ts at"
        ],
        [
         "2",
         "@swonderlin can not wait for #ipad 2 also. they should sale them down at #sxsw.",
         "iPad",
         "Positive emotion",
         "Apple",
         "Positive",
         "can not wait for 2 also they should sale them down at"
        ],
        [
         "3",
         "@sxsw i hope this year's festival isn't as crashy as this year's iphone app. #sxsw",
         "iPad or iPhone App",
         "Negative emotion",
         "Apple",
         "Negative",
         "i hope this year s festival is not as crashy as this year s iphone app"
        ],
        [
         "4",
         "@sxtxstate great stuff on fri #sxsw: marissa mayer (google), tim o'reilly (tech books/conferences) &amp; matt mullenweg (wordpress)",
         "Google",
         "Positive emotion",
         "Google",
         "Positive",
         "great stuff on fri marissa mayer google tim o reilly tech books conferences amp matt mullenweg wordpress"
        ]
       ],
       "shape": {
        "columns": 6,
        "rows": 5
       }
      },
      "text/html": [
       "<div>\n",
       "<style scoped>\n",
       "    .dataframe tbody tr th:only-of-type {\n",
       "        vertical-align: middle;\n",
       "    }\n",
       "\n",
       "    .dataframe tbody tr th {\n",
       "        vertical-align: top;\n",
       "    }\n",
       "\n",
       "    .dataframe thead th {\n",
       "        text-align: right;\n",
       "    }\n",
       "</style>\n",
       "<table border=\"1\" class=\"dataframe\">\n",
       "  <thead>\n",
       "    <tr style=\"text-align: right;\">\n",
       "      <th></th>\n",
       "      <th>text</th>\n",
       "      <th>brand</th>\n",
       "      <th>sentiment</th>\n",
       "      <th>parent_brand</th>\n",
       "      <th>sentiment_simple</th>\n",
       "      <th>clean_text</th>\n",
       "    </tr>\n",
       "  </thead>\n",
       "  <tbody>\n",
       "    <tr>\n",
       "      <th>0</th>\n",
       "      <td>.@wesley83 i have a 3g iphone. after 3 hrs twe...</td>\n",
       "      <td>iPhone</td>\n",
       "      <td>Negative emotion</td>\n",
       "      <td>Apple</td>\n",
       "      <td>Negative</td>\n",
       "      <td>i have a 3g iphone after 3 hrs tweeting at it ...</td>\n",
       "    </tr>\n",
       "    <tr>\n",
       "      <th>1</th>\n",
       "      <td>@jessedee know about @fludapp ? awesome ipad/i...</td>\n",
       "      <td>iPad or iPhone App</td>\n",
       "      <td>Positive emotion</td>\n",
       "      <td>Apple</td>\n",
       "      <td>Positive</td>\n",
       "      <td>know about awesome ipad iphone app that you wi...</td>\n",
       "    </tr>\n",
       "    <tr>\n",
       "      <th>2</th>\n",
       "      <td>@swonderlin can not wait for #ipad 2 also. the...</td>\n",
       "      <td>iPad</td>\n",
       "      <td>Positive emotion</td>\n",
       "      <td>Apple</td>\n",
       "      <td>Positive</td>\n",
       "      <td>can not wait for 2 also they should sale them ...</td>\n",
       "    </tr>\n",
       "    <tr>\n",
       "      <th>3</th>\n",
       "      <td>@sxsw i hope this year's festival isn't as cra...</td>\n",
       "      <td>iPad or iPhone App</td>\n",
       "      <td>Negative emotion</td>\n",
       "      <td>Apple</td>\n",
       "      <td>Negative</td>\n",
       "      <td>i hope this year s festival is not as crashy a...</td>\n",
       "    </tr>\n",
       "    <tr>\n",
       "      <th>4</th>\n",
       "      <td>@sxtxstate great stuff on fri #sxsw: marissa m...</td>\n",
       "      <td>Google</td>\n",
       "      <td>Positive emotion</td>\n",
       "      <td>Google</td>\n",
       "      <td>Positive</td>\n",
       "      <td>great stuff on fri marissa mayer google tim o ...</td>\n",
       "    </tr>\n",
       "  </tbody>\n",
       "</table>\n",
       "</div>"
      ],
      "text/plain": [
       "                                                text               brand  \\\n",
       "0  .@wesley83 i have a 3g iphone. after 3 hrs twe...              iPhone   \n",
       "1  @jessedee know about @fludapp ? awesome ipad/i...  iPad or iPhone App   \n",
       "2  @swonderlin can not wait for #ipad 2 also. the...                iPad   \n",
       "3  @sxsw i hope this year's festival isn't as cra...  iPad or iPhone App   \n",
       "4  @sxtxstate great stuff on fri #sxsw: marissa m...              Google   \n",
       "\n",
       "          sentiment parent_brand sentiment_simple  \\\n",
       "0  Negative emotion        Apple         Negative   \n",
       "1  Positive emotion        Apple         Positive   \n",
       "2  Positive emotion        Apple         Positive   \n",
       "3  Negative emotion        Apple         Negative   \n",
       "4  Positive emotion       Google         Positive   \n",
       "\n",
       "                                          clean_text  \n",
       "0  i have a 3g iphone after 3 hrs tweeting at it ...  \n",
       "1  know about awesome ipad iphone app that you wi...  \n",
       "2  can not wait for 2 also they should sale them ...  \n",
       "3  i hope this year s festival is not as crashy a...  \n",
       "4  great stuff on fri marissa mayer google tim o ...  "
      ]
     },
     "execution_count": 32,
     "metadata": {},
     "output_type": "execute_result"
    }
   ],
   "source": [
    "# Remove URLs, mentions, Hashtags, Punctuation, Digits, Extraspaces\n",
    "def clean_text(text):\n",
    "    # convert to lower case\n",
    "    text = text.lower()\n",
    "    # expand contractions (e.g, can't to cannot)\n",
    "    text = contractions.fix(text)\n",
    "    # remove URLs\n",
    "    text = re.sub(r'http\\s+|www\\.s+', '', text)\n",
    "\t\t# remove mentions\n",
    "    text = re.sub(r'@\\w+', '', text)\n",
    "    # remove hashtags\n",
    "    text = re.sub(r'#\\w+', '', text)\n",
    "    # keep alphanumeric(e.g iphone3g), remove punctuation except spaces\n",
    "    text = re.sub(r'[^a-z0-9\\s\\-]', ' ', text)\n",
    "    # remove time expressions\n",
    "    text = re.sub(r'\\b\\d{1,2}(am|pm)\\b', '', text)\n",
    "    # remove long numeric strings\n",
    "    text = re.sub(r'\\b\\d{4}\\b', '', text)\n",
    "    # remove white spaces\n",
    "    text = re.sub(r'\\s+', ' ', text).strip()\n",
    "    \n",
    "    return text\n",
    "df[\"clean_text\"] = df[\"text\"].apply(clean_text)\n",
    "df.head()"
   ]
  },
  {
   "cell_type": "code",
   "execution_count": 33,
   "id": "7986e0b6",
   "metadata": {},
   "outputs": [
    {
     "data": {
      "application/vnd.microsoft.datawrangler.viewer.v0+json": {
       "columns": [
        {
         "name": "index",
         "rawType": "int64",
         "type": "integer"
        },
        {
         "name": "text",
         "rawType": "object",
         "type": "string"
        },
        {
         "name": "clean_text",
         "rawType": "object",
         "type": "string"
        },
        {
         "name": "tokens",
         "rawType": "object",
         "type": "unknown"
        }
       ],
       "ref": "6220937e-e8a3-4f6b-bf22-84e5f0065788",
       "rows": [
        [
         "0",
         ".@wesley83 i have a 3g iphone. after 3 hrs tweeting at #rise_austin, it was dead!  i need to upgrade. plugin stations at #sxsw.",
         "3g iphone 3 hr tweeting dead need upgrade plugin station",
         "['3g', 'iphone', '3', 'hr', 'tweeting', 'dead', 'need', 'upgrade', 'plugin', 'station']"
        ],
        [
         "1",
         "@jessedee know about @fludapp ? awesome ipad/iphone app that you'll likely appreciate for its design. also, they're giving free ts at #sxsw",
         "know awesome ipad iphone app likely appreciate design also giving free t",
         "['know', 'awesome', 'ipad', 'iphone', 'app', 'likely', 'appreciate', 'design', 'also', 'giving', 'free', 't']"
        ],
        [
         "2",
         "@swonderlin can not wait for #ipad 2 also. they should sale them down at #sxsw.",
         "wait 2 also sale",
         "['wait', '2', 'also', 'sale']"
        ],
        [
         "3",
         "@sxsw i hope this year's festival isn't as crashy as this year's iphone app. #sxsw",
         "hope year festival crashy year iphone app",
         "['hope', 'year', 'festival', 'crashy', 'year', 'iphone', 'app']"
        ],
        [
         "4",
         "@sxtxstate great stuff on fri #sxsw: marissa mayer (google), tim o'reilly (tech books/conferences) &amp; matt mullenweg (wordpress)",
         "great stuff fri marissa mayer google tim reilly tech book conference amp matt mullenweg wordpress",
         "['great', 'stuff', 'fri', 'marissa', 'mayer', 'google', 'tim', 'reilly', 'tech', 'book', 'conference', 'amp', 'matt', 'mullenweg', 'wordpress']"
        ]
       ],
       "shape": {
        "columns": 3,
        "rows": 5
       }
      },
      "text/html": [
       "<div>\n",
       "<style scoped>\n",
       "    .dataframe tbody tr th:only-of-type {\n",
       "        vertical-align: middle;\n",
       "    }\n",
       "\n",
       "    .dataframe tbody tr th {\n",
       "        vertical-align: top;\n",
       "    }\n",
       "\n",
       "    .dataframe thead th {\n",
       "        text-align: right;\n",
       "    }\n",
       "</style>\n",
       "<table border=\"1\" class=\"dataframe\">\n",
       "  <thead>\n",
       "    <tr style=\"text-align: right;\">\n",
       "      <th></th>\n",
       "      <th>text</th>\n",
       "      <th>clean_text</th>\n",
       "      <th>tokens</th>\n",
       "    </tr>\n",
       "  </thead>\n",
       "  <tbody>\n",
       "    <tr>\n",
       "      <th>0</th>\n",
       "      <td>.@wesley83 i have a 3g iphone. after 3 hrs twe...</td>\n",
       "      <td>3g iphone 3 hr tweeting dead need upgrade plug...</td>\n",
       "      <td>[3g, iphone, 3, hr, tweeting, dead, need, upgr...</td>\n",
       "    </tr>\n",
       "    <tr>\n",
       "      <th>1</th>\n",
       "      <td>@jessedee know about @fludapp ? awesome ipad/i...</td>\n",
       "      <td>know awesome ipad iphone app likely appreciate...</td>\n",
       "      <td>[know, awesome, ipad, iphone, app, likely, app...</td>\n",
       "    </tr>\n",
       "    <tr>\n",
       "      <th>2</th>\n",
       "      <td>@swonderlin can not wait for #ipad 2 also. the...</td>\n",
       "      <td>wait 2 also sale</td>\n",
       "      <td>[wait, 2, also, sale]</td>\n",
       "    </tr>\n",
       "    <tr>\n",
       "      <th>3</th>\n",
       "      <td>@sxsw i hope this year's festival isn't as cra...</td>\n",
       "      <td>hope year festival crashy year iphone app</td>\n",
       "      <td>[hope, year, festival, crashy, year, iphone, app]</td>\n",
       "    </tr>\n",
       "    <tr>\n",
       "      <th>4</th>\n",
       "      <td>@sxtxstate great stuff on fri #sxsw: marissa m...</td>\n",
       "      <td>great stuff fri marissa mayer google tim reill...</td>\n",
       "      <td>[great, stuff, fri, marissa, mayer, google, ti...</td>\n",
       "    </tr>\n",
       "  </tbody>\n",
       "</table>\n",
       "</div>"
      ],
      "text/plain": [
       "                                                text  \\\n",
       "0  .@wesley83 i have a 3g iphone. after 3 hrs twe...   \n",
       "1  @jessedee know about @fludapp ? awesome ipad/i...   \n",
       "2  @swonderlin can not wait for #ipad 2 also. the...   \n",
       "3  @sxsw i hope this year's festival isn't as cra...   \n",
       "4  @sxtxstate great stuff on fri #sxsw: marissa m...   \n",
       "\n",
       "                                          clean_text  \\\n",
       "0  3g iphone 3 hr tweeting dead need upgrade plug...   \n",
       "1  know awesome ipad iphone app likely appreciate...   \n",
       "2                                   wait 2 also sale   \n",
       "3          hope year festival crashy year iphone app   \n",
       "4  great stuff fri marissa mayer google tim reill...   \n",
       "\n",
       "                                              tokens  \n",
       "0  [3g, iphone, 3, hr, tweeting, dead, need, upgr...  \n",
       "1  [know, awesome, ipad, iphone, app, likely, app...  \n",
       "2                              [wait, 2, also, sale]  \n",
       "3  [hope, year, festival, crashy, year, iphone, app]  \n",
       "4  [great, stuff, fri, marissa, mayer, google, ti...  "
      ]
     },
     "execution_count": 33,
     "metadata": {},
     "output_type": "execute_result"
    }
   ],
   "source": [
    "# Removing stopwords i.e common words that do not carry much meaning\n",
    "stop_words = set(stopwords.words('english'))\n",
    "df[\"clean_text\"] = df[\"clean_text\"].apply(lambda x: ' '.join([word for word in x.split() if word not in stop_words]))\n",
    "\n",
    "# Lemmatization to reduce words to their base form to ensure uniformity\n",
    "lemmatizer = WordNetLemmatizer()\n",
    "df[\"clean_text\"] = df[\"clean_text\"].apply(lambda x: ' '.join([lemmatizer.lemmatize(word) for word in x.split()]))\n",
    "\n",
    "# tokenization to split each tweet into individual word-tokens to be used in feature extraction \n",
    "df[\"tokens\"] = df[\"clean_text\"].apply(word_tokenize)\n",
    "df[[\"text\", \"clean_text\", \"tokens\"]].head()"
   ]
  },
  {
   "cell_type": "markdown",
   "id": "63d14b09",
   "metadata": {},
   "source": [
    "#### Feature Engineering\n",
    "- In feature engineering, we will create/combine additional features(tweet length, VADER polarity, presence of brand tokens, average word2vec/BERT embeddings) to compliment extracted features. "
   ]
  },
  {
   "cell_type": "code",
   "execution_count": 34,
   "id": "b77d89c1",
   "metadata": {},
   "outputs": [
    {
     "data": {
      "application/vnd.microsoft.datawrangler.viewer.v0+json": {
       "columns": [
        {
         "name": "index",
         "rawType": "int64",
         "type": "integer"
        },
        {
         "name": "tweet_length",
         "rawType": "int64",
         "type": "integer"
        },
        {
         "name": "mentions_apple",
         "rawType": "int64",
         "type": "integer"
        },
        {
         "name": "mentions_google",
         "rawType": "int64",
         "type": "integer"
        }
       ],
       "ref": "fcad64ea-afd1-4bc4-8e66-35be1a760687",
       "rows": [
        [
         "0",
         "10",
         "1",
         "0"
        ],
        [
         "1",
         "12",
         "2",
         "0"
        ],
        [
         "2",
         "4",
         "0",
         "0"
        ],
        [
         "3",
         "7",
         "1",
         "0"
        ],
        [
         "4",
         "15",
         "0",
         "1"
        ],
        [
         "5",
         "10",
         "1",
         "0"
        ],
        [
         "6",
         "9",
         "0",
         "0"
        ],
        [
         "7",
         "12",
         "1",
         "0"
        ],
        [
         "8",
         "10",
         "1",
         "0"
        ],
        [
         "9",
         "10",
         "0",
         "1"
        ]
       ],
       "shape": {
        "columns": 3,
        "rows": 10
       }
      },
      "text/html": [
       "<div>\n",
       "<style scoped>\n",
       "    .dataframe tbody tr th:only-of-type {\n",
       "        vertical-align: middle;\n",
       "    }\n",
       "\n",
       "    .dataframe tbody tr th {\n",
       "        vertical-align: top;\n",
       "    }\n",
       "\n",
       "    .dataframe thead th {\n",
       "        text-align: right;\n",
       "    }\n",
       "</style>\n",
       "<table border=\"1\" class=\"dataframe\">\n",
       "  <thead>\n",
       "    <tr style=\"text-align: right;\">\n",
       "      <th></th>\n",
       "      <th>tweet_length</th>\n",
       "      <th>mentions_apple</th>\n",
       "      <th>mentions_google</th>\n",
       "    </tr>\n",
       "  </thead>\n",
       "  <tbody>\n",
       "    <tr>\n",
       "      <th>0</th>\n",
       "      <td>10</td>\n",
       "      <td>1</td>\n",
       "      <td>0</td>\n",
       "    </tr>\n",
       "    <tr>\n",
       "      <th>1</th>\n",
       "      <td>12</td>\n",
       "      <td>2</td>\n",
       "      <td>0</td>\n",
       "    </tr>\n",
       "    <tr>\n",
       "      <th>2</th>\n",
       "      <td>4</td>\n",
       "      <td>0</td>\n",
       "      <td>0</td>\n",
       "    </tr>\n",
       "    <tr>\n",
       "      <th>3</th>\n",
       "      <td>7</td>\n",
       "      <td>1</td>\n",
       "      <td>0</td>\n",
       "    </tr>\n",
       "    <tr>\n",
       "      <th>4</th>\n",
       "      <td>15</td>\n",
       "      <td>0</td>\n",
       "      <td>1</td>\n",
       "    </tr>\n",
       "    <tr>\n",
       "      <th>5</th>\n",
       "      <td>10</td>\n",
       "      <td>1</td>\n",
       "      <td>0</td>\n",
       "    </tr>\n",
       "    <tr>\n",
       "      <th>6</th>\n",
       "      <td>9</td>\n",
       "      <td>0</td>\n",
       "      <td>0</td>\n",
       "    </tr>\n",
       "    <tr>\n",
       "      <th>7</th>\n",
       "      <td>12</td>\n",
       "      <td>1</td>\n",
       "      <td>0</td>\n",
       "    </tr>\n",
       "    <tr>\n",
       "      <th>8</th>\n",
       "      <td>10</td>\n",
       "      <td>1</td>\n",
       "      <td>0</td>\n",
       "    </tr>\n",
       "    <tr>\n",
       "      <th>9</th>\n",
       "      <td>10</td>\n",
       "      <td>0</td>\n",
       "      <td>1</td>\n",
       "    </tr>\n",
       "  </tbody>\n",
       "</table>\n",
       "</div>"
      ],
      "text/plain": [
       "   tweet_length  mentions_apple  mentions_google\n",
       "0            10               1                0\n",
       "1            12               2                0\n",
       "2             4               0                0\n",
       "3             7               1                0\n",
       "4            15               0                1\n",
       "5            10               1                0\n",
       "6             9               0                0\n",
       "7            12               1                0\n",
       "8            10               1                0\n",
       "9            10               0                1"
      ]
     },
     "execution_count": 34,
     "metadata": {},
     "output_type": "execute_result"
    }
   ],
   "source": [
    "#Hand Crafted features\n",
    "\n",
    "# tweet length(number of words)\n",
    "df[\"tweet_length\"] = df[\"clean_text\"].apply(lambda x: len(x.split()))\n",
    "\n",
    "# product lists \n",
    "apple_products = [\"iPad\", \"Apple\", \"iPad or iPhone App\", \"iPhone\", \"Other Apple product or service\"]\n",
    "google_products = [\"Google\", \"Other Google product or service\", \"Android\", \"Android App\"]\n",
    "\n",
    "#lowercase product lists \n",
    "apple_products_lower = [p.lower() for p in apple_products]\n",
    "google_products_lower = [p.lower() for p in google_products]\n",
    "\n",
    "#mentions of apple and google\n",
    "df[\"mentions_apple\"] = df[\"tokens\"].apply(lambda x: sum(1 for word in x if word in apple_products_lower))\n",
    "df[\"mentions_google\"] = df[\"tokens\"].apply(lambda x: sum(1 for word in x if word in google_products_lower))\n",
    "\n",
    "df[[\"tweet_length\", \"mentions_apple\", \"mentions_google\"]].head(10)\n"
   ]
  },
  {
   "cell_type": "code",
   "execution_count": 35,
   "id": "981413df",
   "metadata": {},
   "outputs": [
    {
     "data": {
      "application/vnd.microsoft.datawrangler.viewer.v0+json": {
       "columns": [
        {
         "name": "index",
         "rawType": "int64",
         "type": "integer"
        },
        {
         "name": "tweet_length",
         "rawType": "int64",
         "type": "integer"
        },
        {
         "name": "mentions_apple",
         "rawType": "int64",
         "type": "integer"
        },
        {
         "name": "mentions_google",
         "rawType": "int64",
         "type": "integer"
        },
        {
         "name": "has_apple",
         "rawType": "int32",
         "type": "integer"
        },
        {
         "name": "has_google",
         "rawType": "int32",
         "type": "integer"
        }
       ],
       "ref": "da942acb-4937-4acf-a517-0d0aa7868d83",
       "rows": [
        [
         "0",
         "10",
         "1",
         "0",
         "1",
         "0"
        ],
        [
         "1",
         "12",
         "2",
         "0",
         "1",
         "0"
        ],
        [
         "2",
         "4",
         "0",
         "0",
         "0",
         "0"
        ],
        [
         "3",
         "7",
         "1",
         "0",
         "1",
         "0"
        ],
        [
         "4",
         "15",
         "0",
         "1",
         "0",
         "1"
        ]
       ],
       "shape": {
        "columns": 5,
        "rows": 5
       }
      },
      "text/html": [
       "<div>\n",
       "<style scoped>\n",
       "    .dataframe tbody tr th:only-of-type {\n",
       "        vertical-align: middle;\n",
       "    }\n",
       "\n",
       "    .dataframe tbody tr th {\n",
       "        vertical-align: top;\n",
       "    }\n",
       "\n",
       "    .dataframe thead th {\n",
       "        text-align: right;\n",
       "    }\n",
       "</style>\n",
       "<table border=\"1\" class=\"dataframe\">\n",
       "  <thead>\n",
       "    <tr style=\"text-align: right;\">\n",
       "      <th></th>\n",
       "      <th>tweet_length</th>\n",
       "      <th>mentions_apple</th>\n",
       "      <th>mentions_google</th>\n",
       "      <th>has_apple</th>\n",
       "      <th>has_google</th>\n",
       "    </tr>\n",
       "  </thead>\n",
       "  <tbody>\n",
       "    <tr>\n",
       "      <th>0</th>\n",
       "      <td>10</td>\n",
       "      <td>1</td>\n",
       "      <td>0</td>\n",
       "      <td>1</td>\n",
       "      <td>0</td>\n",
       "    </tr>\n",
       "    <tr>\n",
       "      <th>1</th>\n",
       "      <td>12</td>\n",
       "      <td>2</td>\n",
       "      <td>0</td>\n",
       "      <td>1</td>\n",
       "      <td>0</td>\n",
       "    </tr>\n",
       "    <tr>\n",
       "      <th>2</th>\n",
       "      <td>4</td>\n",
       "      <td>0</td>\n",
       "      <td>0</td>\n",
       "      <td>0</td>\n",
       "      <td>0</td>\n",
       "    </tr>\n",
       "    <tr>\n",
       "      <th>3</th>\n",
       "      <td>7</td>\n",
       "      <td>1</td>\n",
       "      <td>0</td>\n",
       "      <td>1</td>\n",
       "      <td>0</td>\n",
       "    </tr>\n",
       "    <tr>\n",
       "      <th>4</th>\n",
       "      <td>15</td>\n",
       "      <td>0</td>\n",
       "      <td>1</td>\n",
       "      <td>0</td>\n",
       "      <td>1</td>\n",
       "    </tr>\n",
       "  </tbody>\n",
       "</table>\n",
       "</div>"
      ],
      "text/plain": [
       "   tweet_length  mentions_apple  mentions_google  has_apple  has_google\n",
       "0            10               1                0          1           0\n",
       "1            12               2                0          1           0\n",
       "2             4               0                0          0           0\n",
       "3             7               1                0          1           0\n",
       "4            15               0                1          0           1"
      ]
     },
     "execution_count": 35,
     "metadata": {},
     "output_type": "execute_result"
    }
   ],
   "source": [
    "# Creating binary indicators if tweet mentions apple/google\n",
    "df[\"has_apple\"] = (df[\"mentions_apple\"] > 0).astype(int)\n",
    "df[\"has_google\"] = (df[\"mentions_google\"] > 0).astype(int)\n",
    "df[[\"tweet_length\", \"mentions_apple\", \"mentions_google\", \"has_apple\", \"has_google\"]].head()"
   ]
  },
  {
   "cell_type": "markdown",
   "id": "200561cf",
   "metadata": {},
   "source": [
    "#### Feature Extraction\n",
    "\n",
    "- In feature extraction we will be converting text into numerical representations the model can learn from (e.g TF-IDF, CountVectorizer, word embeddings)\n"
   ]
  },
  {
   "cell_type": "markdown",
   "id": "b21eaca9",
   "metadata": {},
   "source": [
    "##### TF-IDF"
   ]
  },
  {
   "cell_type": "code",
   "execution_count": 36,
   "id": "7102b5fb",
   "metadata": {},
   "outputs": [
    {
     "name": "stdout",
     "output_type": "stream",
     "text": [
      "Shape of TF-IDF matrix: (8311, 5000)\n",
      "---------------------------------------------------------------------------------------------------------\n",
      "Sample features(vocabulary): ['000' '000 square' '03' '10' '10 30' '10 attendee' '10 iphone'\n",
      " '10 minute' '100' '100 email' '100 outside' '101' '11' '12' '12 hilton'\n",
      " '12 link' '13' '14' '14 day' '15']\n"
     ]
    }
   ],
   "source": [
    "# Using TF-IDF(Term Frequency-Inverse Document Frequency)\n",
    "\n",
    "# initialize the vectorizer\n",
    "tfidf = TfidfVectorizer(max_features=5000, ngram_range=(1,2), min_df=3, max_df=0.8, sublinear_tf=True)\n",
    "\n",
    "# fit and transform cleaned text\n",
    "X_tfidf = tfidf.fit_transform(df[\"clean_text\"])\n",
    "\n",
    "print(\"Shape of TF-IDF matrix:\" , X_tfidf.shape)\n",
    "print(\"-------\"*15)\n",
    "print(\"Sample features(vocabulary):\", tfidf.get_feature_names_out()[:20])"
   ]
  },
  {
   "cell_type": "markdown",
   "id": "69aef140",
   "metadata": {},
   "source": [
    "##### Count Vectorizer(BoW)"
   ]
  },
  {
   "cell_type": "code",
   "execution_count": 37,
   "id": "01fef5e8",
   "metadata": {},
   "outputs": [
    {
     "name": "stdout",
     "output_type": "stream",
     "text": [
      "Shape of Bag-of-Words matrix: (8311, 5000)\n",
      "---------------------------------------------------------------------------------------------------------\n",
      "Sample features(vocabulary): ['000' '000 square' '03' ... 'zomg got' 'zynga' 'zynga facebook']\n"
     ]
    }
   ],
   "source": [
    "# Using CountVectorizer or Bag of Words(BoW)\n",
    "\n",
    "#Initialize the vectorizer\n",
    "vectorizer = CountVectorizer(max_features=5000, min_df=3, max_df=0.8, ngram_range=(1,2))\n",
    "\n",
    "#Fit and transform cleaned text\n",
    "X_bow = vectorizer.fit_transform(df[\"clean_text\"])\n",
    "\n",
    "print(\"Shape of Bag-of-Words matrix:\", X_bow.shape)\n",
    "print(\"-------\"*15)\n",
    "print(\"Sample features(vocabulary):\", vectorizer.get_feature_names_out())"
   ]
  },
  {
   "cell_type": "markdown",
   "id": "33c6aea8",
   "metadata": {},
   "source": [
    "- Chosen params: max_features=5000(balance), ngram_range=(1,2) to capture short phrases, min_df=3 to filter very rare tokens, max_df=0.8 to drop extremely common tokens.\n",
    "- X_tfidf and X_bow are sparse matrices ready for modeling"
   ]
  },
  {
   "cell_type": "markdown",
   "id": "f87d293b",
   "metadata": {},
   "source": [
    "**Feature Combination**\n",
    "\n",
    "We will combine text and engineered features using horizontal stack(hstack)."
   ]
  },
  {
   "cell_type": "code",
   "execution_count": 38,
   "id": "7344960e",
   "metadata": {},
   "outputs": [
    {
     "name": "stdout",
     "output_type": "stream",
     "text": [
      "Shape of combined feature matrix: (8311, 5005)\n",
      "Shape of combined feature matrix: (8311, 5005)\n"
     ]
    }
   ],
   "source": [
    "#Extract the features\n",
    "X_meta = df[[\"tweet_length\", \"mentions_apple\", \"mentions_google\", \"has_apple\", \"has_google\"]].values\n",
    "\n",
    "#combine TF-IDF features with engineered ones\n",
    "X_combined_tfidf = hstack([X_tfidf, X_meta])\n",
    "print(\"Shape of combined feature matrix:\", X_combined_tfidf.shape)\n",
    "\n",
    "#combine BoW features with engineered ones\n",
    "X_combined_bow = hstack([X_bow, X_meta])\n",
    "print(\"Shape of combined feature matrix:\", X_combined_bow.shape)"
   ]
  },
  {
   "cell_type": "markdown",
   "id": "2bc04c82",
   "metadata": {},
   "source": [
    "**Label Preparation**\n",
    "1. Encoding Target feature(`sentiment_simple`)"
   ]
  },
  {
   "cell_type": "code",
   "execution_count": 39,
   "id": "5b2f248f",
   "metadata": {},
   "outputs": [
    {
     "name": "stdout",
     "output_type": "stream",
     "text": [
      "Label Mapping: {'Negative': 0, 'Neutral': 1, 'Positive': 2}\n"
     ]
    }
   ],
   "source": [
    "# Label encode target variable(sentiment_simple)\n",
    "le = LabelEncoder()\n",
    "y = le.fit_transform(df[\"sentiment_simple\"])\n",
    "print(\"Label Mapping:\", dict(zip(le.classes_, le.transform(le.classes_))))"
   ]
  },
  {
   "cell_type": "markdown",
   "id": "1e923a51",
   "metadata": {},
   "source": [
    "2. Binary filtering(Positive vs Negative only)"
   ]
  },
  {
   "cell_type": "code",
   "execution_count": 40,
   "id": "56d9932e",
   "metadata": {},
   "outputs": [
    {
     "name": "stdout",
     "output_type": "stream",
     "text": [
      "Binary Label Mapping: {'Negative': 0, 'Positive': 1}\n"
     ]
    }
   ],
   "source": [
    "# filter positive and negative tweets\n",
    "binary_df = df[df[\"sentiment_simple\"].isin([\"Positive\", \"Negative\"])].copy()\n",
    "\n",
    "# re-encode the filtered target\n",
    "le_binary = LabelEncoder()\n",
    "y_binary = le_binary.fit_transform(binary_df[\"sentiment_simple\"])\n",
    "\n",
    "print(\"Binary Label Mapping:\", dict(zip(le_binary.classes_, le_binary.transform(le_binary.classes_))))"
   ]
  },
  {
   "cell_type": "markdown",
   "id": "80de968a",
   "metadata": {},
   "source": [
    "3. Text Features for filtered dataset"
   ]
  },
  {
   "cell_type": "code",
   "execution_count": 41,
   "id": "8adbe131",
   "metadata": {},
   "outputs": [],
   "source": [
    "# engineer features-binary\n",
    "X_meta_bin = binary_df[[\"tweet_length\", \"mentions_apple\", \"mentions_google\", \"has_apple\", \"has_google\"]].values\n",
    "\n",
    "# TF-IDF\n",
    "tfidf = TfidfVectorizer(max_features=5000, ngram_range=(1,2))\n",
    "X_binary_tfidf = tfidf.fit_transform(binary_df[\"clean_text\"])\n",
    "X_combined_tfidf_bin = hstack([X_binary_tfidf, X_meta_bin])\n",
    "\n",
    "#BoW\n",
    "bow = CountVectorizer(max_features=5000, ngram_range=(1,2))\n",
    "X_binary_bow = bow.fit_transform(binary_df[\"clean_text\"])\n",
    "X_combined_bow_bin = hstack([X_binary_bow, X_meta_bin])"
   ]
  },
  {
   "cell_type": "markdown",
   "id": "038cf3aa",
   "metadata": {},
   "source": [
    "##### Word Embeddings (Word2Vec/GloVe)\n",
    "- We will use pretrained embeddings (Word2Vec/Glove) to compute average embedding per tweet as features\n",
    "\n",
    "1. Pretrained GloVe embeddings"
   ]
  },
  {
   "cell_type": "code",
   "execution_count": 42,
   "id": "92b9066d",
   "metadata": {},
   "outputs": [
    {
     "name": "stdout",
     "output_type": "stream",
     "text": [
      "GloVe 100d file is ready!\n",
      "Loaded 400000 word vectors from GloVe\n"
     ]
    }
   ],
   "source": [
    "# Download GloVe embeddings \n",
    "if not os.path.exists(\"glove.6B.100d.txt\"):\n",
    "    url = \"http://nlp.stanford.edu/data/glove.6B.zip\"\n",
    "    r = requests.get(url)\n",
    "    with open(\"glove.6B.zip\", \"wb\") as f:\n",
    "        f.write(r.content)\n",
    "\n",
    "    # Unzip only 100d file\n",
    "    with zipfile.ZipFile(\"glove.6B.zip\", \"r\") as zip_ref:\n",
    "        zip_ref.extract(\"glove.6B.100d.txt\")\n",
    "\n",
    "print(\"GloVe 100d file is ready!\")\n",
    "#path\n",
    "glove_file = \"glove.6B.100d.txt\"\n",
    "#load embeddings into a adictionary\n",
    "embeddings_index = {}\n",
    "with open(glove_file, \"r\", encoding=\"utf8\") as f:\n",
    "    for line in f:\n",
    "        values = line.split()\n",
    "        word =values[0]\n",
    "        vector = np.asarray(values[1:], dtype=\"float32\")\n",
    "        embeddings_index[word] = vector\n",
    "print(f\"Loaded {len(embeddings_index)} word vectors from GloVe\")"
   ]
  },
  {
   "cell_type": "code",
   "execution_count": 43,
   "id": "5aaac15c",
   "metadata": {},
   "outputs": [
    {
     "name": "stdout",
     "output_type": "stream",
     "text": [
      "Found 7513 unique tokens.\n"
     ]
    }
   ],
   "source": [
    "#Tokenize text\n",
    "MAX_NUM_WORDS = 10000\n",
    "MAX_SEQUENCE_LENGTH = 50\n",
    "EMBEDDING_DIM = 100\n",
    "\n",
    "tokenized_text = [word_tokenize(text.lower()) for text in df[\"clean_text\"]]\n",
    "word_index = {}\n",
    "for tokens in tokenized_text:\n",
    "    for token in tokens:\n",
    "        if token not in word_index:\n",
    "            if len(word_index) < MAX_NUM_WORDS:\n",
    "                word_index[token] = len(word_index) + 1\n",
    "\n",
    "print(f\"Found {len(word_index)} unique tokens.\")"
   ]
  },
  {
   "cell_type": "code",
   "execution_count": 44,
   "id": "ac01061f",
   "metadata": {},
   "outputs": [
    {
     "name": "stdout",
     "output_type": "stream",
     "text": [
      "X_glove shape: (8311, 50)\n"
     ]
    }
   ],
   "source": [
    "def pad_sequence(seq, max_len=MAX_SEQUENCE_LENGTH):\n",
    "    if len(seq) >= max_len:\n",
    "        return seq[:max_len]\n",
    "    return seq + [0] * (max_len - len(seq))\n",
    "\n",
    "sequences = [[word_index.get(token, 0) for token in tokens] for tokens in tokenized_text]\n",
    "X_glove = np.array([pad_sequence(seq) for seq in sequences])\n",
    "print(\"X_glove shape:\", X_glove.shape)"
   ]
  },
  {
   "cell_type": "code",
   "execution_count": 45,
   "id": "1034dbbb",
   "metadata": {},
   "outputs": [],
   "source": [
    "# computing tweet-level GloVe embedding average\n",
    "def get_tweet_embedding(tokens, embeddings_index, embedding_dim=EMBEDDING_DIM):\n",
    "    vectors = [embeddings_index[word] for word in tokens if word in embeddings_index]\n",
    "    if len(vectors) == 0:\n",
    "        return np.zeros(embedding_dim)\n",
    "    return np.mean(vectors, axis=0)\n"
   ]
  },
  {
   "cell_type": "code",
   "execution_count": 46,
   "id": "35f4ee86",
   "metadata": {},
   "outputs": [
    {
     "name": "stdout",
     "output_type": "stream",
     "text": [
      "Glove Embedding Shape: (3525, 100)\n",
      "Meta Features Shape: (3525, 5)\n"
     ]
    }
   ],
   "source": [
    "# prepare handcrafted features\n",
    "X_meta_bin = binary_df[[\"tweet_length\", \"mentions_apple\", \"mentions_google\", \"has_apple\", \"has_google\"]].values\n",
    "# prepare Glove Average \n",
    "X_glove_avg_bin = np.vstack(\n",
    "    binary_df[\"clean_text\"].apply(lambda x: get_tweet_embedding(word_tokenize(x.lower()), embeddings_index)).values)\n",
    "print(\"Glove Embedding Shape:\", X_glove_avg_bin.shape)\n",
    "print(\"Meta Features Shape:\", X_meta_bin.shape)"
   ]
  },
  {
   "cell_type": "markdown",
   "id": "cfdd2b04",
   "metadata": {},
   "source": [
    "**Feature Combination-GloVe**"
   ]
  },
  {
   "cell_type": "code",
   "execution_count": 47,
   "id": "db6001c8",
   "metadata": {},
   "outputs": [
    {
     "name": "stdout",
     "output_type": "stream",
     "text": [
      "Final Combined Glove Feature Shape: (3525, 105)\n"
     ]
    }
   ],
   "source": [
    "# Scale meta features\n",
    "scaler = StandardScaler()\n",
    "X_meta_bin_scaled = scaler.fit_transform(X_meta_bin)\n",
    "\n",
    "# Combine Glove + Scaled meta features \n",
    "X_glove_combined_bin = np.hstack([X_glove_avg_bin, X_meta_bin_scaled])\n",
    "print(\"Final Combined Glove Feature Shape:\", X_glove_combined_bin.shape)"
   ]
  },
  {
   "cell_type": "markdown",
   "id": "0e938cf6",
   "metadata": {},
   "source": [
    "### Train-Test Split"
   ]
  },
  {
   "cell_type": "code",
   "execution_count": 48,
   "id": "ce015c2e",
   "metadata": {},
   "outputs": [
    {
     "name": "stdout",
     "output_type": "stream",
     "text": [
      "(6648, 5005) (1663, 5005) (6648,) (1663,)\n",
      "(2820, 5005) (705, 5005) (2820,) (705,)\n"
     ]
    }
   ],
   "source": [
    "# split TF-IDF-Multiclass\n",
    "X_train_tfidf, X_test_tfidf, y_train, y_test = train_test_split(X_combined_tfidf, y, test_size=0.2, random_state=42, stratify=y)\n",
    "\n",
    "print(X_train_tfidf.shape, X_test_tfidf.shape, y_train.shape, y_test.shape)\n",
    "\n",
    "# split binary\n",
    "# TF-IDF\n",
    "X_train_tfidf_bin, X_test_tfidf_bin, y_train_bin, y_test_bin = train_test_split(X_combined_tfidf_bin, y_binary, test_size=0.2, random_state=42, stratify=y_binary)\n",
    "\n",
    "print(X_train_tfidf_bin.shape, X_test_tfidf_bin.shape, y_train_bin.shape, y_test_bin.shape)"
   ]
  },
  {
   "cell_type": "code",
   "execution_count": 49,
   "id": "36d720c6",
   "metadata": {},
   "outputs": [
    {
     "name": "stdout",
     "output_type": "stream",
     "text": [
      "(6648, 5005) (1663, 5005) (6648,) (1663,)\n",
      "(2820, 5005) (705, 5005) (2820,) (705,)\n"
     ]
    }
   ],
   "source": [
    "# split BoW-Multiclass\n",
    "X_train_bow, X_test_bow, y_train, y_test = train_test_split(X_combined_bow, y, test_size=0.2, random_state=42, stratify=y)\n",
    "\n",
    "print(X_train_bow.shape, X_test_bow.shape, y_train.shape, y_test.shape)\n",
    "\n",
    "# split binary\n",
    "X_train_bow_bin, X_test_bow_bin, y_train_bin, y_test_bin = train_test_split(X_combined_bow_bin, y_binary, test_size=0.2, random_state=42, stratify=y_binary)\n",
    "\n",
    "print(X_train_bow_bin.shape, X_test_bow_bin.shape, y_train_bin.shape, y_test_bin.shape)"
   ]
  },
  {
   "cell_type": "code",
   "execution_count": 50,
   "id": "71757885",
   "metadata": {},
   "outputs": [
    {
     "data": {
      "text/plain": [
       "((2820, 105), (705, 105), (2820,), (705,))"
      ]
     },
     "execution_count": 50,
     "metadata": {},
     "output_type": "execute_result"
    }
   ],
   "source": [
    "# GloVe\n",
    "X_train_glove_bin, X_test_glove_bin, y_train_bin, y_test_bin = train_test_split(X_glove_combined_bin, y_binary, test_size=0.2, random_state=42, stratify=y_binary)\n",
    "X_train_glove_bin.shape, X_test_glove_bin.shape, y_train_bin.shape, y_test_bin.shape"
   ]
  },
  {
   "cell_type": "markdown",
   "id": "a8064a36",
   "metadata": {},
   "source": [
    "## Modeling\n",
    "### Machine Learning\n",
    "**Baseline Binary Classification - Logistic Regression**\n",
    "\n",
    "1. Using TFIDF and Bag of Words(BoW)\n",
    "We begin by bulding baseline model using both TF-IDF and CountVectorizer(BoW) representation.\n",
    "The goal is to establish initial performance metrics for binary sentiment classification(Positive vs Negative)\n",
    "\n",
    "2. Incorporating Word Embeddings(GloVe)\n",
    " To enhance semantic understanding beyond simple token frequency, we intergrate pretrained GloVe embeddings\n",
    " This allows the model to capture deeper contextual relationships between words\n",
    "\n",
    "3. Model Comaprison\n",
    "We will compare the performance of the following:;\n",
    "- Logistic Regression + TF-IDF\n",
    "- Logistic Regression + BoW\n",
    "- Logistic Regression + GloVe\n",
    "\n",
    "The best-performing representation will be selected for downstream modeling with powerful algoriths specifically Random Forest and XGBoost."
   ]
  },
  {
   "cell_type": "code",
   "execution_count": 51,
   "id": "a652a36d",
   "metadata": {},
   "outputs": [
    {
     "name": "stdout",
     "output_type": "stream",
     "text": [
      "Training Metrics : TF-IDF Logistic Regression(Binary)\n",
      "Accuracy: 0.8659574468085106\n",
      "[[  78  376]\n",
      " [   2 2364]]\n",
      "              precision    recall  f1-score   support\n",
      "\n",
      "           0       0.97      0.17      0.29       454\n",
      "           1       0.86      1.00      0.93      2366\n",
      "\n",
      "    accuracy                           0.87      2820\n",
      "   macro avg       0.92      0.59      0.61      2820\n",
      "weighted avg       0.88      0.87      0.82      2820\n",
      "\n",
      "Test Metrics : TF-IDF Logistic Regression(Binary)\n",
      "Accuracy: 0.8567375886524823\n",
      "[[ 14 100]\n",
      " [  1 590]]\n",
      "              precision    recall  f1-score   support\n",
      "\n",
      "           0       0.93      0.12      0.22       114\n",
      "           1       0.86      1.00      0.92       591\n",
      "\n",
      "    accuracy                           0.86       705\n",
      "   macro avg       0.89      0.56      0.57       705\n",
      "weighted avg       0.87      0.86      0.81       705\n",
      "\n"
     ]
    }
   ],
   "source": [
    "#TF-IDF\n",
    "#Instantiate the model\n",
    "lr_tfidf_bin = LogisticRegression(random_state=42, max_iter=1000)\n",
    "\n",
    "# fit and train model\n",
    "lr_tfidf_bin.fit(X_train_tfidf_bin, y_train_bin)\n",
    "\n",
    "#predict train\n",
    "y_train_pred_tfidf_bin = lr_tfidf_bin.predict(X_train_tfidf_bin)\n",
    "\n",
    "#evaluate train\n",
    "print(\"Training Metrics : TF-IDF Logistic Regression(Binary)\")\n",
    "print(\"Accuracy:\", accuracy_score(y_train_bin, y_train_pred_tfidf_bin))\n",
    "print(confusion_matrix(y_train_bin, y_train_pred_tfidf_bin))\n",
    "print(classification_report(y_train_bin, y_train_pred_tfidf_bin))\n",
    "\n",
    "#predict and evaluate test\n",
    "y_test_pred_tfidf_bin = lr_tfidf_bin.predict(X_test_tfidf_bin)\n",
    "print(\"Test Metrics : TF-IDF Logistic Regression(Binary)\")\n",
    "print(\"Accuracy:\", accuracy_score(y_test_bin, y_test_pred_tfidf_bin))\n",
    "print(confusion_matrix(y_test_bin, y_test_pred_tfidf_bin))\n",
    "print(classification_report(y_test_bin, y_test_pred_tfidf_bin))"
   ]
  },
  {
   "cell_type": "code",
   "execution_count": 52,
   "id": "10434b7c",
   "metadata": {},
   "outputs": [
    {
     "name": "stdout",
     "output_type": "stream",
     "text": [
      "Training Metrics : BOW Logistic Regression(Binary)\n",
      "Accuracy: 0.9659574468085106\n",
      "[[ 362   92]\n",
      " [   4 2362]]\n",
      "              precision    recall  f1-score   support\n",
      "\n",
      "           0       0.99      0.80      0.88       454\n",
      "           1       0.96      1.00      0.98      2366\n",
      "\n",
      "    accuracy                           0.97      2820\n",
      "   macro avg       0.98      0.90      0.93      2820\n",
      "weighted avg       0.97      0.97      0.96      2820\n",
      "\n",
      "Test Metrics: BoW Logistic Regression(Binary)\n",
      "Accuracy: 0.8808510638297873\n",
      "[[ 45  69]\n",
      " [ 15 576]]\n",
      "              precision    recall  f1-score   support\n",
      "\n",
      "           0       0.75      0.39      0.52       114\n",
      "           1       0.89      0.97      0.93       591\n",
      "\n",
      "    accuracy                           0.88       705\n",
      "   macro avg       0.82      0.68      0.72       705\n",
      "weighted avg       0.87      0.88      0.86       705\n",
      "\n"
     ]
    }
   ],
   "source": [
    "#BoW\n",
    "#Instantiate the model\n",
    "lr_bow_bin = LogisticRegression(random_state=42, max_iter=1000)\n",
    "\n",
    "# fit and train model\n",
    "lr_bow_bin.fit(X_train_bow_bin, y_train_bin)\n",
    "\n",
    "# predict and evaluate train\n",
    "y_train_pred_bow_bin = lr_bow_bin.predict(X_train_bow_bin)\n",
    "print(\"Training Metrics : BOW Logistic Regression(Binary)\")\n",
    "print(\"Accuracy:\", accuracy_score(y_train_bin, y_train_pred_bow_bin))\n",
    "print(confusion_matrix(y_train_bin, y_train_pred_bow_bin))\n",
    "print(classification_report(y_train_bin, y_train_pred_bow_bin))\n",
    "\n",
    "#predict and evaluate test\n",
    "y_pred_test_bow_bin = lr_bow_bin.predict(X_test_bow_bin)\n",
    "print(\"Test Metrics: BoW Logistic Regression(Binary)\")\n",
    "print(\"Accuracy:\", accuracy_score(y_test_bin, y_pred_test_bow_bin))\n",
    "print(confusion_matrix(y_test_bin, y_pred_test_bow_bin))\n",
    "print(classification_report(y_test_bin, y_pred_test_bow_bin))"
   ]
  },
  {
   "cell_type": "markdown",
   "id": "8ab891c4",
   "metadata": {},
   "source": [
    "Observation\n",
    "- Both models are dominated by the positive class, showing class imbalance issues\n",
    "- BoW currently performs better overall with higher accuracy, precision, and recall for minority class. However, TF-IDF could still improve significantly with class balancing- using class weights and SMOTE"
   ]
  },
  {
   "cell_type": "markdown",
   "id": "f8c3d037",
   "metadata": {},
   "source": [
    "Handling Class Imbalance\n",
    "- Using ClassWeights and SMOTE"
   ]
  },
  {
   "cell_type": "code",
   "execution_count": 53,
   "id": "e8e0c27c",
   "metadata": {},
   "outputs": [
    {
     "name": "stdout",
     "output_type": "stream",
     "text": [
      "Training Metrics : TF-IDF Logistic Regression(Binary + Class Weights)\n",
      "Accuracy: 0.9308510638297872\n",
      "[[ 437   17]\n",
      " [ 178 2188]]\n",
      "              precision    recall  f1-score   support\n",
      "\n",
      "           0       0.71      0.96      0.82       454\n",
      "           1       0.99      0.92      0.96      2366\n",
      "\n",
      "    accuracy                           0.93      2820\n",
      "   macro avg       0.85      0.94      0.89      2820\n",
      "weighted avg       0.95      0.93      0.93      2820\n",
      "\n",
      " Test Metrics: TF-IDF Logistic Regression(Binary + Class Weights)\n",
      "Accuracy: 0.8312056737588652\n",
      "[[ 68  46]\n",
      " [ 73 518]]\n",
      "              precision    recall  f1-score   support\n",
      "\n",
      "           0       0.48      0.60      0.53       114\n",
      "           1       0.92      0.88      0.90       591\n",
      "\n",
      "    accuracy                           0.83       705\n",
      "   macro avg       0.70      0.74      0.72       705\n",
      "weighted avg       0.85      0.83      0.84       705\n",
      "\n"
     ]
    }
   ],
   "source": [
    "#TF-IDF\n",
    "#Instantiate the model\n",
    "lr_tfidf_bin = LogisticRegression(random_state=42, max_iter=1000, class_weight=\"balanced\")\n",
    "\n",
    "# fit and train model\n",
    "lr_tfidf_bin.fit(X_train_tfidf_bin, y_train_bin)\n",
    "\n",
    "\n",
    "# predict and evaluate train\n",
    "y_train_pred_tfidf_bin = lr_tfidf_bin.predict(X_train_tfidf_bin)\n",
    "print(\"Training Metrics : TF-IDF Logistic Regression(Binary + Class Weights)\")\n",
    "print(\"Accuracy:\", accuracy_score(y_train_bin, y_train_pred_tfidf_bin))\n",
    "print(confusion_matrix(y_train_bin, y_train_pred_tfidf_bin))\n",
    "print(classification_report(y_train_bin, y_train_pred_tfidf_bin))\n",
    "\n",
    "#predict and evaluate test\n",
    "y_test_pred_tfidf__bin = lr_tfidf_bin.predict(X_test_tfidf_bin)\n",
    "print(\" Test Metrics: TF-IDF Logistic Regression(Binary + Class Weights)\")\n",
    "print(\"Accuracy:\", accuracy_score(y_test_bin, y_test_pred_tfidf__bin))\n",
    "print(confusion_matrix(y_test_bin, y_test_pred_tfidf__bin))\n",
    "print(classification_report(y_test_bin, y_test_pred_tfidf__bin))"
   ]
  },
  {
   "cell_type": "code",
   "execution_count": 54,
   "id": "3b953c59",
   "metadata": {},
   "outputs": [
    {
     "name": "stdout",
     "output_type": "stream",
     "text": [
      "Original Class Distribution: Counter({1: 2366, 0: 454})\n",
      "After SMOTE (TF-IDF): Counter({1: 2366, 0: 2366})\n",
      "Training Metrics: TF-IDF Logistic Regression + SMOTE\n",
      "Accuracy: 0.9475177304964539\n",
      "[[ 422   32]\n",
      " [ 116 2250]]\n",
      "              precision    recall  f1-score   support\n",
      "\n",
      "           0       0.78      0.93      0.85       454\n",
      "           1       0.99      0.95      0.97      2366\n",
      "\n",
      "    accuracy                           0.95      2820\n",
      "   macro avg       0.89      0.94      0.91      2820\n",
      "weighted avg       0.95      0.95      0.95      2820\n",
      "\n",
      "Test Metrics: TF-IDF Logistic Regression + SMOTE\n",
      "Accuracy: 0.8468085106382979\n",
      "[[ 71  43]\n",
      " [ 65 526]]\n",
      "              precision    recall  f1-score   support\n",
      "\n",
      "           0       0.52      0.62      0.57       114\n",
      "           1       0.92      0.89      0.91       591\n",
      "\n",
      "    accuracy                           0.85       705\n",
      "   macro avg       0.72      0.76      0.74       705\n",
      "weighted avg       0.86      0.85      0.85       705\n",
      "\n"
     ]
    }
   ],
   "source": [
    "#Using SMOTE\n",
    "# before SMOTE\n",
    "print(\"Original Class Distribution:\", Counter(y_train_bin))\n",
    "#applying SMOTE\n",
    "smote = SMOTE(random_state=42)\n",
    "X_train_tfidf_bin_smote, y_train_bin_smote = smote.fit_resample(X_train_tfidf_bin, y_train_bin)\n",
    "print(\"After SMOTE (TF-IDF):\", Counter(y_train_bin_smote))\n",
    "\n",
    "# instantiate, train and predict\n",
    "lr_tfidf_bin_smote = LogisticRegression(random_state=42, max_iter=1000)\n",
    "lr_tfidf_bin_smote.fit(X_train_tfidf_bin_smote, y_train_bin_smote)\n",
    "\n",
    "# predict and evaluate train\n",
    "y_pred_train_tfidf_bin_smote = lr_tfidf_bin_smote.predict(X_train_tfidf_bin)\n",
    "print(\"Training Metrics: TF-IDF Logistic Regression + SMOTE\")\n",
    "print(\"Accuracy:\", accuracy_score(y_train_bin, y_pred_train_tfidf_bin_smote))\n",
    "print(confusion_matrix(y_train_bin, y_pred_train_tfidf_bin_smote))\n",
    "print(classification_report(y_train_bin, y_pred_train_tfidf_bin_smote))\n",
    "\n",
    "# predict and evaluate test\n",
    "y_pred_tfidf_bin_smote = lr_tfidf_bin_smote.predict(X_test_tfidf_bin)\n",
    "print(\"Test Metrics: TF-IDF Logistic Regression + SMOTE\")\n",
    "print(\"Accuracy:\", accuracy_score(y_test_bin, y_pred_tfidf_bin_smote))\n",
    "print(confusion_matrix(y_test_bin, y_pred_tfidf_bin_smote))\n",
    "print(classification_report(y_test_bin, y_pred_tfidf_bin_smote))"
   ]
  },
  {
   "cell_type": "code",
   "execution_count": 55,
   "id": "3e909f70",
   "metadata": {},
   "outputs": [
    {
     "name": "stdout",
     "output_type": "stream",
     "text": [
      "Training Metrics: BoW Logistic Regression(Binary + Class Weights)\n",
      "Accuracy: 0.9765957446808511\n",
      "[[ 450    4]\n",
      " [  62 2304]]\n",
      "              precision    recall  f1-score   support\n",
      "\n",
      "           0       0.88      0.99      0.93       454\n",
      "           1       1.00      0.97      0.99      2366\n",
      "\n",
      "    accuracy                           0.98      2820\n",
      "   macro avg       0.94      0.98      0.96      2820\n",
      "weighted avg       0.98      0.98      0.98      2820\n",
      "\n",
      "Test Metrics: BoW Logistic Regression(Binary + Class Weights)\n",
      "Accuracy: 0.8553191489361702\n",
      "[[ 72  42]\n",
      " [ 60 531]]\n",
      "              precision    recall  f1-score   support\n",
      "\n",
      "           0       0.55      0.63      0.59       114\n",
      "           1       0.93      0.90      0.91       591\n",
      "\n",
      "    accuracy                           0.86       705\n",
      "   macro avg       0.74      0.77      0.75       705\n",
      "weighted avg       0.87      0.86      0.86       705\n",
      "\n"
     ]
    }
   ],
   "source": [
    "#BoW\n",
    "#Instantiate the model\n",
    "lr_bow_bin = LogisticRegression(random_state=42, max_iter=1000, class_weight=\"balanced\")\n",
    "\n",
    "# fit and train model\n",
    "lr_bow_bin.fit(X_train_bow_bin, y_train_bin)\n",
    "\n",
    "#predict and evaluate train\n",
    "y_train_pred_bow_bin = lr_bow_bin.predict(X_train_bow_bin)\n",
    "print(\"Training Metrics: BoW Logistic Regression(Binary + Class Weights)\")\n",
    "print(\"Accuracy:\", accuracy_score(y_train_bin, y_train_pred_bow_bin))\n",
    "print(confusion_matrix(y_train_bin, y_train_pred_bow_bin))\n",
    "print(classification_report(y_train_bin, y_train_pred_bow_bin))\n",
    "\n",
    "#predict and evaluate test\n",
    "y_pred_bow_bin = lr_bow_bin.predict(X_test_bow_bin)\n",
    "print(\"Test Metrics: BoW Logistic Regression(Binary + Class Weights)\")\n",
    "print(\"Accuracy:\", accuracy_score(y_test_bin, y_pred_bow_bin))\n",
    "print(confusion_matrix(y_test_bin, y_pred_bow_bin))\n",
    "print(classification_report(y_test_bin, y_pred_bow_bin))"
   ]
  },
  {
   "cell_type": "code",
   "execution_count": 56,
   "id": "2a8d1031",
   "metadata": {},
   "outputs": [
    {
     "name": "stdout",
     "output_type": "stream",
     "text": [
      "Original Class Distribution: Counter({1: 2366, 0: 454})\n",
      "After SMOTE (BoW): Counter({1: 2366, 0: 2366})\n",
      "Training Metrics: BoW Logistic Regression + SMOTE\n",
      "Accuracy: 0.9691489361702128\n",
      "[[ 398   56]\n",
      " [  31 2335]]\n",
      "              precision    recall  f1-score   support\n",
      "\n",
      "           0       0.93      0.88      0.90       454\n",
      "           1       0.98      0.99      0.98      2366\n",
      "\n",
      "    accuracy                           0.97      2820\n",
      "   macro avg       0.95      0.93      0.94      2820\n",
      "weighted avg       0.97      0.97      0.97      2820\n",
      "\n",
      "Test Metrics: BoW Logistic Regression + SMOTE\n",
      "Accuracy: 0.825531914893617\n",
      "[[ 63  51]\n",
      " [ 72 519]]\n",
      "              precision    recall  f1-score   support\n",
      "\n",
      "           0       0.47      0.55      0.51       114\n",
      "           1       0.91      0.88      0.89       591\n",
      "\n",
      "    accuracy                           0.83       705\n",
      "   macro avg       0.69      0.72      0.70       705\n",
      "weighted avg       0.84      0.83      0.83       705\n",
      "\n"
     ]
    }
   ],
   "source": [
    "#Using SMOTE\n",
    "# before SMOTE\n",
    "print(\"Original Class Distribution:\", Counter(y_train_bin))\n",
    "#applying SMOTE\n",
    "smote = SMOTE(random_state=42)\n",
    "X_train_bow_bin_smote, y_train_bin_smote = smote.fit_resample(X_train_bow_bin, y_train_bin)\n",
    "print(\"After SMOTE (BoW):\", Counter(y_train_bin_smote))\n",
    "\n",
    "# instantiate, train and predict\n",
    "lr_bow_bin_smote = LogisticRegression(random_state=42, max_iter=1000)\n",
    "lr_bow_bin_smote.fit(X_train_bow_bin_smote, y_train_bin_smote)\n",
    "\n",
    "#Predict and evaluate train\n",
    "y_train_pred_bow_bin_smote = lr_bow_bin_smote.predict(X_train_bow_bin)\n",
    "print(\"Training Metrics: BoW Logistic Regression + SMOTE\")\n",
    "print(\"Accuracy:\", accuracy_score(y_train_bin, y_train_pred_bow_bin_smote))\n",
    "print(confusion_matrix(y_train_bin, y_train_pred_bow_bin_smote))\n",
    "print(classification_report(y_train_bin, y_train_pred_bow_bin_smote))\n",
    "\n",
    "#Predict and evaluate test\n",
    "y_pred_test_bow_bin_smote = lr_bow_bin_smote.predict(X_test_bow_bin)\n",
    "print(\"Test Metrics: BoW Logistic Regression + SMOTE\")\n",
    "print(\"Accuracy:\", accuracy_score(y_test_bin, y_pred_test_bow_bin_smote))\n",
    "print(confusion_matrix(y_test_bin, y_pred_test_bow_bin_smote))\n",
    "print(classification_report(y_test_bin, y_pred_test_bow_bin_smote))"
   ]
  },
  {
   "cell_type": "markdown",
   "id": "42a2cf45",
   "metadata": {},
   "source": [
    "Observation\n",
    "- All methods perform similarly overall, arounf 83%-85% accuracy\n",
    "- Minority class(Negative tweets) detection is slightly better with BoW + Class Weights(f1=0.59)\n",
    "- TF-IDF + SMOTE gives a balance approach for precision and recall of both classes and will work well on advanced models(Random Forest, XGBoost)\n",
    "- So we will go with TF-IDF + SMOTE and also BoW + Class Weight\n"
   ]
  },
  {
   "cell_type": "markdown",
   "id": "5b2b2b2b",
   "metadata": {},
   "source": [
    "Hyperparameter tuning "
   ]
  },
  {
   "cell_type": "markdown",
   "id": "f6eb80b7",
   "metadata": {},
   "source": [
    "TF-IDF + SMOTE"
   ]
  },
  {
   "cell_type": "code",
   "execution_count": 57,
   "id": "0de1dfde",
   "metadata": {},
   "outputs": [
    {
     "name": "stdout",
     "output_type": "stream",
     "text": [
      "Fitting 5 folds for each of 10 candidates, totalling 50 fits\n",
      "Randomized Search Best Parameters: {'solver': 'liblinear', 'C': 50}\n",
      "Randomized Search Best CV F1_macro: 0.9545016222489531\n"
     ]
    }
   ],
   "source": [
    "# Define the model and param grid- RandomSearchCv\n",
    "lr = LogisticRegression(random_state=42, max_iter=1000, class_weight=None)\n",
    "param_dist = {\"C\":[0.01, 0.1, 1, 10, 50, 100],\n",
    "              \"solver\":[\"liblinear\", \"saga\"]}\n",
    "\n",
    "# GridSearch with Stratified CV\n",
    "cv = StratifiedKFold(n_splits=5, shuffle=True, random_state=42)\n",
    "\n",
    "random_search = RandomizedSearchCV(estimator=lr, param_distributions=param_dist,\n",
    "                                   n_iter=10, scoring=\"f1_macro\", cv=cv, n_jobs=-1,\n",
    "                                   verbose=2, random_state=42)\n",
    "\n",
    "random_search.fit(X_train_tfidf_bin_smote, y_train_bin_smote)\n",
    "\n",
    "print(\"Randomized Search Best Parameters:\", random_search.best_params_)\n",
    "print(\"Randomized Search Best CV F1_macro:\", random_search.best_score_)"
   ]
  },
  {
   "cell_type": "code",
   "execution_count": 58,
   "id": "54870daf",
   "metadata": {},
   "outputs": [
    {
     "name": "stdout",
     "output_type": "stream",
     "text": [
      "Fitting 5 folds for each of 12 candidates, totalling 60 fits\n",
      "Grid Search Best Parameters: {'C': 50, 'solver': 'liblinear'}\n",
      "Grid Search Best CV F1_macro: 0.9545016222489531\n"
     ]
    }
   ],
   "source": [
    "# using grid search\n",
    "param_grid = {\"C\":[0.01, 0.1, 1, 10, 50, 100],\n",
    "              \"solver\":[\"liblinear\", \"saga\"]}\n",
    "\n",
    "grid_search = GridSearchCV(\n",
    "    estimator=lr, \n",
    "    param_grid=param_grid,\n",
    "    scoring=\"f1_macro\",\n",
    "    cv=cv, n_jobs=-1,\n",
    "    verbose=2\n",
    "        )\n",
    "grid_search.fit(X_train_tfidf_bin_smote, y_train_bin_smote)\n",
    "\n",
    "print(\"Grid Search Best Parameters:\", grid_search.best_params_)\n",
    "print(\"Grid Search Best CV F1_macro:\", grid_search.best_score_)"
   ]
  },
  {
   "cell_type": "code",
   "execution_count": 59,
   "id": "62aecdb8",
   "metadata": {},
   "outputs": [
    {
     "name": "stdout",
     "output_type": "stream",
     "text": [
      "Training Metrics: TF-IDF Logistic Regression (Binary + SMOTE + Best Params)\n",
      "Accuracy: 0.997872340425532\n",
      "F1-Score 0.9987304274227676\n",
      "[[ 454    0]\n",
      " [   6 2360]]\n",
      "              precision    recall  f1-score   support\n",
      "\n",
      "           0       0.99      1.00      0.99       454\n",
      "           1       1.00      1.00      1.00      2366\n",
      "\n",
      "    accuracy                           1.00      2820\n",
      "   macro avg       0.99      1.00      1.00      2820\n",
      "weighted avg       1.00      1.00      1.00      2820\n",
      "\n",
      "Test Metric: TF-IDF Logistic Regression (Binary + SMOTE + Best Params)\n",
      "Accuracy: 0.8553191489361702\n",
      "F1-Score 0.9141414141414141\n",
      "[[ 60  54]\n",
      " [ 48 543]]\n",
      "              precision    recall  f1-score   support\n",
      "\n",
      "           0       0.56      0.53      0.54       114\n",
      "           1       0.91      0.92      0.91       591\n",
      "\n",
      "    accuracy                           0.86       705\n",
      "   macro avg       0.73      0.72      0.73       705\n",
      "weighted avg       0.85      0.86      0.85       705\n",
      "\n"
     ]
    }
   ],
   "source": [
    "# Evaluating Best model\n",
    "lr_tfidf_bin_best = LogisticRegression(\n",
    "\tC=100,\n",
    "  solver=\"liblinear\",\n",
    "  max_iter=1000,\n",
    "  class_weight=None,\n",
    "  random_state=42\n",
    ")\n",
    "#fit on smote training data\n",
    "lr_tfidf_bin_best.fit(X_train_tfidf_bin_smote, y_train_bin_smote)\n",
    "\n",
    "#predict and evaluate train\n",
    "y_train_pred_bin = lr_tfidf_bin_best.predict(X_train_tfidf_bin)\n",
    "print(\"Training Metrics: TF-IDF Logistic Regression (Binary + SMOTE + Best Params)\")\n",
    "print(\"Accuracy:\", accuracy_score(y_train_bin, y_train_pred_bin))\n",
    "print(\"F1-Score\", f1_score(y_train_bin, y_train_pred_bin))\n",
    "print(confusion_matrix(y_train_bin, y_train_pred_bin))\n",
    "print(classification_report(y_train_bin, y_train_pred_bin))\n",
    "\n",
    "#predict and evaluate test\n",
    "y_test_pred_bin = lr_tfidf_bin_best.predict(X_test_tfidf_bin)\n",
    "print(\"Test Metric: TF-IDF Logistic Regression (Binary + SMOTE + Best Params)\")\n",
    "print(\"Accuracy:\", accuracy_score(y_test_bin, y_test_pred_bin))\n",
    "print(\"F1-Score\", f1_score(y_test_bin, y_test_pred_bin))\n",
    "print(confusion_matrix(y_test_bin, y_test_pred_bin))\n",
    "print(classification_report(y_test_bin, y_test_pred_bin))"
   ]
  },
  {
   "cell_type": "markdown",
   "id": "93078986",
   "metadata": {},
   "source": [
    "Observation\n",
    "\n",
    "Metrics\n",
    "- Accuracy-86% of the were correctly classified overall\n",
    "- F1-Score-0.918, showing a very good balance between precision and recall, especially for the positive class\n",
    "- Class 0(Negative)-Precision 0.58, Recall 0.55, the model detects negative tweets moderately well but still misses some\n",
    "- Class 1 (Positive)-Precision 0.91, Recall 0.92, the model is strong at correctly identifying positive tweets\n",
    "- Macro Avg F1(0.74), indicates fair performance across both classes\n",
    "- Weighted Avg F1(0.86), high, reflecting that the model performs well overall, weighted by class distribution"
   ]
  },
  {
   "cell_type": "markdown",
   "id": "919a627d",
   "metadata": {},
   "source": [
    "BoW + Class Weights"
   ]
  },
  {
   "cell_type": "code",
   "execution_count": 60,
   "id": "89989c4f",
   "metadata": {},
   "outputs": [
    {
     "name": "stdout",
     "output_type": "stream",
     "text": [
      "Fitting 5 folds for each of 10 candidates, totalling 50 fits\n",
      "Randomized Search Best Parameters: {'solver': 'liblinear', 'C': 1}\n",
      "Randomized Search Best CV F1_macro: 0.7196217014223595\n"
     ]
    }
   ],
   "source": [
    "# Define the model and param grid- RandomSearchCv\n",
    "lr1 = LogisticRegression(random_state=42, max_iter=1000, class_weight=\"balanced\")\n",
    "param_dist = {\"C\":[0.01, 0.1, 1, 10, 50, 100],\n",
    "              \"solver\":[\"liblinear\", \"saga\"]}\n",
    "\n",
    "# GridSearch with Stratified CV\n",
    "cv = StratifiedKFold(n_splits=5, shuffle=True, random_state=42)\n",
    "\n",
    "random_search = RandomizedSearchCV(estimator=lr1, param_distributions=param_dist,\n",
    "                                   n_iter=10, scoring=\"f1_macro\", cv=cv, n_jobs=-1,\n",
    "                                   verbose=2, random_state=42)\n",
    "\n",
    "random_search.fit(X_train_bow_bin, y_train_bin)\n",
    "\n",
    "print(\"Randomized Search Best Parameters:\", random_search.best_params_)\n",
    "print(\"Randomized Search Best CV F1_macro:\", random_search.best_score_)"
   ]
  },
  {
   "cell_type": "code",
   "execution_count": 61,
   "id": "f407697b",
   "metadata": {},
   "outputs": [
    {
     "name": "stdout",
     "output_type": "stream",
     "text": [
      "Fitting 5 folds for each of 12 candidates, totalling 60 fits\n",
      "Grid Search Best Parameters: {'C': 1, 'solver': 'liblinear'}\n",
      "Grid Search Best CV F1_macro: 0.7196217014223595\n"
     ]
    }
   ],
   "source": [
    "# using grid search\n",
    "param_grid = {\"C\":[0.01, 0.1, 1, 10, 50, 100],\n",
    "              \"solver\":[\"liblinear\", \"saga\"]}\n",
    "\n",
    "grid_search = GridSearchCV(\n",
    "    estimator=lr1, \n",
    "    param_grid=param_grid,\n",
    "    scoring=\"f1_macro\",\n",
    "    cv=cv, n_jobs=-1,\n",
    "    verbose=2\n",
    "        )\n",
    "grid_search.fit(X_train_bow_bin, y_train_bin)\n",
    "\n",
    "print(\"Grid Search Best Parameters:\", grid_search.best_params_)\n",
    "print(\"Grid Search Best CV F1_macro:\", grid_search.best_score_)"
   ]
  },
  {
   "cell_type": "code",
   "execution_count": 62,
   "id": "596aa0b4",
   "metadata": {},
   "outputs": [
    {
     "name": "stdout",
     "output_type": "stream",
     "text": [
      "Training Metrics: BoW Logistic Regression (Binary + Class Weights with Best Params)\n",
      "Accuracy: 0.9659574468085106\n",
      "F1-Score 0.9793902962644911\n",
      "[[ 443   11]\n",
      " [  85 2281]]\n",
      "              precision    recall  f1-score   support\n",
      "\n",
      "           0       0.84      0.98      0.90       454\n",
      "           1       1.00      0.96      0.98      2366\n",
      "\n",
      "    accuracy                           0.97      2820\n",
      "   macro avg       0.92      0.97      0.94      2820\n",
      "weighted avg       0.97      0.97      0.97      2820\n",
      "\n",
      "Test Metric: BoW Logistic Regression (Binary + Class Weights with Best Params)\n",
      "Accuracy: 0.8553191489361702\n",
      "F1-Score 0.9123711340206185\n",
      "[[ 72  42]\n",
      " [ 60 531]]\n",
      "              precision    recall  f1-score   support\n",
      "\n",
      "           0       0.55      0.63      0.59       114\n",
      "           1       0.93      0.90      0.91       591\n",
      "\n",
      "    accuracy                           0.86       705\n",
      "   macro avg       0.74      0.77      0.75       705\n",
      "weighted avg       0.87      0.86      0.86       705\n",
      "\n"
     ]
    }
   ],
   "source": [
    "# Evaluating Best model\n",
    "lr_bow_bin_best = LogisticRegression(\n",
    "\tC=1,\n",
    "  solver=\"liblinear\",\n",
    "  max_iter=1000,\n",
    "  class_weight=\"balanced\",\n",
    "  random_state=42\n",
    ")\n",
    "#fit on smote training data\n",
    "lr_bow_bin_best.fit(X_train_bow_bin, y_train_bin)\n",
    "\n",
    "#predict and evaluate train\n",
    "y_train_pred_bow_bin = lr_bow_bin_best.predict(X_train_tfidf_bin)\n",
    "print(\"Training Metrics: BoW Logistic Regression (Binary + Class Weights with Best Params)\")\n",
    "print(\"Accuracy:\", accuracy_score(y_train_bin, y_train_pred_bow_bin))\n",
    "print(\"F1-Score\", f1_score(y_train_bin, y_train_pred_bow_bin))\n",
    "print(confusion_matrix(y_train_bin, y_train_pred_bow_bin))\n",
    "print(classification_report(y_train_bin, y_train_pred_bow_bin))\n",
    "\n",
    "#predict and evaluate test\n",
    "y_test_pred_bow_bin = lr_bow_bin_best.predict(X_test_tfidf_bin)\n",
    "print(\"Test Metric: BoW Logistic Regression (Binary + Class Weights with Best Params)\")\n",
    "print(\"Accuracy:\", accuracy_score(y_test_bin, y_pred_bow_bin))\n",
    "print(\"F1-Score\", f1_score(y_test_bin, y_pred_bow_bin))\n",
    "print(confusion_matrix(y_test_bin, y_pred_bow_bin))\n",
    "print(classification_report(y_test_bin, y_pred_bow_bin))"
   ]
  },
  {
   "cell_type": "markdown",
   "id": "d8fcd204",
   "metadata": {},
   "source": [
    "Observation\n",
    "- TF-IDF + SMOTE slightly outperforms BoW + Class Weights in F1 Macro.\n",
    "- BoW + Class Weights still gives strong overall accuracy.\n",
    "- Minority class (Negative) benefits more from SMOTE than just class weights\n",
    "- We will therefore proceed with TF-IDF + SMOTE\n",
    "- Since both RandomizedSearchCV and GridSearchCV keep giving same best parameters and similar CV score, we can continue with RandomizedSearchCV since unlike GridSearchCV explores random subset of hyperparameter combination and a bit faster\n"
   ]
  },
  {
   "cell_type": "markdown",
   "id": "ed224fc8",
   "metadata": {},
   "source": [
    "2. Using Word Embedding(GloVe)\n",
    "- We will use GloVe and then compare to see which gives better results before moving to deep learning."
   ]
  },
  {
   "cell_type": "code",
   "execution_count": 63,
   "id": "bf94b766",
   "metadata": {},
   "outputs": [
    {
     "name": "stdout",
     "output_type": "stream",
     "text": [
      "Training Metrics : Glove Logistic Regression(Baseline)\n",
      "Accuracy: 0.849290780141844\n",
      "F1-Score: 0.9158249158249159\n",
      "[[  83  371]\n",
      " [  54 2312]]\n",
      "              precision    recall  f1-score   support\n",
      "\n",
      "           0       0.61      0.18      0.28       454\n",
      "           1       0.86      0.98      0.92      2366\n",
      "\n",
      "    accuracy                           0.85      2820\n",
      "   macro avg       0.73      0.58      0.60      2820\n",
      "weighted avg       0.82      0.85      0.81      2820\n",
      "\n",
      "Test Metrics : Glove Logistic Regression(Baseline)\n",
      "Accuracy: 0.8453900709219858\n",
      "F1-Score: 0.9132856006364359\n",
      "[[ 22  92]\n",
      " [ 17 574]]\n",
      "              precision    recall  f1-score   support\n",
      "\n",
      "           0       0.56      0.19      0.29       114\n",
      "           1       0.86      0.97      0.91       591\n",
      "\n",
      "    accuracy                           0.85       705\n",
      "   macro avg       0.71      0.58      0.60       705\n",
      "weighted avg       0.81      0.85      0.81       705\n",
      "\n"
     ]
    }
   ],
   "source": [
    "# Train logistic regression\n",
    "log_reg_glove = LogisticRegression(max_iter=1000, class_weight=None, random_state=42)\n",
    "log_reg_glove.fit(X_train_glove_bin, y_train_bin)\n",
    "\n",
    "# predict and evaluate test\n",
    "y_train_pred_glove = log_reg_glove.predict(X_train_glove_bin)\n",
    "print(\"Training Metrics : Glove Logistic Regression(Baseline)\")\n",
    "print(\"Accuracy:\", accuracy_score(y_train_bin, y_train_pred_glove))\n",
    "print(\"F1-Score:\", f1_score(y_train_bin, y_train_pred_glove))\n",
    "print(confusion_matrix(y_train_bin, y_train_pred_glove))\n",
    "print(classification_report(y_train_bin, y_train_pred_glove))\n",
    "\n",
    "# predict and evaluate test\n",
    "y_test_pred_glove = log_reg_glove.predict(X_test_glove_bin)\n",
    "print(\"Test Metrics : Glove Logistic Regression(Baseline)\")\n",
    "print(\"Accuracy:\", accuracy_score(y_test_bin, y_test_pred_glove))\n",
    "print(\"F1-Score:\", f1_score(y_test_bin, y_test_pred_glove))\n",
    "print(confusion_matrix(y_test_bin, y_test_pred_glove))\n",
    "print(classification_report(y_test_bin, y_test_pred_glove))"
   ]
  },
  {
   "cell_type": "code",
   "execution_count": 64,
   "id": "9a83cf61",
   "metadata": {},
   "outputs": [
    {
     "name": "stdout",
     "output_type": "stream",
     "text": [
      "Training Metrics : Glove Logistic Regression + Class Weight\n",
      "Accuracy: 0.7549645390070922\n",
      "F1-Score: 0.8372969154697434\n",
      "[[ 351  103]\n",
      " [ 588 1778]]\n",
      "              precision    recall  f1-score   support\n",
      "\n",
      "           0       0.37      0.77      0.50       454\n",
      "           1       0.95      0.75      0.84      2366\n",
      "\n",
      "    accuracy                           0.75      2820\n",
      "   macro avg       0.66      0.76      0.67      2820\n",
      "weighted avg       0.85      0.75      0.78      2820\n",
      "\n",
      "Test Metrics : Glove Logistic Regression + Class Weight\n",
      "Accuracy: 0.7078014184397163\n",
      "F1-Score: 0.8041825095057035\n",
      "[[ 76  38]\n",
      " [168 423]]\n",
      "              precision    recall  f1-score   support\n",
      "\n",
      "           0       0.31      0.67      0.42       114\n",
      "           1       0.92      0.72      0.80       591\n",
      "\n",
      "    accuracy                           0.71       705\n",
      "   macro avg       0.61      0.69      0.61       705\n",
      "weighted avg       0.82      0.71      0.74       705\n",
      "\n"
     ]
    }
   ],
   "source": [
    "# Handling class imbalance with class_weights=balanced\n",
    "# Train logistic regression\n",
    "log_reg_glove_bal = LogisticRegression(max_iter=1000, class_weight=\"balanced\", random_state=42)\n",
    "log_reg_glove_bal.fit(X_train_glove_bin, y_train_bin)\n",
    "\n",
    "# predict and evaluate test\n",
    "y_train_pred_glove_bal = log_reg_glove_bal.predict(X_train_glove_bin)\n",
    "print(\"Training Metrics : Glove Logistic Regression + Class Weight\")\n",
    "print(\"Accuracy:\", accuracy_score(y_train_bin, y_train_pred_glove_bal))\n",
    "print(\"F1-Score:\", f1_score(y_train_bin, y_train_pred_glove_bal))\n",
    "print(confusion_matrix(y_train_bin, y_train_pred_glove_bal))\n",
    "print(classification_report(y_train_bin, y_train_pred_glove_bal))\n",
    "\n",
    "# predict and evaluate test\n",
    "y_test_pred_glove_bal = log_reg_glove_bal.predict(X_test_glove_bin)\n",
    "print(\"Test Metrics : Glove Logistic Regression + Class Weight\")\n",
    "print(\"Accuracy:\", accuracy_score(y_test_bin, y_test_pred_glove_bal))\n",
    "print(\"F1-Score:\", f1_score(y_test_bin, y_test_pred_glove_bal))\n",
    "print(confusion_matrix(y_test_bin, y_test_pred_glove_bal))\n",
    "print(classification_report(y_test_bin, y_test_pred_glove_bal))"
   ]
  },
  {
   "cell_type": "code",
   "execution_count": 65,
   "id": "acf6589d",
   "metadata": {},
   "outputs": [
    {
     "name": "stdout",
     "output_type": "stream",
     "text": [
      "Before SMOTE: [ 454 2366]\n",
      "After SMOTE: [2366 2366]\n"
     ]
    }
   ],
   "source": [
    "# Handling class imbalance using SMOTE\n",
    "# initialize smote\n",
    "smote = SMOTE(random_state=42)\n",
    "\n",
    "# apply SMOTE only on the training data\n",
    "X_train_glove_bin_smote, y_train_bin_glove_smote = smote.fit_resample(X_train_glove_bin, y_train_bin)\n",
    "\n",
    "print(\"Before SMOTE:\", np.bincount(y_train_bin))\n",
    "print(\"After SMOTE:\", np.bincount(y_train_bin_glove_smote))"
   ]
  },
  {
   "cell_type": "code",
   "execution_count": 66,
   "id": "527094c5",
   "metadata": {},
   "outputs": [
    {
     "name": "stdout",
     "output_type": "stream",
     "text": [
      "Training Metrics : Glove Logistic Regression + SMOTE\n",
      "Accuracy: 0.7528368794326241\n",
      "F1-Score: 0.8362696734789759\n",
      "[[ 343  111]\n",
      " [ 586 1780]]\n",
      "              precision    recall  f1-score   support\n",
      "\n",
      "           0       0.37      0.76      0.50       454\n",
      "           1       0.94      0.75      0.84      2366\n",
      "\n",
      "    accuracy                           0.75      2820\n",
      "   macro avg       0.66      0.75      0.67      2820\n",
      "weighted avg       0.85      0.75      0.78      2820\n",
      "\n",
      "Test Metrics : Glove Logistic Regression + SMOTE\n",
      "Accuracy: 0.724822695035461\n",
      "F1-Score: 0.8169811320754717\n",
      "[[ 78  36]\n",
      " [158 433]]\n",
      "              precision    recall  f1-score   support\n",
      "\n",
      "           0       0.33      0.68      0.45       114\n",
      "           1       0.92      0.73      0.82       591\n",
      "\n",
      "    accuracy                           0.72       705\n",
      "   macro avg       0.63      0.71      0.63       705\n",
      "weighted avg       0.83      0.72      0.76       705\n",
      "\n"
     ]
    }
   ],
   "source": [
    "# train model on smote data\n",
    "lr_glove_smote = LogisticRegression(max_iter=1000, random_state=42)\n",
    "#fit\n",
    "lr_glove_smote.fit(X_train_glove_bin_smote, y_train_bin_smote)\n",
    "\n",
    "# predict and evaluate on train\n",
    "y_train_pred_glove_smote = lr_glove_smote.predict(X_train_glove_bin)\n",
    "print(\"Training Metrics : Glove Logistic Regression + SMOTE\")\n",
    "print(\"Accuracy:\", accuracy_score(y_train_bin, y_train_pred_glove_smote))\n",
    "print(\"F1-Score:\", f1_score(y_train_bin, y_train_pred_glove_smote))\n",
    "print(confusion_matrix(y_train_bin, y_train_pred_glove_smote))\n",
    "print(classification_report(y_train_bin, y_train_pred_glove_smote))\n",
    "\n",
    "# predict and evaluate on test\n",
    "y_test_pred_glove_smote = lr_glove_smote.predict(X_test_glove_bin)\n",
    "print(\"Test Metrics : Glove Logistic Regression + SMOTE\")\n",
    "print(\"Accuracy:\", accuracy_score(y_test_bin, y_test_pred_glove_smote))\n",
    "print(\"F1-Score:\", f1_score(y_test_bin, y_test_pred_glove_smote))\n",
    "print(confusion_matrix(y_test_bin, y_test_pred_glove_smote))\n",
    "print(classification_report(y_test_bin, y_test_pred_glove_smote))"
   ]
  },
  {
   "cell_type": "markdown",
   "id": "0bd5a1b4",
   "metadata": {},
   "source": [
    "Observation\n",
    "- Both methods handling class imbalance class_weight=balanced and SMOTE perform similarly on training, which is great and their is no overfitting.\n",
    "- SMOTE edges out class_weight on:\n",
    "  - Test Accuracy(+1.5%)\n",
    "\t- Test F1(+1.2%)\n",
    "\t- Minority recall(+5%)\n",
    "- So SMOTE has slightly better model balance(especially recall), meaning our model catches more minority class tweets(negative tweets) and will be used in hyperparameter tuning to still improve the model."
   ]
  },
  {
   "cell_type": "code",
   "execution_count": 67,
   "id": "8403cd4a",
   "metadata": {},
   "outputs": [
    {
     "name": "stdout",
     "output_type": "stream",
     "text": [
      "Fitting 5 folds for each of 30 candidates, totalling 150 fits\n",
      "Best Parameters: {'log_reg__C': 0.50465608220732, 'log_reg__l1_ratio': 0.013264961159866528, 'log_reg__penalty': 'l1'}\n",
      "Best F1 Score (CV): 0.8149708649539283\n"
     ]
    }
   ],
   "source": [
    "# hyperparameter tuning Glove\n",
    "smote = SMOTE(random_state=42)\n",
    "log_reg = LogisticRegression(max_iter=1000, solver=\"saga\", random_state=42)\n",
    "\n",
    "pipe = Pipeline([\n",
    "    (\"smote\", smote),\n",
    "    (\"log_reg\", log_reg)\n",
    "])\n",
    "\n",
    "param_dist_glove = {\n",
    "    \"log_reg__C\": loguniform(1e-3, 1e3),\n",
    "    \"log_reg__penalty\": [\"l1\", \"l2\", \"elasticnet\"],\n",
    "    \"log_reg__l1_ratio\": uniform(0, 1)\n",
    "}\n",
    "\n",
    "cv = StratifiedKFold(n_splits=5, shuffle=True, random_state=42)\n",
    "\n",
    "# randomized search\n",
    "rand_search = RandomizedSearchCV(\n",
    "    pipe,\n",
    "    param_distributions=param_dist_glove,\n",
    "    n_iter=30,\n",
    "    scoring=\"f1\",\n",
    "    cv=cv,\n",
    "    random_state=42,\n",
    "    n_jobs=-1,\n",
    "    verbose=2\n",
    ")\n",
    "rand_search.fit(X_train_glove_bin, y_train_bin)\n",
    "print(\"Best Parameters:\", rand_search.best_params_)\n",
    "print(\"Best F1 Score (CV):\", rand_search.best_score_)"
   ]
  },
  {
   "cell_type": "code",
   "execution_count": 68,
   "id": "431321c8",
   "metadata": {},
   "outputs": [
    {
     "name": "stdout",
     "output_type": "stream",
     "text": [
      "Training Metrics: Glove Logistic Regression (Binary+SMOTE+Tuned)\n",
      "Accuracy: 0.7535460992907801\n",
      "F1-Score: 0.8368161540267669\n",
      "[[ 343  111]\n",
      " [ 584 1782]]\n",
      "              precision    recall  f1-score   support\n",
      "\n",
      "           0       0.37      0.76      0.50       454\n",
      "           1       0.94      0.75      0.84      2366\n",
      "\n",
      "    accuracy                           0.75      2820\n",
      "   macro avg       0.66      0.75      0.67      2820\n",
      "weighted avg       0.85      0.75      0.78      2820\n",
      "\n",
      "Test Metrics: Glove Logistic Regression (Binary+SMOTE+Tuned)\n",
      "Accuracy: 0.7262411347517731\n",
      "F1-Score: 0.8184383819379115\n",
      "[[ 77  37]\n",
      " [156 435]]\n",
      "              precision    recall  f1-score   support\n",
      "\n",
      "           0       0.33      0.68      0.44       114\n",
      "           1       0.92      0.74      0.82       591\n",
      "\n",
      "    accuracy                           0.73       705\n",
      "   macro avg       0.63      0.71      0.63       705\n",
      "weighted avg       0.83      0.73      0.76       705\n",
      "\n"
     ]
    }
   ],
   "source": [
    "# predict on best params \n",
    "best_params = {\n",
    "    \"C\": 3.3151790861321726,\n",
    "    \"penalty\": \"l1\",\n",
    "    \"l1_ratio\": 0.965255307264138\n",
    "}\n",
    "lr_glove_bin_best = LogisticRegression(\n",
    "    C=best_params[\"C\"],\n",
    "    penalty=best_params[\"penalty\"],\n",
    "    l1_ratio=best_params[\"l1_ratio\"],\n",
    "    solver=\"saga\",\n",
    "    max_iter=1000,\n",
    "    class_weight=None,\n",
    "    random_state=42\n",
    ")\n",
    "#fit on smote training data\n",
    "lr_glove_bin_best.fit(X_train_glove_bin_smote, y_train_bin_glove_smote)\n",
    "\n",
    "#predict and evaluate on train\n",
    "y_train_pred_glove_bin = lr_glove_bin_best.predict(X_train_glove_bin)\n",
    "print(\"Training Metrics: Glove Logistic Regression (Binary+SMOTE+Tuned)\")\n",
    "print(\"Accuracy:\", accuracy_score(y_train_bin, y_train_pred_glove_bin ))\n",
    "print(\"F1-Score:\", f1_score(y_train_bin, y_train_pred_glove_bin ))\n",
    "print(confusion_matrix(y_train_bin, y_train_pred_glove_bin))\n",
    "print(classification_report(y_train_bin, y_train_pred_glove_bin))\n",
    "\n",
    "#predict and evaluate on train\n",
    "y_test_pred_glove_bin = lr_glove_bin_best.predict(X_test_glove_bin)\n",
    "print(\"Test Metrics: Glove Logistic Regression (Binary+SMOTE+Tuned)\")\n",
    "print(\"Accuracy:\", accuracy_score(y_test_bin, y_test_pred_glove_bin))\n",
    "print(\"F1-Score:\", f1_score(y_test_bin, y_test_pred_glove_bin))\n",
    "print(confusion_matrix(y_test_bin, y_test_pred_glove_bin))\n",
    "print(classification_report(y_test_bin, y_test_pred_glove_bin))"
   ]
  },
  {
   "cell_type": "markdown",
   "id": "bba2d98e",
   "metadata": {},
   "source": [
    "Observation:\n",
    "- Training Accuracy(0.75), and test  Accuracy(0.72) are close showing no major overfitting. F1-scores are balanced between train and test meaning the model is generalizing fairly well.\n",
    "- Minority Class(0) recall(0.68) is decent meaning the model identifies some of the minority class well. Precison(0.33) is low meaning the model makes many false positives, misclassifying positive as negative. This suggests that class separation in the embedding space may overlap for some samples.\n",
    "- Majority Class(1) has a high recall of 0.73-0.95 and strong precision of 0.92 meaning majority class is learned effectively.\n",
    "\n",
    "### Overall Model Summary\n",
    "\n",
    "- GloVe embeddings outperforms TF-IDF and BoW especially in recall because they captures semantic meaning(words with similar meanings have similar vectors) which TF-IDF and BoW cannot do. \n",
    "- Logistic Regression performed reasonably but may miss non_linear patterns presnt this dataset\n",
    "- Slight class imbalance effects remain but performance is stable. \n",
    "- This is serves as a strong baselineto proceed with Random Forest and XGBoost, which are better suited for capturing capturing non-linear interactions and improving minority class handling."
   ]
  },
  {
   "cell_type": "markdown",
   "id": "e2526bbc",
   "metadata": {},
   "source": [
    "**Binary Classification - Random Forest Classifier**"
   ]
  },
  {
   "cell_type": "code",
   "execution_count": 69,
   "id": "ac65829e",
   "metadata": {},
   "outputs": [
    {
     "name": "stdout",
     "output_type": "stream",
     "text": [
      "Training Metrics: Test Metrics Random Forest Binary(Baseline))\n",
      "Accuracy: 0.999645390070922\n",
      "F1-Score(macro) 0.9993430908414517\n",
      "[[ 453    1]\n",
      " [   0 2366]]\n",
      "              precision    recall  f1-score   support\n",
      "\n",
      "           0       1.00      1.00      1.00       454\n",
      "           1       1.00      1.00      1.00      2366\n",
      "\n",
      "    accuracy                           1.00      2820\n",
      "   macro avg       1.00      1.00      1.00      2820\n",
      "weighted avg       1.00      1.00      1.00      2820\n",
      "\n",
      "Test Metrics: Test Metrics Random Forest Binary Baseline))\n",
      "Accuracy: 0.8482269503546099\n",
      "F1-Score(macro) 0.5303657587548638\n",
      "[[  9 105]\n",
      " [  2 589]]\n",
      "              precision    recall  f1-score   support\n",
      "\n",
      "           0       0.82      0.08      0.14       114\n",
      "           1       0.85      1.00      0.92       591\n",
      "\n",
      "    accuracy                           0.85       705\n",
      "   macro avg       0.83      0.54      0.53       705\n",
      "weighted avg       0.84      0.85      0.79       705\n",
      "\n"
     ]
    }
   ],
   "source": [
    "#baseline rf\n",
    "rf_glove_bin = RandomForestClassifier(random_state=42, class_weight=None)\n",
    "rf_glove_bin.fit(X_train_glove_bin, y_train_bin)\n",
    "#predict and evaluate train\n",
    "y_train_pred_rf_glove = rf_glove_bin.predict(X_train_glove_bin)\n",
    "print(\"Training Metrics: Test Metrics Random Forest Binary(Baseline))\")\n",
    "print(\"Accuracy:\", accuracy_score(y_train_bin, y_train_pred_rf_glove))\n",
    "print(\"F1-Score(macro)\", f1_score(y_train_bin, y_train_pred_rf_glove, average=\"macro\"))\n",
    "print(confusion_matrix(y_train_bin, y_train_pred_rf_glove))\n",
    "print(classification_report(y_train_bin, y_train_pred_rf_glove))\n",
    "\n",
    "#predict and evaluate test\n",
    "y_test_pred_rf_bin_glove = rf_glove_bin.predict(X_test_glove_bin)\n",
    "print(\"Test Metrics: Test Metrics Random Forest Binary Baseline))\")\n",
    "print(\"Accuracy:\", accuracy_score(y_test_bin, y_test_pred_rf_bin_glove))\n",
    "print(\"F1-Score(macro)\", f1_score(y_test_bin, y_test_pred_rf_bin_glove, average=\"macro\"))\n",
    "print(confusion_matrix(y_test_bin, y_test_pred_rf_bin_glove))\n",
    "print(classification_report(y_test_bin, y_test_pred_rf_bin_glove))"
   ]
  },
  {
   "cell_type": "code",
   "execution_count": 70,
   "id": "5cea45af",
   "metadata": {},
   "outputs": [
    {
     "name": "stdout",
     "output_type": "stream",
     "text": [
      "Training Metrics: Random Forest Binary + Class Weight\n",
      "Accuracy: 0.999645390070922\n",
      "F1-Score 0.9993430908414517\n",
      "[[ 453    1]\n",
      " [   0 2366]]\n",
      "              precision    recall  f1-score   support\n",
      "\n",
      "           0       1.00      1.00      1.00       454\n",
      "           1       1.00      1.00      1.00      2366\n",
      "\n",
      "    accuracy                           1.00      2820\n",
      "   macro avg       1.00      1.00      1.00      2820\n",
      "weighted avg       1.00      1.00      1.00      2820\n",
      "\n",
      "Test Metrics: Test Metrics Random Forest Binary + Class Weight\n",
      "Accuracy: 0.8468085106382979\n",
      "F1-Score 0.5154515833418185\n",
      "[[  7 107]\n",
      " [  1 590]]\n",
      "              precision    recall  f1-score   support\n",
      "\n",
      "           0       0.88      0.06      0.11       114\n",
      "           1       0.85      1.00      0.92       591\n",
      "\n",
      "    accuracy                           0.85       705\n",
      "   macro avg       0.86      0.53      0.52       705\n",
      "weighted avg       0.85      0.85      0.79       705\n",
      "\n"
     ]
    }
   ],
   "source": [
    "#using class weights to handle imbalance\n",
    "rf_glove_bin_bal = RandomForestClassifier(random_state=42, class_weight=\"balanced\")\n",
    "rf_glove_bin_bal.fit(X_train_glove_bin, y_train_bin)\n",
    "#predict and evaluate train\n",
    "y_train_pred_rf_glove_bal = rf_glove_bin_bal.predict(X_train_glove_bin)\n",
    "print(\"Training Metrics: Random Forest Binary + Class Weight\")\n",
    "print(\"Accuracy:\", accuracy_score(y_train_bin, y_train_pred_rf_glove_bal))\n",
    "print(\"F1-Score\", f1_score(y_train_bin, y_train_pred_rf_glove_bal, average=\"macro\"))\n",
    "print(confusion_matrix(y_train_bin, y_train_pred_rf_glove_bal))\n",
    "print(classification_report(y_train_bin, y_train_pred_rf_glove_bal))\n",
    "\n",
    "#predict and evaluate test\n",
    "y_test_pred_rf_bin_glove_bal = rf_glove_bin_bal.predict(X_test_glove_bin)\n",
    "print(\"Test Metrics: Test Metrics Random Forest Binary + Class Weight\")\n",
    "print(\"Accuracy:\", accuracy_score(y_test_bin, y_test_pred_rf_bin_glove_bal))\n",
    "print(\"F1-Score\", f1_score(y_test_bin, y_test_pred_rf_bin_glove_bal, average=\"macro\"))\n",
    "print(confusion_matrix(y_test_bin, y_test_pred_rf_bin_glove_bal))\n",
    "print(classification_report(y_test_bin, y_test_pred_rf_bin_glove_bal))"
   ]
  },
  {
   "cell_type": "code",
   "execution_count": 71,
   "id": "2ad3955d",
   "metadata": {},
   "outputs": [
    {
     "name": "stdout",
     "output_type": "stream",
     "text": [
      "Before SMOTE: [ 454 2366]\n",
      "Before SMOTE: [2366 2366]\n",
      "Training Metrics: Random Forest Binary + SMOTE\n",
      "Accuracy: 0.9997886728655959\n",
      "F1-Score 0.9997886728561582\n",
      "[[2365    1]\n",
      " [   0 2366]]\n",
      "              precision    recall  f1-score   support\n",
      "\n",
      "           0       1.00      1.00      1.00      2366\n",
      "           1       1.00      1.00      1.00      2366\n",
      "\n",
      "    accuracy                           1.00      4732\n",
      "   macro avg       1.00      1.00      1.00      4732\n",
      "weighted avg       1.00      1.00      1.00      4732\n",
      "\n",
      "Test Metrics: Test Metrics Random Forest Binary + SMOTE\n",
      "Accuracy: 0.8524822695035461\n",
      "F1-Score 0.6719404374127501\n",
      "[[ 39  75]\n",
      " [ 29 562]]\n",
      "              precision    recall  f1-score   support\n",
      "\n",
      "           0       0.57      0.34      0.43       114\n",
      "           1       0.88      0.95      0.92       591\n",
      "\n",
      "    accuracy                           0.85       705\n",
      "   macro avg       0.73      0.65      0.67       705\n",
      "weighted avg       0.83      0.85      0.84       705\n",
      "\n"
     ]
    }
   ],
   "source": [
    "# using smote to handle imbalance\n",
    "smote_rf = SMOTE(random_state=42)\n",
    "X_train_bin_glove_rf_smote, y_train_bin_rf_smote = smote_rf.fit_resample(X_train_glove_bin, y_train_bin)\n",
    "print(\"Before SMOTE:\", np.bincount(y_train_bin))\n",
    "print(\"Before SMOTE:\", np.bincount(y_train_bin_rf_smote))\n",
    "\n",
    "#train rf\n",
    "rf_glove_bin_smote = RandomForestClassifier(random_state=42)\n",
    "rf_glove_bin_smote.fit(X_train_glove_bin_smote, y_train_bin_rf_smote)\n",
    "#predict and evaluate train\n",
    "y_train_pred_rf_glove_smote = rf_glove_bin_smote.predict(X_train_glove_bin_smote)\n",
    "print(\"Training Metrics: Random Forest Binary + SMOTE\")\n",
    "print(\"Accuracy:\", accuracy_score(y_train_bin_rf_smote, y_train_pred_rf_glove_smote))\n",
    "print(\"F1-Score\", f1_score(y_train_bin_rf_smote, y_train_pred_rf_glove_smote, average=\"macro\"))\n",
    "print(confusion_matrix(y_train_bin_rf_smote, y_train_pred_rf_glove_smote))\n",
    "print(classification_report(y_train_bin_rf_smote, y_train_pred_rf_glove_smote))\n",
    "\n",
    "#predict and evaluate test\n",
    "y_test_pred_rf_bin_glove_smote = rf_glove_bin_smote.predict(X_test_glove_bin)\n",
    "print(\"Test Metrics: Test Metrics Random Forest Binary + SMOTE\")\n",
    "print(\"Accuracy:\", accuracy_score(y_test_bin, y_test_pred_rf_bin_glove_smote))\n",
    "print(\"F1-Score\", f1_score(y_test_bin, y_test_pred_rf_bin_glove_smote, average=\"macro\"))\n",
    "print(confusion_matrix(y_test_bin, y_test_pred_rf_bin_glove_smote))\n",
    "print(classification_report(y_test_bin, y_test_pred_rf_bin_glove_smote))"
   ]
  },
  {
   "cell_type": "markdown",
   "id": "a1f9533c",
   "metadata": {},
   "source": [
    "Observation\n",
    "\n",
    "As seen from the metrics (Baseline vs Class Weights vs SMOTE)\n",
    "- All three are overfitting the training set, as seen in perfect training metrics.\n",
    "- On the test set, the model fails to properly predict minority class. F1-macro is approximately 0.52-0.54 for all three. This is because the test set sill has real-world imbalance, so improvements from SMOTE are not reflected in F1-macro unless we tune the model further or try XGBoost"
   ]
  },
  {
   "cell_type": "code",
   "execution_count": 72,
   "id": "a2c29b87",
   "metadata": {},
   "outputs": [
    {
     "name": "stdout",
     "output_type": "stream",
     "text": [
      "Fitting 5 folds for each of 10 candidates, totalling 50 fits\n",
      "Randomized Search Best Parameters: {'n_estimators': 100, 'min_samples_split': 2, 'min_samples_leaf': 2, 'max_features': 'sqrt', 'max_depth': None}\n",
      "Randomized Search Best CV F1: 0.9361671960158224\n"
     ]
    }
   ],
   "source": [
    "# hyperparameter tuning\n",
    "rf_glove_bin_smote = RandomForestClassifier(random_state=42, class_weight=None)\n",
    "# set hyperparameter Grid\n",
    "rf_params = {\"n_estimators\": [100,200,500],\n",
    "          \"max_depth\": [None, 10,20,30],\n",
    "          \"min_samples_split\": [2, 5, 10],\n",
    "          \"min_samples_leaf\": [1, 2, 4],\n",
    "          \"max_features\": [\"sqrt\", \"log2\", None]}\n",
    "cv = StratifiedKFold(n_splits=5, shuffle=True, random_state=42)\n",
    "\n",
    "rf_random_search = RandomizedSearchCV(\n",
    "    estimator=rf_glove_bin_smote,\n",
    "    param_distributions=rf_params,\n",
    "    n_iter=10,\n",
    "    scoring=\"f1_macro\",\n",
    "    cv=cv,\n",
    "    n_jobs=-1,\n",
    "    verbose=2,\n",
    "    random_state=42)\n",
    "\n",
    "#fit\n",
    "rf_random_search.fit(X_train_glove_bin_smote, y_train_bin_glove_smote)\n",
    "\n",
    "print(\"Randomized Search Best Parameters:\", rf_random_search.best_params_)\n",
    "print(\"Randomized Search Best CV F1:\", rf_random_search.best_score_)"
   ]
  },
  {
   "cell_type": "code",
   "execution_count": 73,
   "id": "0ab815ef",
   "metadata": {},
   "outputs": [
    {
     "name": "stdout",
     "output_type": "stream",
     "text": [
      "Training Metrics: Random Forest (Binary + SMOTE + Best Params)\n",
      "Accuracy: 0.999645390070922\n",
      "F1-Score 0.999788717515318\n",
      "[[ 453    1]\n",
      " [   0 2366]]\n",
      "              precision    recall  f1-score   support\n",
      "\n",
      "           0       1.00      1.00      1.00       454\n",
      "           1       1.00      1.00      1.00      2366\n",
      "\n",
      "    accuracy                           1.00      2820\n",
      "   macro avg       1.00      1.00      1.00      2820\n",
      "weighted avg       1.00      1.00      1.00      2820\n",
      "\n",
      "Test Metrics: Random Forest (Binary + SMOTE + Best Params)\n",
      "Accuracy: 0.8524822695035461\n",
      "F1-Score 0.9158576051779935\n",
      "[[ 35  79]\n",
      " [ 25 566]]\n",
      "              precision    recall  f1-score   support\n",
      "\n",
      "           0       0.58      0.31      0.40       114\n",
      "           1       0.88      0.96      0.92       591\n",
      "\n",
      "    accuracy                           0.85       705\n",
      "   macro avg       0.73      0.63      0.66       705\n",
      "weighted avg       0.83      0.85      0.83       705\n",
      "\n"
     ]
    }
   ],
   "source": [
    "# Fitting with best params and Evaluating Best model\n",
    "rf_glove_bin_best = RandomForestClassifier(\n",
    "\tn_estimators=500,\n",
    "  max_depth=None,\n",
    "  min_samples_split=5,\n",
    "  min_samples_leaf=1,\n",
    "  max_features=\"sqrt\",\n",
    "  class_weight=None,\n",
    "  random_state=42\n",
    ")\n",
    "#fit on smote training data\n",
    "rf_glove_bin_best.fit(X_train_glove_bin_smote, y_train_bin_glove_smote)\n",
    "\n",
    "#predict and evaluate train\n",
    "y_train_pred_rf_bin = rf_glove_bin_best.predict(X_train_glove_bin)\n",
    "print(\"Training Metrics: Random Forest (Binary + SMOTE + Best Params)\")\n",
    "print(\"Accuracy:\", accuracy_score(y_train_bin, y_train_pred_rf_bin))\n",
    "print(\"F1-Score\", f1_score(y_train_bin, y_train_pred_rf_bin))\n",
    "print(confusion_matrix(y_train_bin, y_train_pred_rf_bin))\n",
    "print(classification_report(y_train_bin, y_train_pred_rf_bin))\n",
    "\n",
    "#predict and evaluate test\n",
    "y_test_pred_rf_bin = rf_glove_bin_best.predict(X_test_glove_bin)\n",
    "print(\"Test Metrics: Random Forest (Binary + SMOTE + Best Params)\")\n",
    "print(\"Accuracy:\", accuracy_score(y_test_bin, y_test_pred_rf_bin))\n",
    "print(\"F1-Score\", f1_score(y_test_bin, y_test_pred_rf_bin))\n",
    "print(confusion_matrix(y_test_bin, y_test_pred_rf_bin))\n",
    "print(classification_report(y_test_bin, y_test_pred_rf_bin))"
   ]
  },
  {
   "cell_type": "markdown",
   "id": "75e4e610",
   "metadata": {},
   "source": [
    "Observation\n",
    "- SMOTE + tuning significantly improves recall for minority class compared to baseline and class weighted RF, but minority class recall is still low at 0.31.\n",
    "- The model generalizes reasonably well, but there's some imbalance still in predictions, likely due to the natural skew in test data.\n",
    "- Overall, this is the best Random Forest performance. Lets do XGBoost if it it will yield a better performance. "
   ]
  },
  {
   "cell_type": "markdown",
   "id": "1685554f",
   "metadata": {},
   "source": [
    "**Binary Classification with XGBoost Classifier**"
   ]
  },
  {
   "cell_type": "code",
   "execution_count": 74,
   "id": "ee35f3cb",
   "metadata": {},
   "outputs": [
    {
     "name": "stdout",
     "output_type": "stream",
     "text": [
      "Training Metrics: XGBoost Baseline)\n",
      "Accuracy: 0.999645390070922\n",
      "F1-Score 0.9997886281969985\n",
      "[[ 454    0]\n",
      " [   1 2365]]\n",
      "              precision    recall  f1-score   support\n",
      "\n",
      "           0       1.00      1.00      1.00       454\n",
      "           1       1.00      1.00      1.00      2366\n",
      "\n",
      "    accuracy                           1.00      2820\n",
      "   macro avg       1.00      1.00      1.00      2820\n",
      "weighted avg       1.00      1.00      1.00      2820\n",
      "\n",
      "Test Metrics: XGBoost Baseline)\n",
      "Accuracy: 0.849645390070922\n",
      "F1-Score 0.9153354632587859\n",
      "[[ 26  88]\n",
      " [ 18 573]]\n",
      "              precision    recall  f1-score   support\n",
      "\n",
      "           0       0.59      0.23      0.33       114\n",
      "           1       0.87      0.97      0.92       591\n",
      "\n",
      "    accuracy                           0.85       705\n",
      "   macro avg       0.73      0.60      0.62       705\n",
      "weighted avg       0.82      0.85      0.82       705\n",
      "\n"
     ]
    }
   ],
   "source": [
    "#baseline xgboost\n",
    "xgb_glove_bin = XGBClassifier(use_label_encoder=False, eval_metrics=\"logloss\", random_state=42)\n",
    "\n",
    "# fit\n",
    "xgb_glove_bin.fit(X_train_glove_bin, y_train_bin)\n",
    "\n",
    "#predict and evaluate train\n",
    "y_train_pred_xgb = xgb_glove_bin.predict(X_train_glove_bin)\n",
    "print(\"Training Metrics: XGBoost Baseline)\")\n",
    "print(\"Accuracy:\", accuracy_score(y_train_bin, y_train_pred_xgb))\n",
    "print(\"F1-Score\", f1_score(y_train_bin, y_train_pred_xgb))\n",
    "print(confusion_matrix(y_train_bin, y_train_pred_xgb))\n",
    "print(classification_report(y_train_bin, y_train_pred_xgb))\n",
    "\n",
    "#predict and evaluate test\n",
    "y_test_pred_xgb = xgb_glove_bin.predict(X_test_glove_bin)\n",
    "print(\"Test Metrics: XGBoost Baseline)\")\n",
    "print(\"Accuracy:\", accuracy_score(y_test_bin, y_test_pred_xgb))\n",
    "print(\"F1-Score\", f1_score(y_test_bin, y_test_pred_xgb))\n",
    "print(confusion_matrix(y_test_bin, y_test_pred_xgb))\n",
    "print(classification_report(y_test_bin, y_test_pred_xgb))"
   ]
  },
  {
   "cell_type": "code",
   "execution_count": 75,
   "id": "abd2f29c",
   "metadata": {},
   "outputs": [
    {
     "name": "stdout",
     "output_type": "stream",
     "text": [
      "Scale_pos_weight: 0.19188503803888418\n",
      "Training Metrics: XGBoost Binary + Class Weights\n",
      "Accuracy: 0.999645390070922\n",
      "F1-Score 0.9997886281969985\n",
      "[[ 454    0]\n",
      " [   1 2365]]\n",
      "              precision    recall  f1-score   support\n",
      "\n",
      "           0       1.00      1.00      1.00       454\n",
      "           1       1.00      1.00      1.00      2366\n",
      "\n",
      "    accuracy                           1.00      2820\n",
      "   macro avg       1.00      1.00      1.00      2820\n",
      "weighted avg       1.00      1.00      1.00      2820\n",
      "\n",
      "Test Metrics: XGBoost Binary + Class Weights\n",
      "Accuracy: 0.851063829787234\n",
      "F1-Score 0.9148418491484185\n",
      "[[ 36  78]\n",
      " [ 27 564]]\n",
      "              precision    recall  f1-score   support\n",
      "\n",
      "           0       0.57      0.32      0.41       114\n",
      "           1       0.88      0.95      0.91       591\n",
      "\n",
      "    accuracy                           0.85       705\n",
      "   macro avg       0.72      0.64      0.66       705\n",
      "weighted avg       0.83      0.85      0.83       705\n",
      "\n"
     ]
    }
   ],
   "source": [
    "#handling class imbalance with scale_pos_weight \n",
    "\n",
    "# compute scale_pos_weight\n",
    "# ratio=negative/positive\n",
    "neg, pos = np.bincount(y_train_bin)\n",
    "scale_pos_weight = neg / pos\n",
    "print(\"Scale_pos_weight:\", scale_pos_weight)\n",
    "\n",
    "# with class weight\n",
    "xgb_glove_bin = XGBClassifier(use_label_encoder=False, eval_metric=\"logloss\",\n",
    "                              random_state=42, scale_pos_weight=scale_pos_weight,\n",
    "                          \t\t)\n",
    "\n",
    "# fit\n",
    "xgb_glove_bin.fit(X_train_glove_bin, y_train_bin)\n",
    "\n",
    "#predict and evaluate train\n",
    "y_train_pred_xgb_bal= xgb_glove_bin.predict(X_train_glove_bin)\n",
    "print(\"Training Metrics: XGBoost Binary + Class Weights\")\n",
    "print(\"Accuracy:\", accuracy_score(y_train_bin, y_train_pred_xgb_bal))\n",
    "print(\"F1-Score\", f1_score(y_train_bin, y_train_pred_xgb_bal))\n",
    "print(confusion_matrix(y_train_bin, y_train_pred_xgb_bal))\n",
    "print(classification_report(y_train_bin, y_train_pred_xgb_bal))\n",
    "\n",
    "#predict and evaluate test\n",
    "y_test_pred_xgb_bal = xgb_glove_bin.predict(X_test_glove_bin)\n",
    "print(\"Test Metrics: XGBoost Binary + Class Weights\")\n",
    "print(\"Accuracy:\", accuracy_score(y_test_bin, y_test_pred_xgb_bal))\n",
    "print(\"F1-Score\", f1_score(y_test_bin, y_test_pred_xgb_bal))\n",
    "print(confusion_matrix(y_test_bin, y_test_pred_xgb_bal))\n",
    "print(classification_report(y_test_bin, y_test_pred_xgb_bal))"
   ]
  },
  {
   "cell_type": "code",
   "execution_count": 76,
   "id": "61c0f125",
   "metadata": {},
   "outputs": [
    {
     "name": "stdout",
     "output_type": "stream",
     "text": [
      "After SMOTE: [2366 2366]\n",
      "Training Metrics: XGBoost Binary + SMOTE\n",
      "Accuracy: 0.9997886728655959\n",
      "F1-Score 0.9997886728561582\n",
      "[[2366    0]\n",
      " [   1 2365]]\n",
      "              precision    recall  f1-score   support\n",
      "\n",
      "           0       1.00      1.00      1.00      2366\n",
      "           1       1.00      1.00      1.00      2366\n",
      "\n",
      "    accuracy                           1.00      4732\n",
      "   macro avg       1.00      1.00      1.00      4732\n",
      "weighted avg       1.00      1.00      1.00      4732\n",
      "\n",
      "Test Metrics: XGBoost Binary + SMOTE\n",
      "Accuracy: 0.8411347517730496\n",
      "F1-Score 0.6737190082644628\n",
      "[[ 44  70]\n",
      " [ 42 549]]\n",
      "              precision    recall  f1-score   support\n",
      "\n",
      "           0       0.51      0.39      0.44       114\n",
      "           1       0.89      0.93      0.91       591\n",
      "\n",
      "    accuracy                           0.84       705\n",
      "   macro avg       0.70      0.66      0.67       705\n",
      "weighted avg       0.83      0.84      0.83       705\n",
      "\n"
     ]
    }
   ],
   "source": [
    "# handling class imbalance with smote\n",
    "# create SMOTE data\n",
    "smote = SMOTE(random_state=42)\n",
    "X_train_glove_bin_smote, y_train_glove_bin_smote = smote.fit_resample(X_train_glove_bin, y_train_bin)\n",
    "print(\"After SMOTE:\", np.bincount(y_train_glove_bin_smote))\n",
    "\n",
    "# XGBoost on SMOTE data\n",
    "xgb_glove_bin_smote = XGBClassifier(use_label_encoder=False, eval_metrics=\"logloss\",\n",
    "                              random_state=42)\n",
    "\n",
    "# fit\n",
    "xgb_glove_bin_smote.fit(X_train_glove_bin_smote, y_train_glove_bin_smote)\n",
    "\n",
    "#predict and evaluate train\n",
    "y_train_pred_xgb_smote= xgb_glove_bin_smote.predict(X_train_glove_bin_smote)\n",
    "print(\"Training Metrics: XGBoost Binary + SMOTE\")\n",
    "print(\"Accuracy:\", accuracy_score(y_train_glove_bin_smote, y_train_pred_xgb_smote))\n",
    "print(\"F1-Score\", f1_score(y_train_glove_bin_smote, y_train_pred_xgb_smote, average=\"macro\"))\n",
    "print(confusion_matrix(y_train_glove_bin_smote, y_train_pred_xgb_smote))\n",
    "print(classification_report(y_train_glove_bin_smote, y_train_pred_xgb_smote))\n",
    "\n",
    "#predict and evaluate test\n",
    "y_test_pred_xgb_smote = xgb_glove_bin_smote.predict(X_test_glove_bin)\n",
    "print(\"Test Metrics: XGBoost Binary + SMOTE\")\n",
    "print(\"Accuracy:\", accuracy_score(y_test_bin, y_test_pred_xgb_smote))\n",
    "print(\"F1-Score\", f1_score(y_test_bin, y_test_pred_xgb_smote, average=\"macro\"))\n",
    "print(confusion_matrix(y_test_bin, y_test_pred_xgb_smote))\n",
    "print(classification_report(y_test_bin, y_test_pred_xgb_smote))"
   ]
  },
  {
   "cell_type": "code",
   "execution_count": 77,
   "id": "cfeba0f4",
   "metadata": {},
   "outputs": [
    {
     "name": "stdout",
     "output_type": "stream",
     "text": [
      "Fitting 5 folds for each of 20 candidates, totalling 100 fits\n"
     ]
    },
    {
     "name": "stdout",
     "output_type": "stream",
     "text": [
      "Randomized Search Best Parameters: {'subsample': 0.6, 'n_estimators': 500, 'min_child_weight': 1, 'max_depth': 10, 'learning_rate': 0.05}\n",
      "Randomized Search Best CV F1_score: 0.9537064420176542\n"
     ]
    }
   ],
   "source": [
    "# hyperparameter tuning\n",
    "# instatiate XGBoost\n",
    "xgb_model = xgb.XGBClassifier(\n",
    "    objective=\"binary:logistic\",\n",
    "    eval_metric=\"logloss\",\n",
    "    use_label_encoder=False,\n",
    "    random_state=42\n",
    "        )\n",
    "# param grid\n",
    "param = {\n",
    "    \"n_estimators\": [100, 200, 500],\n",
    "    \"max_depth\": [3, 5, 7, 10],\n",
    "    \"learning_rate\": [0.01, 0.05, 0.1, 0.2],\n",
    "    \"subsample\": [0.6, 0.8, 1.0], \n",
    "    \"min_child_weight\": [1, 3, 5]\n",
    "}\n",
    "# cross validation\n",
    "cv = StratifiedKFold(n_splits=5, shuffle=True, random_state=42)\n",
    "\n",
    "# tuning\n",
    "xgb_random_search = RandomizedSearchCV(estimator=xgb_model, param_distributions=param,\n",
    "                                   n_iter=20, scoring=\"f1_macro\", cv=cv, n_jobs=-1,\n",
    "                                   verbose=2, random_state=42)\n",
    "# fit\n",
    "xgb_random_search.fit(X_train_glove_bin_smote, y_train_glove_bin_smote)\n",
    "\n",
    "print(\"Randomized Search Best Parameters:\", xgb_random_search.best_params_)\n",
    "print(\"Randomized Search Best CV F1_score:\", xgb_random_search.best_score_)"
   ]
  },
  {
   "cell_type": "code",
   "execution_count": 78,
   "id": "5adef24f",
   "metadata": {},
   "outputs": [
    {
     "name": "stdout",
     "output_type": "stream",
     "text": [
      "Training Metrics: XGBoost (Binary + Smote + Best Params)\n",
      "Accuracy: 0.9997886728655959\n",
      "F1-Score 0.999788717515318\n",
      "[[2365    1]\n",
      " [   0 2366]]\n",
      "              precision    recall  f1-score   support\n",
      "\n",
      "           0       1.00      1.00      1.00      2366\n",
      "           1       1.00      1.00      1.00      2366\n",
      "\n",
      "    accuracy                           1.00      4732\n",
      "   macro avg       1.00      1.00      1.00      4732\n",
      "weighted avg       1.00      1.00      1.00      4732\n",
      "\n",
      "Test Metrics: XGBoost (Binary + Smote + Best Params)\n",
      "Accuracy: 0.8553191489361702\n",
      "F1-Score 0.916256157635468\n",
      "[[ 45  69]\n",
      " [ 33 558]]\n",
      "              precision    recall  f1-score   support\n",
      "\n",
      "           0       0.58      0.39      0.47       114\n",
      "           1       0.89      0.94      0.92       591\n",
      "\n",
      "    accuracy                           0.86       705\n",
      "   macro avg       0.73      0.67      0.69       705\n",
      "weighted avg       0.84      0.86      0.84       705\n",
      "\n"
     ]
    }
   ],
   "source": [
    "# predict and evaluate best\n",
    "xgb_glove_bin_best = XGBClassifier(\n",
    "    objective=\"binary:logistic\",\n",
    "    eval_metric=\"logloss\",\n",
    "    use_label_encoder=False,\n",
    "    random_state=42,\n",
    "    **xgb_random_search.best_params_\n",
    ")\n",
    "#fit on smote training data\n",
    "xgb_glove_bin_best.fit(X_train_glove_bin_smote, y_train_glove_bin_smote)\n",
    "\n",
    "#predict and evaluate train\n",
    "y_train_pred = xgb_glove_bin_best.predict(X_train_glove_bin_smote)\n",
    "print(\"Training Metrics: XGBoost (Binary + Smote + Best Params)\")\n",
    "print(\"Accuracy:\", accuracy_score(y_train_glove_bin_smote, y_train_pred))\n",
    "print(\"F1-Score\", f1_score(y_train_glove_bin_smote, y_train_pred))\n",
    "print(confusion_matrix(y_train_glove_bin_smote, y_train_pred))\n",
    "print(classification_report(y_train_glove_bin_smote, y_train_pred)) \n",
    "\n",
    "#predict and evaluate test\n",
    "y_test_pred = xgb_glove_bin_best.predict(X_test_glove_bin)\n",
    "print(\"Test Metrics: XGBoost (Binary + Smote + Best Params)\")\n",
    "print(\"Accuracy:\", accuracy_score(y_test_bin, y_test_pred))\n",
    "print(\"F1-Score\", f1_score(y_test_bin, y_test_pred))\n",
    "print(confusion_matrix(y_test_bin, y_test_pred))\n",
    "print(classification_report(y_test_bin, y_test_pred)) "
   ]
  },
  {
   "attachments": {
    "image-2.png": {
     "image/png": "[encoded data removed]"
    }
   },
   "cell_type": "markdown",
   "id": "dee05d04",
   "metadata": {},
   "source": [
    "Observation\n",
    "- Training performance is near perfect as the model learns patterns well. \n",
    "- Test performance f1 macro(0.73) before tuning improved to 0.9261 after hyperparameter tuning and SMOTE.\n",
    "- Minority class recall(Negative) improves from 0.21 baseline to 0.45 after SMOTE, showing SMOTE helped with class imbalance.\n",
    "\n",
    "### General Observation**\n",
    "\n",
    "![image-2.png](attachment:image-2.png)\n",
    "\n",
    "- XGBoost(SMOTE + tuned hyperparameter) achieves an F1-score of 0.916 slightly outperforming  Random Forest 0.915, representing a 1.5% relative improvement.\n",
    "- Both models achieve near-perfect accuracy, indicating some overfitting but XGBoost generalizes slightly better. \n",
    "- Compared to Random Forest and Logistic Regression, XGBoost provides stronger generalization on an imbalanced binary target.\n",
    "- Overall,  XGBoost serves as a a high-quality, deployable baseline, offering strong performance with interpretability.\n",
    "- This outcomes justify transitioning to deep learning(DistilBERT) to capture deeper semantic understanding and extend analysis to multiclass sentiment classification."
   ]
  },
  {
   "cell_type": "markdown",
   "id": "cc3583ab",
   "metadata": {},
   "source": [
    "### Deep Learning\n",
    "#### Using DistilBERT Transfer Learning Model(Hugging Face Transformers)\n",
    "**Binary classification DistilBERT** "
   ]
  },
  {
   "cell_type": "code",
   "execution_count": 79,
   "id": "77fb9b0f",
   "metadata": {},
   "outputs": [
    {
     "name": "stdout",
     "output_type": "stream",
     "text": [
      "Augmenting for Class Imbalance\n",
      "Class balance: sentiment_simple\n",
      "Positive    2957\n",
      "Negative    1136\n",
      "Name: count, dtype: int64\n"
     ]
    }
   ],
   "source": [
    "# Data augmentation for Class imbalance negative class\n",
    "print(\"Augmenting for Class Imbalance\")\n",
    "negatives = binary_df[binary_df[\"sentiment_simple\"]==\"Negative\"][\"text\"]\n",
    "augmenter = naw.SynonymAug(aug_src=\"wordnet\", aug_p=0.3)\n",
    "\n",
    "# Augment \n",
    "def safe_augment(text):\n",
    "    aug_text = augmenter.augment(text)\n",
    "    if isinstance(aug_text, list):\n",
    "        return aug_text[0]\n",
    "    return aug_text\n",
    "    \n",
    "augmented_neg = negatives.apply(safe_augment)\n",
    "augmented_df = pd.DataFrame({\"text\": augmented_neg, \"sentiment_simple\": \"Negative\"})\n",
    "\n",
    "#Combine and shuffle\n",
    "balanced_df = pd.concat([binary_df, augmented_df]).sample(frac=1, random_state=42)\n",
    "print(\"Class balance:\", balanced_df[\"sentiment_simple\"].value_counts())"
   ]
  },
  {
   "cell_type": "code",
   "execution_count": 80,
   "id": "b590075e",
   "metadata": {},
   "outputs": [
    {
     "name": "stdout",
     "output_type": "stream",
     "text": [
      "Train Size: 3274\n",
      "Test size: 819\n"
     ]
    }
   ],
   "source": [
    "#prepare data and map labels\n",
    "balanced_df[\"label\"] = balanced_df[\"sentiment_simple\"].map({\"Negative\":0, \"Positive\":1}).astype(int)\n",
    "\n",
    "X = balanced_df[\"text\"]\n",
    "y= balanced_df[\"label\"]\n",
    "\n",
    "# train-test split\n",
    "X_train_text, X_test_text, y_train, y_test = train_test_split(X, y,test_size=0.2,random_state=42, stratify=y)\n",
    "\n",
    "print(\"Train Size:\", len(X_train_text))\n",
    "print(\"Test size:\", len(X_test_text))"
   ]
  },
  {
   "cell_type": "code",
   "execution_count": 81,
   "id": "67714538",
   "metadata": {},
   "outputs": [],
   "source": [
    "# create dataset\n",
    "class TweetDataset(Dataset):\n",
    "    def __init__(self, texts, labels, tokenizer, max_len):\n",
    "        self.texts = list(texts)\n",
    "        self.labels = list(labels)\n",
    "        self.tokenizer = tokenizer\n",
    "        self.max_len = max_len\n",
    "    def __len__(self):\n",
    "        return len(self.texts)\n",
    "    \n",
    "    def __getitem__(self, idx):\n",
    "        text = self.texts[idx]\n",
    "        label = self.labels[idx]\n",
    "        encoding = self.tokenizer(\n",
    "            text,\n",
    "            truncation=True,\n",
    "            padding=\"max_length\",\n",
    "            max_length=self.max_len,\n",
    "            return_tensors=\"pt\"\n",
    "\t\t\t\t)\n",
    "        item = {key: val.squeeze(0) for key, val in encoding.items()}\n",
    "        item[\"labels\"] = torch.tensor(label, dtype=torch.long)\n",
    "        return item\n",
    "max_len = 160\n",
    "batch_size =16"
   ]
  },
  {
   "cell_type": "code",
   "execution_count": 82,
   "id": "0a03b9ac",
   "metadata": {},
   "outputs": [],
   "source": [
    "\n",
    "#load tokenizer\n",
    "tokenizer = DistilBertTokenizer.from_pretrained(\"distilbert-base-uncased\")\n",
    "train_dataset = TweetDataset(X_train_text.tolist(), y_train.tolist(), tokenizer, max_len)\n",
    "test_dataset = TweetDataset(X_test_text.tolist(), y_test.tolist(), tokenizer, max_len)\n",
    "\n",
    "train_loader = DataLoader(train_dataset, batch_size=batch_size, shuffle=True)\n",
    "test_loader = DataLoader(test_dataset, batch_size=batch_size, shuffle=False)"
   ]
  },
  {
   "cell_type": "code",
   "execution_count": 83,
   "id": "4c464651",
   "metadata": {},
   "outputs": [],
   "source": [
    "# focal loss\n",
    "class FocalLoss(nn.Module):\n",
    "    def __init__(self, gamma=2, weight=None,  reduction=\"mean\"):\n",
    "        super(FocalLoss, self).__init__()\n",
    "        self.gamma = gamma\n",
    "        self.weight = weight\n",
    "        self.reduction =  reduction\n",
    "    def forward(self, inputs, targets):\n",
    "        ce_loss = F.cross_entropy(inputs, targets, weight=self.weight, reduction=\"none\")\n",
    "        pt = torch.exp(-ce_loss)\n",
    "        focal_loss = ((1 - pt) ** self.gamma) * ce_loss\n",
    "        if self.reduction == \"mean\":\n",
    "           return focal_loss.mean()\n",
    "        elif self.reduction == \"sum\":\n",
    "            return focal_loss.sum()\n",
    "        else:\n",
    "            return focal_loss    "
   ]
  },
  {
   "cell_type": "code",
   "execution_count": 84,
   "id": "70f2357c",
   "metadata": {},
   "outputs": [],
   "source": [
    "# class weights for imbalance\n",
    "device = torch.device(\"cuda\" if torch.cuda.is_available() else \"cpu\")\n",
    "train_labels = y_train.to_list()\n",
    "class_counts = np.bincount(train_labels)\n",
    "class_weights = torch.tensor(len(train_labels) / (2.0 * class_counts), dtype=torch.float).to(device)\n",
    "loss_fn = FocalLoss(gamma=2, weight=class_weights)"
   ]
  },
  {
   "cell_type": "code",
   "execution_count": 85,
   "id": "07f7bb9c",
   "metadata": {},
   "outputs": [
    {
     "name": "stderr",
     "output_type": "stream",
     "text": [
      "Some weights of DistilBertForSequenceClassification were not initialized from the model checkpoint at distilbert-base-uncased and are newly initialized: ['classifier.bias', 'classifier.weight', 'pre_classifier.bias', 'pre_classifier.weight']\n",
      "You should probably TRAIN this model on a down-stream task to be able to use it for predictions and inference.\n"
     ]
    }
   ],
   "source": [
    "# model and optimizer setup\n",
    "device = torch.device(\"cuda\" if torch.cuda.is_available() else \"cpu\")\n",
    "model = DistilBertForSequenceClassification.from_pretrained(\"distilbert-base-uncased\")\n",
    "model.to(device)\n",
    "\n",
    "# unfreeze all layers\n",
    "for param in model.parameters():\n",
    "    param.requires_grad =True\n",
    "\n",
    "optimizer = AdamW(model.parameters(), lr=2e-5, weight_decay=0.01)\n",
    "epochs = 2\n",
    "\n",
    "total_steps = len(train_loader) * epochs\n",
    "scheduler = get_linear_schedule_with_warmup(\n",
    "    optimizer, num_warmup_steps=0, num_training_steps=total_steps\n",
    "    )"
   ]
  },
  {
   "cell_type": "markdown",
   "id": "ec740f64",
   "metadata": {},
   "source": [
    "**Tracking experiments and results live using Weights and Biases(WandB)**"
   ]
  },
  {
   "cell_type": "code",
   "execution_count": 86,
   "id": "12a9e520",
   "metadata": {},
   "outputs": [
    {
     "name": "stderr",
     "output_type": "stream",
     "text": [
      "\u001b[34m\u001b[1mwandb\u001b[0m: Currently logged in as: \u001b[33mmercykirwa24\u001b[0m (\u001b[33mmercykirwa24-self\u001b[0m) to \u001b[32mhttps://api.wandb.ai\u001b[0m. Use \u001b[1m`wandb login --relogin`\u001b[0m to force relogin\n"
     ]
    },
    {
     "data": {
      "text/html": [],
      "text/plain": [
       "<IPython.core.display.HTML object>"
      ]
     },
     "metadata": {},
     "output_type": "display_data"
    },
    {
     "data": {
      "text/html": [
       "Tracking run with wandb version 0.22.2"
      ],
      "text/plain": [
       "<IPython.core.display.HTML object>"
      ]
     },
     "metadata": {},
     "output_type": "display_data"
    },
    {
     "data": {
      "text/html": [
       "Run data is saved locally in <code>c:\\Users\\USER\\Desktop\\Phase_4\\NLP-Project\\wandb\\run-20251018_212534-5egtx94e</code>"
      ],
      "text/plain": [
       "<IPython.core.display.HTML object>"
      ]
     },
     "metadata": {},
     "output_type": "display_data"
    },
    {
     "data": {
      "text/html": [
       "Syncing run <strong><a href='https://wandb.ai/mercykirwa24-self/sentiment_analysis_distilbert/runs/5egtx94e' target=\"_blank\">silver-waterfall-42</a></strong> to <a href='https://wandb.ai/mercykirwa24-self/sentiment_analysis_distilbert' target=\"_blank\">Weights & Biases</a> (<a href='https://wandb.me/developer-guide' target=\"_blank\">docs</a>)<br>"
      ],
      "text/plain": [
       "<IPython.core.display.HTML object>"
      ]
     },
     "metadata": {},
     "output_type": "display_data"
    },
    {
     "data": {
      "text/html": [
       " View project at <a href='https://wandb.ai/mercykirwa24-self/sentiment_analysis_distilbert' target=\"_blank\">https://wandb.ai/mercykirwa24-self/sentiment_analysis_distilbert</a>"
      ],
      "text/plain": [
       "<IPython.core.display.HTML object>"
      ]
     },
     "metadata": {},
     "output_type": "display_data"
    },
    {
     "data": {
      "text/html": [
       " View run at <a href='https://wandb.ai/mercykirwa24-self/sentiment_analysis_distilbert/runs/5egtx94e' target=\"_blank\">https://wandb.ai/mercykirwa24-self/sentiment_analysis_distilbert/runs/5egtx94e</a>"
      ],
      "text/plain": [
       "<IPython.core.display.HTML object>"
      ]
     },
     "metadata": {},
     "output_type": "display_data"
    }
   ],
   "source": [
    "#initialize WandB\n",
    "wandb.login()\n",
    "\n",
    "config={\n",
    "\t\t\"model_name\": \"distilbert-base-uncased\",\n",
    "    \"epochs\":2,\n",
    "\t\t\"batch_size\":16,\n",
    "\t\t\"learning_rate\":2e-5,\n",
    "\t\t\"max_len\": 160,\n",
    "\t\t\"weight_decay\":0.01\n",
    "\t}\n",
    "\n",
    "wandb.init(project=\"sentiment_analysis_distilbert\", config=config)\n",
    "config = wandb.config"
   ]
  },
  {
   "cell_type": "code",
   "execution_count": 87,
   "id": "4611fc96",
   "metadata": {},
   "outputs": [
    {
     "name": "stderr",
     "output_type": "stream",
     "text": [
      "Epoch 1: 100%|██████████| 205/205 [35:48<00:00, 10.48s/it, loss=0.12158246775094456]  \n"
     ]
    },
    {
     "name": "stdout",
     "output_type": "stream",
     "text": [
      "Epoch 1/2 | Train loss: 0.1222\n"
     ]
    },
    {
     "name": "stderr",
     "output_type": "stream",
     "text": [
      "Epoch 2: 100%|██████████| 205/205 [26:20<00:00,  7.71s/it, loss=0.06127695110061396] "
     ]
    },
    {
     "name": "stdout",
     "output_type": "stream",
     "text": [
      "Epoch 2/2 | Train loss: 0.0616\n"
     ]
    },
    {
     "name": "stderr",
     "output_type": "stream",
     "text": [
      "\n"
     ]
    }
   ],
   "source": [
    "#training loop\n",
    "for epoch in range(epochs):\n",
    "    model.train()\n",
    "    train_loss = 0.0\n",
    "    progress_bar = tqdm(train_loader, desc=f\"Epoch {epoch+1}\")\n",
    "    for batch in progress_bar:\n",
    "            optimizer.zero_grad()\n",
    "            input_ids = batch[\"input_ids\"].to(device)\n",
    "            attention_mask = batch[\"attention_mask\"].to(device)\n",
    "            labels = batch[\"labels\"].to(device)\n",
    "                   \n",
    "            outputs = model(input_ids, attention_mask=attention_mask, labels=labels)\n",
    "            logits = outputs.logits\n",
    "            loss = loss_fn(logits, labels)\n",
    "            \n",
    "            loss.backward()\n",
    "            torch.nn.utils.clip_grad_norm_(model.parameters(), max_norm=1.0)\n",
    "            optimizer.step()\n",
    "            scheduler.step()\n",
    "            \n",
    "            train_loss += loss.item()\n",
    "            avg_loss = train_loss / (len(progress_bar) + 1)\n",
    "            progress_bar.set_postfix({\"loss\": f\"{avg_loss}\"})\n",
    "    print(f\"Epoch {epoch+1}/{epochs} | Train loss: {train_loss/len(train_loader):.4f}\")"
   ]
  },
  {
   "cell_type": "code",
   "execution_count": 88,
   "id": "5b9a7f0a",
   "metadata": {},
   "outputs": [
    {
     "name": "stdout",
     "output_type": "stream",
     "text": [
      "Final Binary Metrics\n",
      "Accuracy: 0.8864468864468864\n",
      "Precision: 0.8514432949494424\n",
      "Recall: 0.9024400226217406\n",
      "F1-score (macro): 0.8688496644919339\n",
      "              precision    recall  f1-score   support\n",
      "\n",
      "    Negative       0.73      0.94      0.82       227\n",
      "    Positive       0.97      0.87      0.92       592\n",
      "\n",
      "    accuracy                           0.89       819\n",
      "   macro avg       0.85      0.90      0.87       819\n",
      "weighted avg       0.91      0.89      0.89       819\n",
      "\n"
     ]
    }
   ],
   "source": [
    "# evaluation\n",
    "model.eval()\n",
    "preds, labels_all, probs_all, logits_all = [], [], [], []\n",
    "\n",
    "with torch.no_grad():\n",
    "    for batch in test_loader:\n",
    "        input_ids = batch[\"input_ids\"].to(device)\n",
    "        attention_mask = batch[\"attention_mask\"].to(device)\n",
    "        labels = batch[\"labels\"].to(device)\n",
    "        \n",
    "        outputs = model(input_ids, attention_mask=attention_mask)\n",
    "        logits = outputs.logits\n",
    "        \n",
    "        preds.extend(torch.argmax(logits, dim=1).cpu().numpy())\n",
    "        probs_all.extend(torch.softmax(logits, dim=1)[:, 1].cpu().numpy())\n",
    "        logits_all.append(logits.cpu())\n",
    "        labels_all.extend(labels.cpu().numpy())\n",
    "        \n",
    "logits_all = torch.cat(logits_all)\n",
    "        \n",
    "# Evaluation Metrics\n",
    "print(\"Final Binary Metrics\")\n",
    "print(\"Accuracy:\", accuracy_score(labels_all, preds))\n",
    "print(\"Precision:\", precision_score(labels_all, preds, average=\"macro\"))\n",
    "print(\"Recall:\", recall_score(labels_all, preds, average=\"macro\"))\n",
    "print(\"F1-score (macro):\", f1_score(labels_all, preds, average=\"macro\"))\n",
    "print(classification_report(labels_all, preds, target_names=[\"Negative\", \"Positive\"]))"
   ]
  },
  {
   "cell_type": "code",
   "execution_count": 89,
   "id": "ebb0aac5",
   "metadata": {},
   "outputs": [],
   "source": [
    "wandb.log({\n",
    "    \"accuracy\": accuracy_score(labels_all, preds), \n",
    "    \"precision_macro\": precision_score(labels_all, preds, average=\"macro\"),\n",
    "    \"recall\": recall_score(labels_all, preds, average=\"macro\"),\n",
    "    \"F1_macro\": f1_score(labels_all, preds, average=\"macro\"),\n",
    "})"
   ]
  },
  {
   "cell_type": "code",
   "execution_count": 90,
   "id": "4d92209f",
   "metadata": {},
   "outputs": [
    {
     "data": {
      "text/html": [
       "Finishing previous runs because reinit is set to 'default'."
      ],
      "text/plain": [
       "<IPython.core.display.HTML object>"
      ]
     },
     "metadata": {},
     "output_type": "display_data"
    },
    {
     "data": {
      "text/html": [],
      "text/plain": [
       "<IPython.core.display.HTML object>"
      ]
     },
     "metadata": {},
     "output_type": "display_data"
    },
    {
     "data": {
      "text/html": [
       "<br>    <style><br>        .wandb-row {<br>            display: flex;<br>            flex-direction: row;<br>            flex-wrap: wrap;<br>            justify-content: flex-start;<br>            width: 100%;<br>        }<br>        .wandb-col {<br>            display: flex;<br>            flex-direction: column;<br>            flex-basis: 100%;<br>            flex: 1;<br>            padding: 10px;<br>        }<br>    </style><br><div class=\"wandb-row\"><div class=\"wandb-col\"><h3>Run history:</h3><br/><table class=\"wandb\"><tr><td>F1_macro</td><td>▁</td></tr><tr><td>accuracy</td><td>▁</td></tr><tr><td>precision_macro</td><td>▁</td></tr><tr><td>recall</td><td>▁</td></tr></table><br/></div><div class=\"wandb-col\"><h3>Run summary:</h3><br/><table class=\"wandb\"><tr><td>F1_macro</td><td>0.86885</td></tr><tr><td>accuracy</td><td>0.88645</td></tr><tr><td>precision_macro</td><td>0.85144</td></tr><tr><td>recall</td><td>0.90244</td></tr></table><br/></div></div>"
      ],
      "text/plain": [
       "<IPython.core.display.HTML object>"
      ]
     },
     "metadata": {},
     "output_type": "display_data"
    },
    {
     "data": {
      "text/html": [
       " View run <strong style=\"color:#cdcd00\">silver-waterfall-42</strong> at: <a href='https://wandb.ai/mercykirwa24-self/sentiment_analysis_distilbert/runs/5egtx94e' target=\"_blank\">https://wandb.ai/mercykirwa24-self/sentiment_analysis_distilbert/runs/5egtx94e</a><br> View project at: <a href='https://wandb.ai/mercykirwa24-self/sentiment_analysis_distilbert' target=\"_blank\">https://wandb.ai/mercykirwa24-self/sentiment_analysis_distilbert</a><br>Synced 5 W&B file(s), 0 media file(s), 0 artifact file(s) and 0 other file(s)"
      ],
      "text/plain": [
       "<IPython.core.display.HTML object>"
      ]
     },
     "metadata": {},
     "output_type": "display_data"
    },
    {
     "data": {
      "text/html": [
       "Find logs at: <code>.\\wandb\\run-20251018_212534-5egtx94e\\logs</code>"
      ],
      "text/plain": [
       "<IPython.core.display.HTML object>"
      ]
     },
     "metadata": {},
     "output_type": "display_data"
    },
    {
     "data": {
      "text/html": [],
      "text/plain": [
       "<IPython.core.display.HTML object>"
      ]
     },
     "metadata": {},
     "output_type": "display_data"
    },
    {
     "data": {
      "text/html": [
       "Tracking run with wandb version 0.22.2"
      ],
      "text/plain": [
       "<IPython.core.display.HTML object>"
      ]
     },
     "metadata": {},
     "output_type": "display_data"
    },
    {
     "data": {
      "text/html": [
       "Run data is saved locally in <code>c:\\Users\\USER\\Desktop\\Phase_4\\NLP-Project\\wandb\\run-20251018_222937-1frgfz4a</code>"
      ],
      "text/plain": [
       "<IPython.core.display.HTML object>"
      ]
     },
     "metadata": {},
     "output_type": "display_data"
    },
    {
     "data": {
      "text/html": [
       "Syncing run <strong><a href='https://wandb.ai/mercykirwa24-self/sentiment_analysis_distilbert/runs/1frgfz4a' target=\"_blank\">sandy-armadillo-43</a></strong> to <a href='https://wandb.ai/mercykirwa24-self/sentiment_analysis_distilbert' target=\"_blank\">Weights & Biases</a> (<a href='https://wandb.me/developer-guide' target=\"_blank\">docs</a>)<br>"
      ],
      "text/plain": [
       "<IPython.core.display.HTML object>"
      ]
     },
     "metadata": {},
     "output_type": "display_data"
    },
    {
     "data": {
      "text/html": [
       " View project at <a href='https://wandb.ai/mercykirwa24-self/sentiment_analysis_distilbert' target=\"_blank\">https://wandb.ai/mercykirwa24-self/sentiment_analysis_distilbert</a>"
      ],
      "text/plain": [
       "<IPython.core.display.HTML object>"
      ]
     },
     "metadata": {},
     "output_type": "display_data"
    },
    {
     "data": {
      "text/html": [
       " View run at <a href='https://wandb.ai/mercykirwa24-self/sentiment_analysis_distilbert/runs/1frgfz4a' target=\"_blank\">https://wandb.ai/mercykirwa24-self/sentiment_analysis_distilbert/runs/1frgfz4a</a>"
      ],
      "text/plain": [
       "<IPython.core.display.HTML object>"
      ]
     },
     "metadata": {},
     "output_type": "display_data"
    },
    {
     "data": {
      "image/png": "[encoded data removed]",
      "text/plain": [
       "<Figure size 500x400 with 2 Axes>"
      ]
     },
     "metadata": {},
     "output_type": "display_data"
    }
   ],
   "source": [
    "#visualize confusion matrix\n",
    "wandb.init(\n",
    "    project=\"sentiment_analysis_distilbert\",\n",
    "    config={\n",
    "        \"model_name\": \"distilbert-base-uncased\",\n",
    "        \"epochs\": 2,\n",
    "        \"batch_size\": 16,\n",
    "        \"learning_rate\": 2e-5,\n",
    "        \"max_len\": 160,\n",
    "        \"weight_decay\": 0.01\n",
    "    }\n",
    ")\n",
    "cm = confusion_matrix(labels_all, preds)\n",
    "plt.figure(figsize=(5,4))\n",
    "sns.heatmap(cm, annot=True, fmt=\"d\", cmap=\"Blues\", xticklabels=[\"Negative\", \"Positive\"], yticklabels=[\"Negative\", \"Positive\"])\n",
    "plt.xlabel(\"Predicted\")\n",
    "plt.ylabel(\"True\")\n",
    "plt.title(\"Confusion Matrix\")\n",
    "plt.tight_layout()\n",
    "wandb.log({\"confusion_matrix\": wandb.Image(plt.gcf())})\n",
    "plt.show()\n",
    "plt.close()"
   ]
  },
  {
   "cell_type": "code",
   "execution_count": 91,
   "id": "de8463b2",
   "metadata": {},
   "outputs": [
    {
     "data": {
      "text/html": [
       "Finishing previous runs because reinit is set to 'default'."
      ],
      "text/plain": [
       "<IPython.core.display.HTML object>"
      ]
     },
     "metadata": {},
     "output_type": "display_data"
    },
    {
     "data": {
      "text/html": [],
      "text/plain": [
       "<IPython.core.display.HTML object>"
      ]
     },
     "metadata": {},
     "output_type": "display_data"
    },
    {
     "data": {
      "text/html": [
       " View run <strong style=\"color:#cdcd00\">sandy-armadillo-43</strong> at: <a href='https://wandb.ai/mercykirwa24-self/sentiment_analysis_distilbert/runs/1frgfz4a' target=\"_blank\">https://wandb.ai/mercykirwa24-self/sentiment_analysis_distilbert/runs/1frgfz4a</a><br> View project at: <a href='https://wandb.ai/mercykirwa24-self/sentiment_analysis_distilbert' target=\"_blank\">https://wandb.ai/mercykirwa24-self/sentiment_analysis_distilbert</a><br>Synced 5 W&B file(s), 1 media file(s), 0 artifact file(s) and 0 other file(s)"
      ],
      "text/plain": [
       "<IPython.core.display.HTML object>"
      ]
     },
     "metadata": {},
     "output_type": "display_data"
    },
    {
     "data": {
      "text/html": [
       "Find logs at: <code>.\\wandb\\run-20251018_222937-1frgfz4a\\logs</code>"
      ],
      "text/plain": [
       "<IPython.core.display.HTML object>"
      ]
     },
     "metadata": {},
     "output_type": "display_data"
    },
    {
     "data": {
      "text/html": [],
      "text/plain": [
       "<IPython.core.display.HTML object>"
      ]
     },
     "metadata": {},
     "output_type": "display_data"
    },
    {
     "data": {
      "text/html": [
       "Tracking run with wandb version 0.22.2"
      ],
      "text/plain": [
       "<IPython.core.display.HTML object>"
      ]
     },
     "metadata": {},
     "output_type": "display_data"
    },
    {
     "data": {
      "text/html": [
       "Run data is saved locally in <code>c:\\Users\\USER\\Desktop\\Phase_4\\NLP-Project\\wandb\\run-20251018_222943-k0dverms</code>"
      ],
      "text/plain": [
       "<IPython.core.display.HTML object>"
      ]
     },
     "metadata": {},
     "output_type": "display_data"
    },
    {
     "data": {
      "text/html": [
       "Syncing run <strong><a href='https://wandb.ai/mercykirwa24-self/sentiment_analysis_distilbert/runs/k0dverms' target=\"_blank\">ruby-sunset-44</a></strong> to <a href='https://wandb.ai/mercykirwa24-self/sentiment_analysis_distilbert' target=\"_blank\">Weights & Biases</a> (<a href='https://wandb.me/developer-guide' target=\"_blank\">docs</a>)<br>"
      ],
      "text/plain": [
       "<IPython.core.display.HTML object>"
      ]
     },
     "metadata": {},
     "output_type": "display_data"
    },
    {
     "data": {
      "text/html": [
       " View project at <a href='https://wandb.ai/mercykirwa24-self/sentiment_analysis_distilbert' target=\"_blank\">https://wandb.ai/mercykirwa24-self/sentiment_analysis_distilbert</a>"
      ],
      "text/plain": [
       "<IPython.core.display.HTML object>"
      ]
     },
     "metadata": {},
     "output_type": "display_data"
    },
    {
     "data": {
      "text/html": [
       " View run at <a href='https://wandb.ai/mercykirwa24-self/sentiment_analysis_distilbert/runs/k0dverms' target=\"_blank\">https://wandb.ai/mercykirwa24-self/sentiment_analysis_distilbert/runs/k0dverms</a>"
      ],
      "text/plain": [
       "<IPython.core.display.HTML object>"
      ]
     },
     "metadata": {},
     "output_type": "display_data"
    },
    {
     "data": {
      "image/png": "[encoded data removed]",
      "text/plain": [
       "<Figure size 600x500 with 1 Axes>"
      ]
     },
     "metadata": {},
     "output_type": "display_data"
    }
   ],
   "source": [
    "#visualize roc-auc\n",
    "wandb.init(\n",
    "    project=\"sentiment_analysis_distilbert\",\n",
    "    config={\n",
    "        \"model_name\": \"distilbert-base-uncased\",\n",
    "        \"epochs\": 2,\n",
    "        \"batch_size\": 16,\n",
    "        \"learning_rate\": 2e-5,\n",
    "        \"max_len\": 160,\n",
    "        \"weight_decay\": 0.01\n",
    "    }\n",
    ")\n",
    "\n",
    "fpr, tpr, _ =roc_curve(labels_all, probs_all)\n",
    "roc_auc = auc(fpr, tpr)\n",
    "\n",
    "plt.figure(figsize=(6,5))\n",
    "plt.plot(fpr, tpr, color=\"darkorange\", lw=2, label=f\"ROC Curve (AUC = {roc_auc:.2f})\")\n",
    "plt.plot([0,1], [0,1], color=\"navy\", linestyle=\"--\", lw=2)\n",
    "plt.xlabel(\"False Positive Rate\")\n",
    "plt.ylabel(\"True Positive Rate\")\n",
    "plt.title(\"Receiver Operating Characteristic Curve\")\n",
    "plt.tight_layout()\n",
    "wandb.log({\"confusion_matrix\": wandb.Image(plt.gcf())})\n",
    "plt.show()\n",
    "plt.close()"
   ]
  },
  {
   "cell_type": "code",
   "execution_count": 92,
   "id": "998482b3",
   "metadata": {},
   "outputs": [],
   "source": [
    "#torch.save(model.state_dict(), \"distillbert_sentiment_model.pt\")\n",
    "#wandb.save(\"distilbert_sentiment_model.pt\")\n",
    "#wandb.finish()"
   ]
  },
  {
   "cell_type": "code",
   "execution_count": 94,
   "id": "7b59e956",
   "metadata": {},
   "outputs": [
    {
     "data": {
      "text/plain": [
       "('saved_models/binary_distilbert_test\\\\tokenizer_config.json',\n",
       " 'saved_models/binary_distilbert_test\\\\special_tokens_map.json',\n",
       " 'saved_models/binary_distilbert_test\\\\vocab.txt',\n",
       " 'saved_models/binary_distilbert_test\\\\added_tokens.json')"
      ]
     },
     "execution_count": 94,
     "metadata": {},
     "output_type": "execute_result"
    }
   ],
   "source": [
    "model_save_path = \"saved_models/binary_distilbert_test\"\n",
    "model.save_pretrained(model_save_path)\n",
    "tokenizer.save_pretrained(model_save_path)\n"
   ]
  },
  {
   "cell_type": "markdown",
   "id": "afdf3012",
   "metadata": {},
   "source": [
    "**Multiclass Sentiment Classification using DistilBert**"
   ]
  },
  {
   "cell_type": "code",
   "execution_count": 95,
   "id": "25f9c1c9",
   "metadata": {},
   "outputs": [
    {
     "name": "stdout",
     "output_type": "stream",
     "text": [
      "Origin for Class Counts\n",
      "Balanced Class Count: sentiment_simple\n",
      "Neutral     4786\n",
      "Positive    2957\n",
      "Negative    1136\n",
      "Name: count, dtype: int64\n"
     ]
    }
   ],
   "source": [
    "# Data augmentation for Class imbalance negative class\n",
    "print(\"Origin for Class Counts\")\n",
    "negatives = df[df[\"sentiment_simple\"]==\"Negative\"][\"text\"]\n",
    "augmenter = naw.SynonymAug(aug_src=\"wordnet\", aug_p=0.3)\n",
    "\n",
    "# Augment \n",
    "def safe_augment(text):\n",
    "    aug_text = augmenter.augment(text)\n",
    "    if isinstance(aug_text, list):\n",
    "        return aug_text[0]\n",
    "    return aug_text\n",
    "    \n",
    "augmented_neg = negatives.sample(frac=1, random_state=42).apply(safe_augment)\n",
    "augmented_df = pd.DataFrame({\"text\": augmented_neg, \"sentiment_simple\": \"Negative\"})\n",
    "\n",
    "#Combine and shuffle\n",
    "balanced_df = pd.concat([df, augmented_df]).sample(frac=1, random_state=42)\n",
    "print(\"Balanced Class Count:\", balanced_df[\"sentiment_simple\"].value_counts())"
   ]
  },
  {
   "cell_type": "code",
   "execution_count": 96,
   "id": "12dbeaae",
   "metadata": {},
   "outputs": [
    {
     "name": "stdout",
     "output_type": "stream",
     "text": [
      "Train Size: 7103\n",
      "Test size: 1776\n"
     ]
    }
   ],
   "source": [
    "#prepare data and map labels\n",
    "label_map = {\"Negative\": 0, \"Neutral\": 1, \"Positive\":2}\n",
    "balanced_df[\"label\"] = balanced_df[\"sentiment_simple\"].map(label_map)\n",
    "\n",
    "X = balanced_df[\"text\"]\n",
    "y= balanced_df[\"label\"]\n",
    "\n",
    "# train-test split\n",
    "X_train_text, X_test_text, y_train, y_test = train_test_split(X, y,test_size=0.2,random_state=42, stratify=y)\n",
    "\n",
    "print(\"Train Size:\", len(X_train_text))\n",
    "print(\"Test size:\", len(X_test_text))"
   ]
  },
  {
   "cell_type": "code",
   "execution_count": 97,
   "id": "569ba189",
   "metadata": {},
   "outputs": [],
   "source": [
    "# create dataset\n",
    "class TweetDataset(Dataset):\n",
    "    def __init__(self, texts, labels, tokenizer, max_len):\n",
    "        self.texts = list(texts)\n",
    "        self.labels = list(labels)\n",
    "        self.tokenizer = tokenizer\n",
    "        self.max_len = max_len\n",
    "    def __len__(self):\n",
    "        return len(self.texts)\n",
    "    \n",
    "    def __getitem__(self, idx):\n",
    "        text = self.texts[idx]\n",
    "        label = self.labels[idx]\n",
    "        encoding = self.tokenizer(\n",
    "            text,\n",
    "            truncation=True,\n",
    "            padding=\"max_length\",\n",
    "            max_length=self.max_len,\n",
    "            return_tensors=\"pt\"\n",
    "\t\t\t\t)\n",
    "        item = {key: val.squeeze(0) for key, val in encoding.items()}\n",
    "        item[\"labels\"] = torch.tensor(label, dtype=torch.long)\n",
    "        return item\n",
    "max_len = 160\n",
    "batch_size =16"
   ]
  },
  {
   "cell_type": "code",
   "execution_count": 98,
   "id": "f4267f38",
   "metadata": {},
   "outputs": [],
   "source": [
    "#load tokenizer\n",
    "tokenizer = DistilBertTokenizer.from_pretrained(\"distilbert-base-uncased\")\n",
    "train_dataset = TweetDataset(X_train_text.tolist(), y_train.tolist(), tokenizer, max_len)\n",
    "test_dataset = TweetDataset(X_test_text.tolist(), y_test.tolist(), tokenizer, max_len)\n",
    "\n",
    "train_loader = DataLoader(train_dataset, batch_size=batch_size, shuffle=True)\n",
    "test_loader = DataLoader(test_dataset, batch_size=batch_size, shuffle=False)"
   ]
  },
  {
   "cell_type": "code",
   "execution_count": 99,
   "id": "209d5075",
   "metadata": {},
   "outputs": [
    {
     "name": "stderr",
     "output_type": "stream",
     "text": [
      "Some weights of DistilBertForSequenceClassification were not initialized from the model checkpoint at distilbert-base-uncased and are newly initialized: ['classifier.bias', 'classifier.weight', 'pre_classifier.bias', 'pre_classifier.weight']\n",
      "You should probably TRAIN this model on a down-stream task to be able to use it for predictions and inference.\n"
     ]
    }
   ],
   "source": [
    "# model and optimizer setup\n",
    "device = torch.device(\"cuda\" if torch.cuda.is_available() else \"cpu\")\n",
    "model = DistilBertForSequenceClassification.from_pretrained(\"distilbert-base-uncased\", num_labels=3)\n",
    "model.to(device)\n",
    "\n",
    "# unfreeze all layers\n",
    "for param in model.parameters():\n",
    "    param.requires_grad =True\n",
    "\n",
    "optimizer = AdamW(model.parameters(), lr=2e-5, weight_decay=0.01)\n",
    "epochs = 2\n",
    "\n",
    "total_steps = len(train_loader) * epochs\n",
    "scheduler = get_linear_schedule_with_warmup(\n",
    "    optimizer, num_warmup_steps=0, num_training_steps=total_steps\n",
    "    )\n",
    "# class weights for imbalance\n",
    "train_labels = y_train.to_list()\n",
    "class_counts = np.bincount(train_labels)\n",
    "class_weights = torch.tensor(len(train_labels) / (2.0 * class_counts), dtype=torch.float).to(device)\n",
    "loss_fn = FocalLoss(gamma=2, weight=class_weights)"
   ]
  },
  {
   "cell_type": "code",
   "execution_count": 100,
   "id": "404d8437",
   "metadata": {},
   "outputs": [
    {
     "name": "stderr",
     "output_type": "stream",
     "text": [
      "\u001b[34m\u001b[1mwandb\u001b[0m: \u001b[33mWARNING\u001b[0m Calling wandb.login() after wandb.init() has no effect.\n"
     ]
    },
    {
     "data": {
      "text/html": [
       "Finishing previous runs because reinit is set to 'default'."
      ],
      "text/plain": [
       "<IPython.core.display.HTML object>"
      ]
     },
     "metadata": {},
     "output_type": "display_data"
    },
    {
     "data": {
      "text/html": [],
      "text/plain": [
       "<IPython.core.display.HTML object>"
      ]
     },
     "metadata": {},
     "output_type": "display_data"
    },
    {
     "data": {
      "text/html": [
       " View run <strong style=\"color:#cdcd00\">ruby-sunset-44</strong> at: <a href='https://wandb.ai/mercykirwa24-self/sentiment_analysis_distilbert/runs/k0dverms' target=\"_blank\">https://wandb.ai/mercykirwa24-self/sentiment_analysis_distilbert/runs/k0dverms</a><br> View project at: <a href='https://wandb.ai/mercykirwa24-self/sentiment_analysis_distilbert' target=\"_blank\">https://wandb.ai/mercykirwa24-self/sentiment_analysis_distilbert</a><br>Synced 5 W&B file(s), 1 media file(s), 0 artifact file(s) and 0 other file(s)"
      ],
      "text/plain": [
       "<IPython.core.display.HTML object>"
      ]
     },
     "metadata": {},
     "output_type": "display_data"
    },
    {
     "data": {
      "text/html": [
       "Find logs at: <code>.\\wandb\\run-20251018_222943-k0dverms\\logs</code>"
      ],
      "text/plain": [
       "<IPython.core.display.HTML object>"
      ]
     },
     "metadata": {},
     "output_type": "display_data"
    },
    {
     "data": {
      "text/html": [],
      "text/plain": [
       "<IPython.core.display.HTML object>"
      ]
     },
     "metadata": {},
     "output_type": "display_data"
    },
    {
     "data": {
      "text/html": [
       "Tracking run with wandb version 0.22.2"
      ],
      "text/plain": [
       "<IPython.core.display.HTML object>"
      ]
     },
     "metadata": {},
     "output_type": "display_data"
    },
    {
     "data": {
      "text/html": [
       "Run data is saved locally in <code>c:\\Users\\USER\\Desktop\\Phase_4\\NLP-Project\\wandb\\run-20251018_223616-j0mg8xkm</code>"
      ],
      "text/plain": [
       "<IPython.core.display.HTML object>"
      ]
     },
     "metadata": {},
     "output_type": "display_data"
    },
    {
     "data": {
      "text/html": [
       "Syncing run <strong><a href='https://wandb.ai/mercykirwa24-self/sentiment_analysis_distilbert/runs/j0mg8xkm' target=\"_blank\">comic-sponge-45</a></strong> to <a href='https://wandb.ai/mercykirwa24-self/sentiment_analysis_distilbert' target=\"_blank\">Weights & Biases</a> (<a href='https://wandb.me/developer-guide' target=\"_blank\">docs</a>)<br>"
      ],
      "text/plain": [
       "<IPython.core.display.HTML object>"
      ]
     },
     "metadata": {},
     "output_type": "display_data"
    },
    {
     "data": {
      "text/html": [
       " View project at <a href='https://wandb.ai/mercykirwa24-self/sentiment_analysis_distilbert' target=\"_blank\">https://wandb.ai/mercykirwa24-self/sentiment_analysis_distilbert</a>"
      ],
      "text/plain": [
       "<IPython.core.display.HTML object>"
      ]
     },
     "metadata": {},
     "output_type": "display_data"
    },
    {
     "data": {
      "text/html": [
       " View run at <a href='https://wandb.ai/mercykirwa24-self/sentiment_analysis_distilbert/runs/j0mg8xkm' target=\"_blank\">https://wandb.ai/mercykirwa24-self/sentiment_analysis_distilbert/runs/j0mg8xkm</a>"
      ],
      "text/plain": [
       "<IPython.core.display.HTML object>"
      ]
     },
     "metadata": {},
     "output_type": "display_data"
    }
   ],
   "source": [
    "#initialize WandB\n",
    "wandb.login()\n",
    "\n",
    "config={\n",
    "\t\t\"model_name\": \"distilbert-base-uncased\",\n",
    "    \"epochs\":2,\n",
    "\t\t\"batch_size\":16,\n",
    "\t\t\"learning_rate\":2e-5,\n",
    "\t\t\"max_len\": 160,\n",
    "\t\t\"weight_decay\":0.01\n",
    "\t}\n",
    "\n",
    "wandb.init(project=\"sentiment_analysis_distilbert\", config=config)\n",
    "config = wandb.config"
   ]
  },
  {
   "cell_type": "code",
   "execution_count": 102,
   "id": "3f266b4c",
   "metadata": {},
   "outputs": [
    {
     "name": "stderr",
     "output_type": "stream",
     "text": [
      "Epoch 1:   0%|          | 0/444 [00:00<?, ?it/s]"
     ]
    },
    {
     "name": "stderr",
     "output_type": "stream",
     "text": [
      "Epoch 1: 100%|██████████| 444/444 [2:15:56<00:00, 18.37s/it, loss=0.6179110209258755]       \n"
     ]
    },
    {
     "name": "stdout",
     "output_type": "stream",
     "text": [
      "Epoch 1/2 | Train loss: 0.6193\n"
     ]
    },
    {
     "name": "stderr",
     "output_type": "stream",
     "text": [
      "Epoch 2: 100%|██████████| 444/444 [55:16<00:00,  7.47s/it, loss=0.39071483146608543]"
     ]
    },
    {
     "name": "stdout",
     "output_type": "stream",
     "text": [
      "Epoch 2/2 | Train loss: 0.3916\n"
     ]
    },
    {
     "name": "stderr",
     "output_type": "stream",
     "text": [
      "\n"
     ]
    }
   ],
   "source": [
    "#training loop\n",
    "for epoch in range(epochs):\n",
    "    model.train()\n",
    "    train_loss = 0.0\n",
    "    progress_bar = tqdm(train_loader, desc=f\"Epoch {epoch+1}\")\n",
    "    for batch in progress_bar:\n",
    "            optimizer.zero_grad()\n",
    "            input_ids = batch[\"input_ids\"].to(device)\n",
    "            attention_mask = batch[\"attention_mask\"].to(device)\n",
    "            labels = batch[\"labels\"].to(device)\n",
    "                   \n",
    "            outputs = model(input_ids, attention_mask=attention_mask, labels=labels)\n",
    "            logits = outputs.logits\n",
    "            loss = loss_fn(logits, labels)\n",
    "            \n",
    "            loss.backward()\n",
    "            torch.nn.utils.clip_grad_norm_(model.parameters(), max_norm=1.0)\n",
    "            optimizer.step()\n",
    "            scheduler.step()\n",
    "            \n",
    "            train_loss += loss.item()\n",
    "            avg_loss = train_loss / (len(progress_bar) + 1)\n",
    "            progress_bar.set_postfix({\"loss\": f\"{avg_loss}\"})\n",
    "    print(f\"Epoch {epoch+1}/{epochs} | Train loss: {train_loss/len(train_loader):.4f}\")"
   ]
  },
  {
   "cell_type": "code",
   "execution_count": 103,
   "id": "396e52b9",
   "metadata": {},
   "outputs": [
    {
     "name": "stdout",
     "output_type": "stream",
     "text": [
      "Final Multiclass Metrics\n",
      "Accuracy: 0.6525900900900901\n",
      "Precision: 0.6665049812276667\n",
      "Recall: 0.7098684259363282\n",
      "F1-score (macro): 0.6685504641784042\n",
      "              precision    recall  f1-score   support\n",
      "\n",
      "    Negative       0.65      0.81      0.72       227\n",
      "     Neutral       0.80      0.53      0.64       957\n",
      "    Positive       0.54      0.79      0.64       592\n",
      "\n",
      "    accuracy                           0.65      1776\n",
      "   macro avg       0.67      0.71      0.67      1776\n",
      "weighted avg       0.70      0.65      0.65      1776\n",
      "\n"
     ]
    }
   ],
   "source": [
    "# evaluation\n",
    "model.eval()\n",
    "preds, labels_all, probs_all, logits_all = [], [], [], []\n",
    "\n",
    "with torch.no_grad():\n",
    "    for batch in test_loader:\n",
    "        input_ids = batch[\"input_ids\"].to(device)\n",
    "        attention_mask = batch[\"attention_mask\"].to(device)\n",
    "        labels = batch[\"labels\"].to(device)\n",
    "        \n",
    "        outputs = model(input_ids, attention_mask=attention_mask)\n",
    "        logits = outputs.logits\n",
    "        probs = torch.softmax(logits, dim=1)\n",
    "        \n",
    "        preds.extend(torch.argmax(logits, dim=1).cpu().numpy())\n",
    "        probs_all.extend(probs.cpu().numpy())\n",
    "        logits_all.append(logits.cpu())\n",
    "        labels_all.extend(labels.cpu().numpy())\n",
    "        \n",
    "logits_all = torch.cat(logits_all)\n",
    "        \n",
    "# Evaluation Metrics\n",
    "print(\"Final Multiclass Metrics\")\n",
    "print(\"Accuracy:\", accuracy_score(labels_all, preds))\n",
    "print(\"Precision:\", precision_score(labels_all, preds, average=\"macro\"))\n",
    "print(\"Recall:\", recall_score(labels_all, preds, average=\"macro\"))\n",
    "print(\"F1-score (macro):\", f1_score(labels_all, preds, average=\"macro\"))\n",
    "print(classification_report(labels_all, preds, target_names=[\"Negative\", \"Neutral\", \"Positive\"]))"
   ]
  },
  {
   "cell_type": "code",
   "execution_count": 104,
   "id": "e0ad2203",
   "metadata": {},
   "outputs": [],
   "source": [
    "wandb.log({\n",
    "    \"accuracy\": accuracy_score(labels_all, preds), \n",
    "    \"precision_macro\": precision_score(labels_all, preds, average=\"macro\"),\n",
    "    \"recall\": recall_score(labels_all, preds, average=\"macro\"),\n",
    "    \"F1_macro\": f1_score(labels_all, preds, average=\"macro\"),\n",
    "})"
   ]
  },
  {
   "cell_type": "code",
   "execution_count": 105,
   "id": "c99012bd",
   "metadata": {},
   "outputs": [
    {
     "data": {
      "text/html": [
       "Finishing previous runs because reinit is set to 'default'."
      ],
      "text/plain": [
       "<IPython.core.display.HTML object>"
      ]
     },
     "metadata": {},
     "output_type": "display_data"
    },
    {
     "data": {
      "text/html": [],
      "text/plain": [
       "<IPython.core.display.HTML object>"
      ]
     },
     "metadata": {},
     "output_type": "display_data"
    },
    {
     "data": {
      "text/html": [
       "<br>    <style><br>        .wandb-row {<br>            display: flex;<br>            flex-direction: row;<br>            flex-wrap: wrap;<br>            justify-content: flex-start;<br>            width: 100%;<br>        }<br>        .wandb-col {<br>            display: flex;<br>            flex-direction: column;<br>            flex-basis: 100%;<br>            flex: 1;<br>            padding: 10px;<br>        }<br>    </style><br><div class=\"wandb-row\"><div class=\"wandb-col\"><h3>Run history:</h3><br/><table class=\"wandb\"><tr><td>F1_macro</td><td>▁</td></tr><tr><td>accuracy</td><td>▁</td></tr><tr><td>precision_macro</td><td>▁</td></tr><tr><td>recall</td><td>▁</td></tr></table><br/></div><div class=\"wandb-col\"><h3>Run summary:</h3><br/><table class=\"wandb\"><tr><td>F1_macro</td><td>0.66855</td></tr><tr><td>accuracy</td><td>0.65259</td></tr><tr><td>precision_macro</td><td>0.6665</td></tr><tr><td>recall</td><td>0.70987</td></tr></table><br/></div></div>"
      ],
      "text/plain": [
       "<IPython.core.display.HTML object>"
      ]
     },
     "metadata": {},
     "output_type": "display_data"
    },
    {
     "data": {
      "text/html": [
       " View run <strong style=\"color:#cdcd00\">comic-sponge-45</strong> at: <a href='https://wandb.ai/mercykirwa24-self/sentiment_analysis_distilbert/runs/j0mg8xkm' target=\"_blank\">https://wandb.ai/mercykirwa24-self/sentiment_analysis_distilbert/runs/j0mg8xkm</a><br> View project at: <a href='https://wandb.ai/mercykirwa24-self/sentiment_analysis_distilbert' target=\"_blank\">https://wandb.ai/mercykirwa24-self/sentiment_analysis_distilbert</a><br>Synced 5 W&B file(s), 0 media file(s), 0 artifact file(s) and 0 other file(s)"
      ],
      "text/plain": [
       "<IPython.core.display.HTML object>"
      ]
     },
     "metadata": {},
     "output_type": "display_data"
    },
    {
     "data": {
      "text/html": [
       "Find logs at: <code>.\\wandb\\run-20251018_223616-j0mg8xkm\\logs</code>"
      ],
      "text/plain": [
       "<IPython.core.display.HTML object>"
      ]
     },
     "metadata": {},
     "output_type": "display_data"
    },
    {
     "data": {
      "text/html": [],
      "text/plain": [
       "<IPython.core.display.HTML object>"
      ]
     },
     "metadata": {},
     "output_type": "display_data"
    },
    {
     "data": {
      "text/html": [
       "Tracking run with wandb version 0.22.2"
      ],
      "text/plain": [
       "<IPython.core.display.HTML object>"
      ]
     },
     "metadata": {},
     "output_type": "display_data"
    },
    {
     "data": {
      "text/html": [
       "Run data is saved locally in <code>c:\\Users\\USER\\Desktop\\Phase_4\\NLP-Project\\wandb\\run-20251019_020859-a5bu9ctd</code>"
      ],
      "text/plain": [
       "<IPython.core.display.HTML object>"
      ]
     },
     "metadata": {},
     "output_type": "display_data"
    },
    {
     "data": {
      "text/html": [
       "Syncing run <strong><a href='https://wandb.ai/mercykirwa24-self/sentiment_analysis_distilbert/runs/a5bu9ctd' target=\"_blank\">young-blaze-46</a></strong> to <a href='https://wandb.ai/mercykirwa24-self/sentiment_analysis_distilbert' target=\"_blank\">Weights & Biases</a> (<a href='https://wandb.me/developer-guide' target=\"_blank\">docs</a>)<br>"
      ],
      "text/plain": [
       "<IPython.core.display.HTML object>"
      ]
     },
     "metadata": {},
     "output_type": "display_data"
    },
    {
     "data": {
      "text/html": [
       " View project at <a href='https://wandb.ai/mercykirwa24-self/sentiment_analysis_distilbert' target=\"_blank\">https://wandb.ai/mercykirwa24-self/sentiment_analysis_distilbert</a>"
      ],
      "text/plain": [
       "<IPython.core.display.HTML object>"
      ]
     },
     "metadata": {},
     "output_type": "display_data"
    },
    {
     "data": {
      "text/html": [
       " View run at <a href='https://wandb.ai/mercykirwa24-self/sentiment_analysis_distilbert/runs/a5bu9ctd' target=\"_blank\">https://wandb.ai/mercykirwa24-self/sentiment_analysis_distilbert/runs/a5bu9ctd</a>"
      ],
      "text/plain": [
       "<IPython.core.display.HTML object>"
      ]
     },
     "metadata": {},
     "output_type": "display_data"
    },
    {
     "data": {
      "image/png": "[encoded data removed]",
      "text/plain": [
       "<Figure size 500x400 with 2 Axes>"
      ]
     },
     "metadata": {},
     "output_type": "display_data"
    }
   ],
   "source": [
    "#visualize confusion matrix\n",
    "wandb.init(\n",
    "    project=\"sentiment_analysis_distilbert\",\n",
    "    config={\n",
    "        \"model_name\": \"distilbert-base-uncased\",\n",
    "        \"epochs\": 2,\n",
    "        \"batch_size\": 16,\n",
    "        \"learning_rate\": 2e-5,\n",
    "        \"max_len\": 160,\n",
    "        \"weight_decay\": 0.01\n",
    "    }\n",
    ")\n",
    "cm = confusion_matrix(labels_all, preds)\n",
    "plt.figure(figsize=(5,4))\n",
    "sns.heatmap(cm, annot=True, fmt=\"d\", cmap=\"Blues\", xticklabels=[\"Negative\",\"Neutral\", \"Positive\"], yticklabels=[\"Negative\", \"Neutral\", \"Positive\"])\n",
    "plt.xlabel(\"Predicted\")\n",
    "plt.ylabel(\"True\")\n",
    "plt.title(\"Confusion Matrix\")\n",
    "plt.tight_layout()\n",
    "wandb.log({\"confusion_matrix\": wandb.Image(plt.gcf())})\n",
    "plt.show()\n",
    "plt.close()"
   ]
  },
  {
   "cell_type": "code",
   "execution_count": 106,
   "id": "f8bc5aa0",
   "metadata": {},
   "outputs": [
    {
     "data": {
      "text/html": [
       "Finishing previous runs because reinit is set to 'default'."
      ],
      "text/plain": [
       "<IPython.core.display.HTML object>"
      ]
     },
     "metadata": {},
     "output_type": "display_data"
    },
    {
     "data": {
      "text/html": [],
      "text/plain": [
       "<IPython.core.display.HTML object>"
      ]
     },
     "metadata": {},
     "output_type": "display_data"
    },
    {
     "data": {
      "text/html": [
       " View run <strong style=\"color:#cdcd00\">young-blaze-46</strong> at: <a href='https://wandb.ai/mercykirwa24-self/sentiment_analysis_distilbert/runs/a5bu9ctd' target=\"_blank\">https://wandb.ai/mercykirwa24-self/sentiment_analysis_distilbert/runs/a5bu9ctd</a><br> View project at: <a href='https://wandb.ai/mercykirwa24-self/sentiment_analysis_distilbert' target=\"_blank\">https://wandb.ai/mercykirwa24-self/sentiment_analysis_distilbert</a><br>Synced 5 W&B file(s), 1 media file(s), 0 artifact file(s) and 0 other file(s)"
      ],
      "text/plain": [
       "<IPython.core.display.HTML object>"
      ]
     },
     "metadata": {},
     "output_type": "display_data"
    },
    {
     "data": {
      "text/html": [
       "Find logs at: <code>.\\wandb\\run-20251019_020859-a5bu9ctd\\logs</code>"
      ],
      "text/plain": [
       "<IPython.core.display.HTML object>"
      ]
     },
     "metadata": {},
     "output_type": "display_data"
    },
    {
     "data": {
      "text/html": [],
      "text/plain": [
       "<IPython.core.display.HTML object>"
      ]
     },
     "metadata": {},
     "output_type": "display_data"
    },
    {
     "data": {
      "text/html": [
       "Tracking run with wandb version 0.22.2"
      ],
      "text/plain": [
       "<IPython.core.display.HTML object>"
      ]
     },
     "metadata": {},
     "output_type": "display_data"
    },
    {
     "data": {
      "text/html": [
       "Run data is saved locally in <code>c:\\Users\\USER\\Desktop\\Phase_4\\NLP-Project\\wandb\\run-20251019_020914-uaz4ruqn</code>"
      ],
      "text/plain": [
       "<IPython.core.display.HTML object>"
      ]
     },
     "metadata": {},
     "output_type": "display_data"
    },
    {
     "data": {
      "text/html": [
       "Syncing run <strong><a href='https://wandb.ai/mercykirwa24-self/sentiment_analysis_distilbert/runs/uaz4ruqn' target=\"_blank\">mild-field-47</a></strong> to <a href='https://wandb.ai/mercykirwa24-self/sentiment_analysis_distilbert' target=\"_blank\">Weights & Biases</a> (<a href='https://wandb.me/developer-guide' target=\"_blank\">docs</a>)<br>"
      ],
      "text/plain": [
       "<IPython.core.display.HTML object>"
      ]
     },
     "metadata": {},
     "output_type": "display_data"
    },
    {
     "data": {
      "text/html": [
       " View project at <a href='https://wandb.ai/mercykirwa24-self/sentiment_analysis_distilbert' target=\"_blank\">https://wandb.ai/mercykirwa24-self/sentiment_analysis_distilbert</a>"
      ],
      "text/plain": [
       "<IPython.core.display.HTML object>"
      ]
     },
     "metadata": {},
     "output_type": "display_data"
    },
    {
     "data": {
      "text/html": [
       " View run at <a href='https://wandb.ai/mercykirwa24-self/sentiment_analysis_distilbert/runs/uaz4ruqn' target=\"_blank\">https://wandb.ai/mercykirwa24-self/sentiment_analysis_distilbert/runs/uaz4ruqn</a>"
      ],
      "text/plain": [
       "<IPython.core.display.HTML object>"
      ]
     },
     "metadata": {},
     "output_type": "display_data"
    },
    {
     "data": {
      "image/png": "[encoded data removed]",
      "text/plain": [
       "<Figure size 700x600 with 1 Axes>"
      ]
     },
     "metadata": {},
     "output_type": "display_data"
    }
   ],
   "source": [
    "#visualize roc-auc\n",
    "wandb.init(\n",
    "    project=\"sentiment_analysis_distilbert\",\n",
    "    config={\n",
    "        \"model_name\": \"distilbert-base-uncased\",\n",
    "        \"epochs\": 2,\n",
    "        \"batch_size\": 16,\n",
    "        \"learning_rate\": 2e-5,\n",
    "        \"max_len\": 160,\n",
    "        \"weight_decay\": 0.01\n",
    "    }\n",
    ")\n",
    "\n",
    "classes = [0, 1, 2]\n",
    "y_true_bin = label_binarize(labels_all, classes=classes)\n",
    "probs_all = np.array(probs_all)\n",
    "\n",
    "plt.figure(figsize=(7,6))\n",
    "for i, cls in enumerate(classes):\n",
    "    fpr, tpr, _ =roc_curve(y_true_bin[:, i], probs_all[:, i])\n",
    "    roc_auc = auc(fpr, tpr)\n",
    "    plt.plot(fpr, tpr, lw=2, label=f\"{cls} (AUC = {roc_auc:.2f})\")\n",
    "\n",
    "plt.plot([0,1], [0,1], color=\"navy\", linestyle=\"--\", lw=2)\n",
    "plt.xlabel(\"False Positive Rate\")\n",
    "plt.ylabel(\"True Positive Rate\")\n",
    "plt.title(\"Multiclass ROC Curve\")\n",
    "plt.legend(loc=\"lower right\")\n",
    "plt.tight_layout()\n",
    "wandb.log({\"confusion_matrix\": wandb.Image(plt.gcf())})\n",
    "plt.show()\n",
    "plt.close()"
   ]
  },
  {
   "cell_type": "code",
   "execution_count": 107,
   "id": "7223e5b8",
   "metadata": {},
   "outputs": [],
   "source": [
    "model_path_multi = \"saved_models/multiclass_distilbert\"\n",
    "model_multi = DistilBertForSequenceClassification.from_pretrained(model_path_multi)\n",
    "tokenizer_multi = DistilBertTokenizer.from_pretrained(model_path_multi)\n"
   ]
  },
  {
   "cell_type": "markdown",
   "id": "035b4fa8",
   "metadata": {},
   "source": [
    "## Evaluation"
   ]
  },
  {
   "attachments": {
    "image-2.png": {
     "image/png": "[encoded data removed]"
    }
   },
   "cell_type": "markdown",
   "id": "2f8e417b",
   "metadata": {},
   "source": [
    "**Comparing Binary and Multiclass DistilBERT model**\n",
    "\n",
    "![image-2.png](attachment:image-2.png)\n",
    "\n",
    "- **Binary model** shows a strong recall for Negative tweets(0.90) which is excellent for identifying  as it aligns with our objective of catchimg critical negative sentiments.\n",
    "- There is a slight drop in Positive recall(0.81), but overall class balance remain solid.\n",
    "- The Binary model achieves higher overall accuracy and F1 compared to multiclass model, confirming its superior realibility.\n",
    "- **Multiclass model** records a Negative recall drop slightly to 0.82 which is still decent but not as strong as binary version.\n",
    "- Neutral tweets remain the most challenging to classify, recall at only 0.58 indicating semantic overlap with other classes.\n",
    "- Overall accuracy is much lower at 0.66 showing increased misclassifications due to added complexity of three sentiment categories.\n",
    "\n",
    "**Binary model** is better aligned with our stakeholder needs, reliably detecting Negative tweets to flag potential issues or dissatisfaction.\n",
    "\n",
    "**Multiclass model** provides contextual insights by distinguishing Neutral sentiment, but performance is constraint by class imbalance and limited data.\n",
    "\n",
    "### **Final Recommendations**\n",
    "\n",
    "Since the primary objective is to maximize detection of Negative tweets, which is serves as critical alert for distributors or product analyst, binary sentimentbmodel is currently the best choice for deployment.\n",
    "\n",
    "The multiclass model provides valuable context for trend visualization across all sentiment categories, but should not replace the binary model for alerting purposes. It will compliment the binary model by offering insights into overall brand sentiment dynamics\n",
    "\n",
    "### **Next Steps** \n",
    "1. Deploy the binary model using Streamlit dashboard with the folowing features:\n",
    "- Binary alerts to highlight red flags for Negative tweets.\n",
    "- Multiclass insights to visualize brand-level sentiment trends from the multiclass predictions.\n",
    "- Filters to allow users to filter by brand(Apple/Google), date or product.\n",
    "\n",
    "2. Implement WandB monitoring to track metrics such as class-wise precision, recall, F1 over time, helping to detect model drift\n",
    "\n",
    "3. Establish a retraining plan::\n",
    "- Schedule retraining monthly or quaterly to ensure model performance for minority classes like Negative tweets.\n",
    "- Incoporates new human-annoted data to improve detection and maintain high recall on critical alerts."
   ]
  },
  {
   "cell_type": "markdown",
   "id": "1e78af57",
   "metadata": {},
   "source": [
    "## Deployment"
   ]
  },
  {
   "cell_type": "code",
   "execution_count": 108,
   "id": "e1c0fcbb",
   "metadata": {},
   "outputs": [
    {
     "data": {
      "text/plain": [
       "DistilBertForSequenceClassification(\n",
       "  (distilbert): DistilBertModel(\n",
       "    (embeddings): Embeddings(\n",
       "      (word_embeddings): Embedding(30522, 768, padding_idx=0)\n",
       "      (position_embeddings): Embedding(512, 768)\n",
       "      (LayerNorm): LayerNorm((768,), eps=1e-12, elementwise_affine=True)\n",
       "      (dropout): Dropout(p=0.1, inplace=False)\n",
       "    )\n",
       "    (transformer): Transformer(\n",
       "      (layer): ModuleList(\n",
       "        (0-5): 6 x TransformerBlock(\n",
       "          (attention): DistilBertSdpaAttention(\n",
       "            (dropout): Dropout(p=0.1, inplace=False)\n",
       "            (q_lin): Linear(in_features=768, out_features=768, bias=True)\n",
       "            (k_lin): Linear(in_features=768, out_features=768, bias=True)\n",
       "            (v_lin): Linear(in_features=768, out_features=768, bias=True)\n",
       "            (out_lin): Linear(in_features=768, out_features=768, bias=True)\n",
       "          )\n",
       "          (sa_layer_norm): LayerNorm((768,), eps=1e-12, elementwise_affine=True)\n",
       "          (ffn): FFN(\n",
       "            (dropout): Dropout(p=0.1, inplace=False)\n",
       "            (lin1): Linear(in_features=768, out_features=3072, bias=True)\n",
       "            (lin2): Linear(in_features=3072, out_features=768, bias=True)\n",
       "            (activation): GELUActivation()\n",
       "          )\n",
       "          (output_layer_norm): LayerNorm((768,), eps=1e-12, elementwise_affine=True)\n",
       "        )\n",
       "      )\n",
       "    )\n",
       "  )\n",
       "  (pre_classifier): Linear(in_features=768, out_features=768, bias=True)\n",
       "  (classifier): Linear(in_features=768, out_features=2, bias=True)\n",
       "  (dropout): Dropout(p=0.2, inplace=False)\n",
       ")"
      ]
     },
     "execution_count": 108,
     "metadata": {},
     "output_type": "execute_result"
    }
   ],
   "source": [
    "# Streamlit Deployment Skeleton\n",
    "# load model and tokenizer\n",
    "MODEL_PATH = \"saved_models/binary_distilbert\"\n",
    "tokenizer = DistilBertTokenizer.from_pretrained(MODEL_PATH)\n",
    "model = DistilBertForSequenceClassification.from_pretrained(MODEL_PATH)\n",
    "device = torch.device(\"cuda\" if torch.cuda.is_available() else \"cpu\")\n",
    "model.to(device)\n",
    "model.eval()\n",
    "\n",
    "MODEL_PATH_MULTI = \"saved_models/multiclass_distilbert\"\n",
    "tokenizer_multi = DistilBertTokenizer.from_pretrained(MODEL_PATH_MULTI)\n",
    "model_multi = DistilBertForSequenceClassification.from_pretrained(MODEL_PATH_MULTI)\n",
    "device_multi = torch.device(\"cuda\" if torch.cuda.is_available() else \"cpu\")\n",
    "model_multi.to(device_multi)\n",
    "model_multi.eval()"
   ]
  },
  {
   "cell_type": "code",
   "execution_count": 109,
   "id": "3efb0cd2",
   "metadata": {},
   "outputs": [
    {
     "data": {
      "text/html": [
       "Finishing previous runs because reinit is set to 'default'."
      ],
      "text/plain": [
       "<IPython.core.display.HTML object>"
      ]
     },
     "metadata": {},
     "output_type": "display_data"
    },
    {
     "data": {
      "text/html": [],
      "text/plain": [
       "<IPython.core.display.HTML object>"
      ]
     },
     "metadata": {},
     "output_type": "display_data"
    },
    {
     "data": {
      "text/html": [
       " View run <strong style=\"color:#cdcd00\">mild-field-47</strong> at: <a href='https://wandb.ai/mercykirwa24-self/sentiment_analysis_distilbert/runs/uaz4ruqn' target=\"_blank\">https://wandb.ai/mercykirwa24-self/sentiment_analysis_distilbert/runs/uaz4ruqn</a><br> View project at: <a href='https://wandb.ai/mercykirwa24-self/sentiment_analysis_distilbert' target=\"_blank\">https://wandb.ai/mercykirwa24-self/sentiment_analysis_distilbert</a><br>Synced 5 W&B file(s), 1 media file(s), 0 artifact file(s) and 0 other file(s)"
      ],
      "text/plain": [
       "<IPython.core.display.HTML object>"
      ]
     },
     "metadata": {},
     "output_type": "display_data"
    },
    {
     "data": {
      "text/html": [
       "Find logs at: <code>.\\wandb\\run-20251019_020914-uaz4ruqn\\logs</code>"
      ],
      "text/plain": [
       "<IPython.core.display.HTML object>"
      ]
     },
     "metadata": {},
     "output_type": "display_data"
    },
    {
     "data": {
      "text/html": [],
      "text/plain": [
       "<IPython.core.display.HTML object>"
      ]
     },
     "metadata": {},
     "output_type": "display_data"
    },
    {
     "data": {
      "text/html": [
       "Tracking run with wandb version 0.22.2"
      ],
      "text/plain": [
       "<IPython.core.display.HTML object>"
      ]
     },
     "metadata": {},
     "output_type": "display_data"
    },
    {
     "data": {
      "text/html": [
       "Run data is saved locally in <code>c:\\Users\\USER\\Desktop\\Phase_4\\NLP-Project\\wandb\\run-20251019_020942-o5j467mt</code>"
      ],
      "text/plain": [
       "<IPython.core.display.HTML object>"
      ]
     },
     "metadata": {},
     "output_type": "display_data"
    },
    {
     "data": {
      "text/html": [
       "Syncing run <strong><a href='https://wandb.ai/mercykirwa24-self/sentiment_analysis_distilbert/runs/o5j467mt' target=\"_blank\">streamlit_inference</a></strong> to <a href='https://wandb.ai/mercykirwa24-self/sentiment_analysis_distilbert' target=\"_blank\">Weights & Biases</a> (<a href='https://wandb.me/developer-guide' target=\"_blank\">docs</a>)<br>"
      ],
      "text/plain": [
       "<IPython.core.display.HTML object>"
      ]
     },
     "metadata": {},
     "output_type": "display_data"
    },
    {
     "data": {
      "text/html": [
       " View project at <a href='https://wandb.ai/mercykirwa24-self/sentiment_analysis_distilbert' target=\"_blank\">https://wandb.ai/mercykirwa24-self/sentiment_analysis_distilbert</a>"
      ],
      "text/plain": [
       "<IPython.core.display.HTML object>"
      ]
     },
     "metadata": {},
     "output_type": "display_data"
    },
    {
     "data": {
      "text/html": [
       " View run at <a href='https://wandb.ai/mercykirwa24-self/sentiment_analysis_distilbert/runs/o5j467mt' target=\"_blank\">https://wandb.ai/mercykirwa24-self/sentiment_analysis_distilbert/runs/o5j467mt</a>"
      ],
      "text/plain": [
       "<IPython.core.display.HTML object>"
      ]
     },
     "metadata": {},
     "output_type": "display_data"
    },
    {
     "data": {
      "text/html": [
       "<button onClick=\"this.nextSibling.style.display='block';this.style.display='none';\">Display W&B run</button><iframe src='https://wandb.ai/mercykirwa24-self/sentiment_analysis_distilbert/runs/o5j467mt?jupyter=true' style='border:none;width:100%;height:420px;display:none;'></iframe>"
      ],
      "text/plain": [
       "<wandb.sdk.wandb_run.Run at 0x1c808270430>"
      ]
     },
     "execution_count": 109,
     "metadata": {},
     "output_type": "execute_result"
    }
   ],
   "source": [
    "# wandb init for monitoring\n",
    "wandb.init(\n",
    "    project=\"sentiment_analysis_distilbert\",\n",
    "    name=\"streamlit_inference\", \n",
    "    config={\n",
    "        \"binary_model_path\": MODEL_PATH,\n",
    "        \"multiclass_model_path\": MODEL_PATH_MULTI,\n",
    "        \"batch_size\": 16,\n",
    "        \"max_len\": 160\n",
    "\t\t}\n",
    ")"
   ]
  },
  {
   "cell_type": "code",
   "execution_count": 110,
   "id": "6daf6b58",
   "metadata": {},
   "outputs": [
    {
     "name": "stderr",
     "output_type": "stream",
     "text": [
      "2025-10-19 02:09:51.314 WARNING streamlit.runtime.scriptrunner_utils.script_run_context: Thread 'MainThread': missing ScriptRunContext! This warning can be ignored when running in bare mode.\n",
      "2025-10-19 02:09:51.697 \n",
      "  \u001b[33m\u001b[1mWarning:\u001b[0m to view this Streamlit app on a browser, run it with the following\n",
      "  command:\n",
      "\n",
      "    streamlit run c:\\Users\\USER\\anaconda3\\envs\\sentiment_env\\lib\\site-packages\\ipykernel_launcher.py [ARGUMENTS]\n",
      "2025-10-19 02:09:51.704 Thread 'MainThread': missing ScriptRunContext! This warning can be ignored when running in bare mode.\n",
      "2025-10-19 02:09:51.708 Thread 'MainThread': missing ScriptRunContext! This warning can be ignored when running in bare mode.\n",
      "2025-10-19 02:09:51.710 Thread 'MainThread': missing ScriptRunContext! This warning can be ignored when running in bare mode.\n",
      "2025-10-19 02:09:51.713 Thread 'MainThread': missing ScriptRunContext! This warning can be ignored when running in bare mode.\n",
      "2025-10-19 02:09:51.715 Thread 'MainThread': missing ScriptRunContext! This warning can be ignored when running in bare mode.\n",
      "2025-10-19 02:09:51.721 Thread 'MainThread': missing ScriptRunContext! This warning can be ignored when running in bare mode.\n",
      "2025-10-19 02:09:51.723 Thread 'MainThread': missing ScriptRunContext! This warning can be ignored when running in bare mode.\n",
      "2025-10-19 02:09:51.726 Thread 'MainThread': missing ScriptRunContext! This warning can be ignored when running in bare mode.\n",
      "2025-10-19 02:09:51.730 Thread 'MainThread': missing ScriptRunContext! This warning can be ignored when running in bare mode.\n",
      "2025-10-19 02:09:51.734 Thread 'MainThread': missing ScriptRunContext! This warning can be ignored when running in bare mode.\n",
      "2025-10-19 02:09:51.738 Thread 'MainThread': missing ScriptRunContext! This warning can be ignored when running in bare mode.\n",
      "2025-10-19 02:09:51.741 Thread 'MainThread': missing ScriptRunContext! This warning can be ignored when running in bare mode.\n",
      "2025-10-19 02:09:51.743 Session state does not function when running a script without `streamlit run`\n",
      "2025-10-19 02:09:51.746 Thread 'MainThread': missing ScriptRunContext! This warning can be ignored when running in bare mode.\n",
      "2025-10-19 02:09:51.750 Thread 'MainThread': missing ScriptRunContext! This warning can be ignored when running in bare mode.\n",
      "2025-10-19 02:09:51.756 Thread 'MainThread': missing ScriptRunContext! This warning can be ignored when running in bare mode.\n"
     ]
    }
   ],
   "source": [
    "#sidebar for filters\n",
    "st.sidebar.header(\"Filters\")\n",
    "uploaded_file = st.sidebar.file_uploader(\"Upload CSV file with tweets\", type=[\"csv\"])\n",
    "selected_brand = st.sidebar.selectbox(\"Select Brand\", [\"All\", \"Apple\", \"Google\"])"
   ]
  },
  {
   "cell_type": "code",
   "execution_count": 111,
   "id": "d3dccc49",
   "metadata": {},
   "outputs": [],
   "source": [
    "# dataset for inference\n",
    "class TweetDataset(Dataset):\n",
    "    def __init__(self, texts, tokenizer, labels= None, max_len=160):\n",
    "        \"\"\"\n",
    "        Dataset class for tweets for inference or training.\n",
    "                \n",
    "        Args:\n",
    "        texts (list or pd.series): List of tweet texts.\n",
    "        tokenizer (PreTrainedTokenizer): Tokenizer for the model.\n",
    "        labels (list, optional): Optional labels for supervised. Defaults to None.\n",
    "        max_len (int, optional):; Max token length. Defaults to 160            \n",
    "       \"\"\"\n",
    "        self.texts = list(texts)\n",
    "        self.labels = list(labels) if labels is not None else [0]*len(texts)\n",
    "        self.tokenizer = tokenizer\n",
    "        self.max_len = max_len\n",
    "    def __len__(self):\n",
    "        return len(self.texts)\n",
    "    \n",
    "    def __getitem__(self, idx):\n",
    "        text = self.texts[idx]\n",
    "        label = self.labels[idx]\n",
    "        encoding = self.tokenizer(\n",
    "            text,\n",
    "            truncation=True,\n",
    "            padding=\"max_length\",\n",
    "            max_length=self.max_len,\n",
    "            return_tensors=\"pt\"\n",
    "\t\t\t\t)\n",
    "        item = {key: val.squeeze(0) for key, val in encoding.items()}\n",
    "        if self.labels is not None:\n",
    "            item[\"labels\"] = torch.tensor(self.labels[idx], dtype=torch.long)\n",
    "                \n",
    "        \n",
    "\n",
    "dataset = TweetDataset(df[\"text\"], tokenizer, max_len=160)\n",
    "loader = DataLoader(dataset, batch_size=16, shuffle=False)\n",
    "\n",
    "dataset_multi = TweetDataset(df[\"text\"], tokenizer_multi, max_len=160)\n",
    "loader_multi = DataLoader(dataset_multi, batch_size=16, shuffle=False)"
   ]
  },
  {
   "cell_type": "code",
   "execution_count": 112,
   "id": "a394ce32",
   "metadata": {},
   "outputs": [
    {
     "name": "stderr",
     "output_type": "stream",
     "text": [
      "2025-10-19 02:10:09.925 Thread 'MainThread': missing ScriptRunContext! This warning can be ignored when running in bare mode.\n",
      "2025-10-19 02:10:09.929 Thread 'MainThread': missing ScriptRunContext! This warning can be ignored when running in bare mode.\n",
      "2025-10-19 02:10:09.933 Thread 'MainThread': missing ScriptRunContext! This warning can be ignored when running in bare mode.\n",
      "2025-10-19 02:10:10.052 Thread 'MainThread': missing ScriptRunContext! This warning can be ignored when running in bare mode.\n",
      "2025-10-19 02:10:10.056 Thread 'MainThread': missing ScriptRunContext! This warning can be ignored when running in bare mode.\n",
      "2025-10-19 02:10:10.059 Thread 'MainThread': missing ScriptRunContext! This warning can be ignored when running in bare mode.\n"
     ]
    },
    {
     "data": {
      "text/plain": [
       "DeltaGenerator()"
      ]
     },
     "execution_count": 112,
     "metadata": {},
     "output_type": "execute_result"
    }
   ],
   "source": [
    "#main\n",
    "if uploaded_file:\n",
    "    df = pd.read_csv(uploaded_file)\n",
    "    \n",
    "    # check required columns\n",
    "    required_cols = [\"brand\", \"text\"]\n",
    "    missing_cols = [col for col in required_cols if col not in df.columns]\n",
    "    if missing_cols:\n",
    "         st.error(f\"Missing columns in uploaded file: {', '.join(missing_cols)}\")\n",
    "    else:\n",
    "        apple_products = [\"iPad\", \"Apple\", \"iPad or iPhone App\", \"iPhone\", \"Other Apple product or service\"]\n",
    "        google_products = [\"Google\", \"Other Google product or service\", \"Android\", \"Android App\"]\n",
    "        df[\"parent_brand\"] = df[\"brand\"].apply(\n",
    "                        lambda x: \"Apple\" if x in apple_products else (\"Google\" if x in google_products else \"Other\")\n",
    "                      )\n",
    "        df = df[df[\"parent_brand\"].isin([\"Apple\", \"Google\"])]\n",
    "        if selected_brand != \"All\":\n",
    "            df = df[df[\"parent_brand\"] == selected_brand]\n",
    "\n",
    "st.success(f\"Loaded {len(df)} tweets after filtering.\")\n",
    "st.dataframe(df.head(10))"
   ]
  },
  {
   "cell_type": "code",
   "execution_count": 113,
   "id": "1f3cac11",
   "metadata": {},
   "outputs": [
    {
     "name": "stdout",
     "output_type": "stream",
     "text": [
      "Using device: cpu\n"
     ]
    },
    {
     "name": "stderr",
     "output_type": "stream",
     "text": [
      "Generating Predictions: 504it [00:17, 28.51it/s]                         \n"
     ]
    }
   ],
   "source": [
    "# detect available device\n",
    "device = torch.device(\"cuda\" if torch.cuda.is_available() else \"cpu\")\n",
    "print(f\"Using device: {device}\")\n",
    "\n",
    "def predict_binary(text_list, batch_size=16):\n",
    "    preds_all, probs_neg_all = [], []\n",
    "    i = 0\n",
    "\n",
    "    \n",
    "    pbar = tqdm(total=len(text_list), desc=\"Generating Predictions\")\n",
    "\n",
    "    while i < len(text_list):\n",
    "        try:\n",
    "            \n",
    "            batch = text_list[i:i + batch_size]\n",
    "            model_inputs = tokenizer(\n",
    "                batch,\n",
    "                truncation=True,\n",
    "                padding=True,\n",
    "                max_length=160,\n",
    "                return_tensors=\"pt\"\n",
    "            )\n",
    "\n",
    "            input_ids = model_inputs[\"input_ids\"].to(device)\n",
    "            attention_mask = model_inputs[\"attention_mask\"].to(device)\n",
    "\n",
    "            with torch.no_grad():\n",
    "                outputs = model(input_ids, attention_mask=attention_mask)\n",
    "                logits = outputs.logits\n",
    "                probs = torch.softmax(logits, dim=1).cpu().numpy()\n",
    "                preds = np.argmax(probs, axis=1)\n",
    "                probs_neg = probs[:, 0]\n",
    "\n",
    "            preds_all.extend(preds)\n",
    "            probs_neg_all.extend(probs_neg)\n",
    "\n",
    "            i += batch_size\n",
    "            pbar.update(batch_size)\n",
    "\n",
    "        except RuntimeError as e:\n",
    "            \n",
    "            if \"out of memory\" in str(e):\n",
    "                torch.cuda.empty_cache()\n",
    "                batch_size = max(4, batch_size // 2)\n",
    "                print(f\" Out of memory — reducing batch size to {batch_size}\")\n",
    "            else:\n",
    "                raise e\n",
    "\n",
    "    pbar.close()\n",
    "    return np.array(preds_all), np.array(probs_neg_all)\n",
    "\n",
    "\n",
    "sample_size = 500\n",
    "preds_bin, probs_neg = predict_binary(df[\"text\"].tolist()[:sample_size], batch_size=8)"
   ]
  },
  {
   "cell_type": "code",
   "execution_count": 114,
   "id": "4f88f61d",
   "metadata": {},
   "outputs": [
    {
     "name": "stderr",
     "output_type": "stream",
     "text": [
      "Generating Predictions:   0%|          | 0/8311 [00:00<?, ?it/s]"
     ]
    },
    {
     "name": "stderr",
     "output_type": "stream",
     "text": [
      "Generating Predictions: 8320it [05:49, 23.80it/s]                          \n"
     ]
    }
   ],
   "source": [
    "\n",
    "preds_bin, probs_neg = predict_binary(df[\"text\"].tolist(), batch_size=16)\n",
    "\n",
    "df[\"pred_label\"] = preds_bin\n",
    "df[\"negative_prob\"] = probs_neg\n",
    "df[\"binary_sentiment\"] = df[\"pred_label\"].apply(lambda x: \"Negative\" if x == 0 else \"Positive\")"
   ]
  },
  {
   "cell_type": "code",
   "execution_count": 115,
   "id": "e7e392d8",
   "metadata": {},
   "outputs": [],
   "source": [
    "def predict_multiclass(texts, batch_size=8):\n",
    "    preds_all = []\n",
    "    for i in range(0, len(texts), batch_size):\n",
    "        batch_texts = texts[i:i + batch_size]\n",
    "\n",
    "     \n",
    "        enc = tokenizer_multi(\n",
    "            batch_texts,\n",
    "            truncation=True,\n",
    "            padding=True,\n",
    "            max_length=160,\n",
    "            return_tensors=\"pt\"\n",
    "        ).to(device_multi)\n",
    "\n",
    "        with torch.no_grad():\n",
    "            outputs = model_multi(**enc)\n",
    "            logits = outputs.logits\n",
    "            preds = torch.argmax(logits, dim=1).cpu().numpy()\n",
    "\n",
    "        preds_all.extend(preds)\n",
    "\n",
    "    return np.array(preds_all)\n",
    "sample_preds = predict_multiclass(df[\"text\"].tolist()[:500], batch_size=8)"
   ]
  },
  {
   "cell_type": "code",
   "execution_count": 116,
   "id": "12b0403c",
   "metadata": {},
   "outputs": [],
   "source": [
    "df[\"pred_multiclass\"] = predict_multiclass(df[\"text\"].tolist(), batch_size=8)\n",
    "label_map = {0: \"Negative\", 1: \"Neutral\", 2: \"Positive\"}\n",
    "df[\"multi_sentiment\"] = df[\"pred_multiclass\"].map(label_map)"
   ]
  },
  {
   "cell_type": "code",
   "execution_count": 117,
   "id": "afe38341",
   "metadata": {},
   "outputs": [
    {
     "name": "stderr",
     "output_type": "stream",
     "text": [
      "2025-10-19 02:24:52.230 Thread 'MainThread': missing ScriptRunContext! This warning can be ignored when running in bare mode.\n",
      "2025-10-19 02:24:52.235 Thread 'MainThread': missing ScriptRunContext! This warning can be ignored when running in bare mode.\n",
      "2025-10-19 02:24:52.240 Thread 'MainThread': missing ScriptRunContext! This warning can be ignored when running in bare mode.\n",
      "2025-10-19 02:24:53.180 Thread 'MainThread': missing ScriptRunContext! This warning can be ignored when running in bare mode.\n",
      "2025-10-19 02:24:53.186 Thread 'MainThread': missing ScriptRunContext! This warning can be ignored when running in bare mode.\n",
      "2025-10-19 02:24:53.188 Thread 'MainThread': missing ScriptRunContext! This warning can be ignored when running in bare mode.\n",
      "2025-10-19 02:24:55.434 Thread 'MainThread': missing ScriptRunContext! This warning can be ignored when running in bare mode.\n",
      "2025-10-19 02:24:55.437 Thread 'MainThread': missing ScriptRunContext! This warning can be ignored when running in bare mode.\n",
      "2025-10-19 02:24:55.440 Thread 'MainThread': missing ScriptRunContext! This warning can be ignored when running in bare mode.\n"
     ]
    },
    {
     "data": {
      "text/plain": [
       "DeltaGenerator()"
      ]
     },
     "execution_count": 117,
     "metadata": {},
     "output_type": "execute_result"
    }
   ],
   "source": [
    "# visualize\n",
    "st.subheader(\"📊 Multiclass Sentiment Trends\")\n",
    "trend_df = df.groupby([\"parent_brand\", \"multi_sentiment\"]).size().unstack(fill_value=0)\n",
    "st.bar_chart(trend_df)\n",
    "\n",
    "wandb.log({\"multiclass_trends\": wandb.Table(dataframe=trend_df)})\n",
    "st.caption(\"Sentiment distribution by brand (Positive / Neutral / Negative)\")"
   ]
  },
  {
   "cell_type": "code",
   "execution_count": 118,
   "id": "0d311121",
   "metadata": {},
   "outputs": [
    {
     "name": "stderr",
     "output_type": "stream",
     "text": [
      "2025-10-19 02:24:57.556 Thread 'MainThread': missing ScriptRunContext! This warning can be ignored when running in bare mode.\n",
      "2025-10-19 02:24:57.559 Thread 'MainThread': missing ScriptRunContext! This warning can be ignored when running in bare mode.\n",
      "2025-10-19 02:24:57.564 Thread 'MainThread': missing ScriptRunContext! This warning can be ignored when running in bare mode.\n",
      "2025-10-19 02:24:57.762 Thread 'MainThread': missing ScriptRunContext! This warning can be ignored when running in bare mode.\n",
      "2025-10-19 02:24:57.901 Thread 'MainThread': missing ScriptRunContext! This warning can be ignored when running in bare mode.\n",
      "2025-10-19 02:24:57.903 Thread 'MainThread': missing ScriptRunContext! This warning can be ignored when running in bare mode.\n",
      "2025-10-19 02:24:57.904 Thread 'MainThread': missing ScriptRunContext! This warning can be ignored when running in bare mode.\n"
     ]
    },
    {
     "data": {
      "text/plain": [
       "DeltaGenerator()"
      ]
     },
     "execution_count": 118,
     "metadata": {},
     "output_type": "execute_result"
    }
   ],
   "source": [
    "# Display binary alerts table(negative tweets)\n",
    "st.subheader(\"🚨 Negative Tweets\")\n",
    "negative_alerts = df[df[\"binary_sentiment\"] == \"Negative\"].sort_values(by=\"negative_prob\", ascending=False)\n",
    "st.dataframe(\n",
    "    negative_alerts[[\"brand\", \"text\", \"negative_prob\"]].style.applymap(\n",
    "    lambda x: \"background-color: #FFCCCC\" if isinstance (x, (float,int)) and x > 0.7 else \"\")\n",
    "        )   "
   ]
  },
  {
   "cell_type": "markdown",
   "id": "20dc6fa3",
   "metadata": {},
   "source": [
    "The **Streamlit App Features** are as follows:\n",
    "- Binary Model Core\n",
    "  - Detects negative tweets in real time.\n",
    "  - Displays a red-flag alert table with `negative_prop` to prioritize critical tweets.\n",
    "\n",
    "- Multiclass Model Insights\n",
    "  - Generates Positive, Neutral, and Negative predictions for uploaded tweets.\n",
    "  - Aggregates trends by `parent_brand` for clear visualizations.\n",
    "\n",
    "- Filters\n",
    "  - Sidebar filters for brand(\"Apple, Google, or All)\n",
    "  - Dynamically shows model performance for Negative Class.\n",
    "\n",
    "-WandB Intergration\n",
    "  - Logs negative probabilities, binary predictions and multiclass trend tables\n",
    "  - Enables monitoring of model performance and trends over time.\n",
    "\n",
    "**Next Steps:** \n",
    "\n",
    "Copy the deployment code into `sentiment_app.py` to create the interactive Streamlit app. \n",
    "Then run it in the terminal using **streamlit run sentiment_app.py** then avail it online:\n",
    "\n"
   ]
  }
 ],
 "metadata": {
  "kernelspec": {
   "display_name": "sentiment_env",
   "language": "python",
   "name": "python3"
  },
  "language_info": {
   "codemirror_mode": {
    "name": "ipython",
    "version": 3
   },
   "file_extension": ".py",
   "mimetype": "text/x-python",
   "name": "python",
   "nbconvert_exporter": "python",
   "pygments_lexer": "ipython3",
   "version": "3.10.18"
  }
 },
 "nbformat": 4,
 "nbformat_minor": 5
}
